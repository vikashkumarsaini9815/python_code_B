{
 "cells": [
  {
   "cell_type": "markdown",
   "metadata": {},
   "source": [
    "#  Q.  Parectice in Python"
   ]
  },
  {
   "cell_type": "code",
   "execution_count": null,
   "metadata": {},
   "outputs": [],
   "source": [
    "#   Q . WAP  for a reverce a string "
   ]
  },
  {
   "cell_type": "code",
   "execution_count": null,
   "metadata": {},
   "outputs": [],
   "source": [
    "#  ANS . \n",
    "\n",
    "str1 = \"my name is vikash saini\"\n",
    "result = str1[-1::-1]\n",
    "print(result)\n",
    "    "
   ]
  },
  {
   "cell_type": "code",
   "execution_count": null,
   "metadata": {},
   "outputs": [],
   "source": [
    "# Q.  WAP for cunt A to Z  charecter in given sentence"
   ]
  },
  {
   "cell_type": "code",
   "execution_count": null,
   "metadata": {},
   "outputs": [],
   "source": [
    "# ANS .  \n",
    "\n",
    "str2 = \"adafcgssvhjklbbbbbbbbbm\"\n",
    "count1 = 0\n",
    "for i2 in range(97,123):\n",
    "    count1 = 0\n",
    "    for i3 in str2:\n",
    "       # print(i3)\n",
    "        if chr(i2) == i3:\n",
    "            count1 = count1 + 1\n",
    "    print(chr(i2),count1)"
   ]
  },
  {
   "cell_type": "code",
   "execution_count": null,
   "metadata": {},
   "outputs": [],
   "source": [
    "dict1 ={\"a\":5}\n",
    "a = 3"
   ]
  },
  {
   "cell_type": "code",
   "execution_count": null,
   "metadata": {},
   "outputs": [],
   "source": [
    "value = dict1[\"a\"]\n",
    "value = value + a\n",
    "dict1[\"a\"]=value\n",
    "dict1"
   ]
  },
  {
   "cell_type": "code",
   "execution_count": null,
   "metadata": {},
   "outputs": [],
   "source": [
    "dict1[\"a\"]=dict1[\"a\"]+1\n",
    "dict1"
   ]
  },
  {
   "cell_type": "code",
   "execution_count": null,
   "metadata": {},
   "outputs": [],
   "source": [
    "dict1[\"b\"]=1\n",
    "dict1"
   ]
  },
  {
   "cell_type": "code",
   "execution_count": null,
   "metadata": {},
   "outputs": [],
   "source": [
    "key = dict1.keys()\n",
    "key"
   ]
  },
  {
   "cell_type": "code",
   "execution_count": null,
   "metadata": {},
   "outputs": [],
   "source": [
    "# how to check in dictionary key exist or not "
   ]
  },
  {
   "cell_type": "code",
   "execution_count": null,
   "metadata": {},
   "outputs": [],
   "source": []
  },
  {
   "cell_type": "code",
   "execution_count": null,
   "metadata": {},
   "outputs": [],
   "source": []
  },
  {
   "cell_type": "code",
   "execution_count": null,
   "metadata": {},
   "outputs": [],
   "source": []
  },
  {
   "cell_type": "code",
   "execution_count": null,
   "metadata": {},
   "outputs": [],
   "source": [
    "a b  c \n",
    "a  = apple\n",
    "b = orenge\n",
    "c = apple , orenge"
   ]
  },
  {
   "cell_type": "code",
   "execution_count": null,
   "metadata": {},
   "outputs": [],
   "source": []
  },
  {
   "cell_type": "code",
   "execution_count": null,
   "metadata": {},
   "outputs": [],
   "source": [
    "a = [3,15,5,2,6,17,87,8,1200,123,5,17,765,88,99]\n",
    "[88,99,3,15,5,2,6,17,87,8,1200,123,5,17,765]"
   ]
  },
  {
   "cell_type": "code",
   "execution_count": null,
   "metadata": {},
   "outputs": [],
   "source": [
    "s =a[-1::-1]\n",
    "print(s)"
   ]
  },
  {
   "cell_type": "code",
   "execution_count": null,
   "metadata": {},
   "outputs": [],
   "source": []
  },
  {
   "cell_type": "code",
   "execution_count": null,
   "metadata": {},
   "outputs": [],
   "source": [
    "b=[3,15,5,2,6,17,87,8,1200,123,5,17,765,88,3,99,5,15,5]\n",
    "\n",
    "for i in b:\n",
    "    x = b.count(i)\n",
    "    print(i, \":-\" ,x)"
   ]
  },
  {
   "cell_type": "code",
   "execution_count": null,
   "metadata": {},
   "outputs": [],
   "source": [
    "list3=[3,15,5,2,6,17,87,8,1200,123,5,17,765,88,3,99,5,15,5]\n",
    "count = 0\n",
    "list4 = []\n",
    "for ii in list3:\n",
    "    if ii not in list4:\n",
    "        list4.append(ii)\n",
    "    elif ii in list4:\n",
    "        count = count + 1\n",
    "print(list4, count)   "
   ]
  },
  {
   "cell_type": "code",
   "execution_count": null,
   "metadata": {},
   "outputs": [],
   "source": []
  },
  {
   "cell_type": "code",
   "execution_count": null,
   "metadata": {},
   "outputs": [],
   "source": [
    "# wap count of word in string in python\n",
    "\n",
    "str0 = \"i am a good boy\"\n",
    "spaceless_str1 = str0.strip()\n",
    "count1 = 0\n",
    "for ele in spaceless_str1:\n",
    "    if ele == \" \":\n",
    "        count1 += 1\n",
    "\n",
    "print(count1)"
   ]
  },
  {
   "cell_type": "code",
   "execution_count": 3,
   "metadata": {},
   "outputs": [],
   "source": [
    "# wap reverse word in string"
   ]
  },
  {
   "cell_type": "code",
   "execution_count": 2,
   "metadata": {},
   "outputs": [
    {
     "name": "stdout",
     "output_type": "stream",
     "text": [
      "morning good hi\n"
     ]
    }
   ],
   "source": [
    "str25 = \"hi good morning\"\n",
    "rev = str25.split()\n",
    "rev.reverse()\n",
    "result = \" \".join(rev)\n",
    "print(result)"
   ]
  },
  {
   "cell_type": "code",
   "execution_count": null,
   "metadata": {},
   "outputs": [],
   "source": []
  },
  {
   "cell_type": "code",
   "execution_count": null,
   "metadata": {},
   "outputs": [],
   "source": [
    "# what is polindrome no\n",
    "# wap polindrome no\n",
    "\n",
    "# ANS . polindrome no is interzer same in forword or reverse \n",
    "\n",
    "# ANS . "
   ]
  },
  {
   "cell_type": "code",
   "execution_count": 1,
   "metadata": {},
   "outputs": [
    {
     "name": "stdout",
     "output_type": "stream",
     "text": [
      "not polindrome no\n"
     ]
    }
   ],
   "source": [
    "a = 552\n",
    "b = str(a)\n",
    "w =b[::-1]\n",
    "x = int(w)\n",
    "if a == x:\n",
    "    print(\"yes this number polindrome\")\n",
    "else:\n",
    "    print(\"not polindrome no\")"
   ]
  },
  {
   "cell_type": "code",
   "execution_count": 3,
   "metadata": {},
   "outputs": [
    {
     "name": "stdout",
     "output_type": "stream",
     "text": [
      "Enter check number212\n",
      "212\n",
      "yes number is polindrome\n"
     ]
    }
   ],
   "source": [
    "# other method\n",
    "num = input(\"Enter check number\")\n",
    "print(num)\n",
    "if num == num[::-1]:\n",
    "    print(\"yes number is polindrome\")\n",
    "    \n",
    "else:\n",
    "    print(\"this is number not polindrome\")\n"
   ]
  },
  {
   "cell_type": "code",
   "execution_count": 15,
   "metadata": {},
   "outputs": [
    {
     "ename": "SyntaxError",
     "evalue": "invalid syntax (<ipython-input-15-e8dd1db38f5b>, line 1)",
     "output_type": "error",
     "traceback": [
      "\u001b[1;36m  File \u001b[1;32m\"<ipython-input-15-e8dd1db38f5b>\"\u001b[1;36m, line \u001b[1;32m1\u001b[0m\n\u001b[1;33m    t=\u001b[0m\n\u001b[1;37m      ^\u001b[0m\n\u001b[1;31mSyntaxError\u001b[0m\u001b[1;31m:\u001b[0m invalid syntax\n"
     ]
    }
   ],
   "source": [
    "t=\n",
    "t //= 10\n",
    "print(t)"
   ]
  },
  {
   "cell_type": "code",
   "execution_count": 15,
   "metadata": {},
   "outputs": [
    {
     "name": "stdout",
     "output_type": "stream",
     "text": [
      "343\n"
     ]
    }
   ],
   "source": [
    "g =0\n",
    "g += 7 ** 3\n",
    "print(g)"
   ]
  },
  {
   "cell_type": "code",
   "execution_count": null,
   "metadata": {},
   "outputs": [],
   "source": [
    "a = 407\n",
    "e = 0\n",
    "while a > 0 :\n",
    "    d = a % 10\n",
    "    e += d ** 3\n",
    "print(e)"
   ]
  },
  {
   "cell_type": "code",
   "execution_count": 2,
   "metadata": {},
   "outputs": [
    {
     "name": "stdout",
     "output_type": "stream",
     "text": [
      "Enter a number: 202\n",
      "202 is not an Armstrong number\n"
     ]
    }
   ],
   "source": [
    "# Python program to check if the number is an Armstrong number or not\n",
    "\n",
    "# take input from the user\n",
    "num = int(input(\"Enter a number: \"))\n",
    "\n",
    "# initialize sum\n",
    "sum = 0\n",
    "\n",
    "# find the sum of the cube of each digit\n",
    "temp = num\n",
    "while temp > 0:\n",
    "    digit = temp % 10\n",
    "    sum += digit ** 3\n",
    "    temp //= 10\n",
    "\n",
    "# display the result\n",
    "if num == sum:\n",
    "    print(num,\"is an Armstrong number\")\n",
    "else:\n",
    "    print(num,\"is not an Armstrong number\")"
   ]
  },
  {
   "cell_type": "code",
   "execution_count": null,
   "metadata": {},
   "outputs": [],
   "source": [
    "# what is armstrong no \n",
    "# ANS .  Armstrong no is 407  = 4*4*4+0*0*0+7*7*7  Exa: 153,370"
   ]
  },
  {
   "cell_type": "code",
   "execution_count": 23,
   "metadata": {},
   "outputs": [
    {
     "name": "stdout",
     "output_type": "stream",
     "text": [
      "Enter check armstrong number370\n",
      "it is armstrong no\n"
     ]
    }
   ],
   "source": [
    "num = int(input(\"Enter check armstrong number\"))\n",
    "sum = 0 \n",
    "temp = num\n",
    "while temp > 0:\n",
    "    res = temp % 10\n",
    "    sum += res ** 3 \n",
    "    temp //= 10\n",
    "    \n",
    "if num == sum:\n",
    "    print(\"it is armstrong no\")\n",
    "else:\n",
    "    print(\"it is not armstron\")"
   ]
  },
  {
   "cell_type": "code",
   "execution_count": null,
   "metadata": {},
   "outputs": [],
   "source": []
  },
  {
   "cell_type": "code",
   "execution_count": null,
   "metadata": {},
   "outputs": [],
   "source": [
    "# what is strong number \n",
    "# Ans. A Strong number is a special number whose sum of \n",
    "# the all digit factorial should be equal to the number itself.\n",
    "\n",
    "#                      or \n",
    "\n",
    "#  strong no mians ek esa no jiske ek ek digit ko bhajay kar ke or add karne pr equal aata hai\n",
    "\n",
    "\n",
    "\n",
    "\n",
    "\n",
    " "
   ]
  },
  {
   "cell_type": "code",
   "execution_count": null,
   "metadata": {},
   "outputs": [],
   "source": []
  },
  {
   "cell_type": "code",
   "execution_count": null,
   "metadata": {},
   "outputs": [],
   "source": [
    "# what is factorial and factorial no\n",
    "\n"
   ]
  }
 ],
 "metadata": {
  "kernelspec": {
   "display_name": "Python 3",
   "language": "python",
   "name": "python3"
  },
  "language_info": {
   "codemirror_mode": {
    "name": "ipython",
    "version": 3
   },
   "file_extension": ".py",
   "mimetype": "text/x-python",
   "name": "python",
   "nbconvert_exporter": "python",
   "pygments_lexer": "ipython3",
   "version": "3.8.5"
  }
 },
 "nbformat": 4,
 "nbformat_minor": 4
}
