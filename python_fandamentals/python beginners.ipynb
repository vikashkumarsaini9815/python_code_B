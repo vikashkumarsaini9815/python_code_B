{
 "cells": [
  {
   "cell_type": "markdown",
   "metadata": {},
   "source": [
    "# Python Tutorial"
   ]
  },
  {
   "cell_type": "code",
   "execution_count": null,
   "metadata": {},
   "outputs": [],
   "source": []
  },
  {
   "cell_type": "markdown",
   "metadata": {},
   "source": [
    "Python frist program"
   ]
  },
  {
   "cell_type": "code",
   "execution_count": 1,
   "metadata": {
    "tags": []
   },
   "outputs": [
    {
     "name": "stdout",
     "output_type": "stream",
     "text": [
      "hello program\n"
     ]
    }
   ],
   "source": [
    "print(\"hello program\")"
   ]
  },
  {
   "cell_type": "code",
   "execution_count": 10,
   "metadata": {},
   "outputs": [
    {
     "name": "stdout",
     "output_type": "stream",
     "text": [
      "hi\n"
     ]
    }
   ],
   "source": [
    "#  python ke sath os module  \n",
    "import os\n",
    "print('hi')"
   ]
  },
  {
   "cell_type": "code",
   "execution_count": 6,
   "metadata": {},
   "outputs": [
    {
     "name": "stdout",
     "output_type": "stream",
     "text": [
      "hi my name\n",
      "is vicky kumar saini\n",
      "i am from jaipur\n"
     ]
    }
   ],
   "source": [
    "print('''hi my name\n",
    "is vicky kumar saini\n",
    "i am from jaipur'''\n",
    ")"
   ]
  },
  {
   "cell_type": "code",
   "execution_count": 11,
   "metadata": {},
   "outputs": [
    {
     "name": "stdout",
     "output_type": "stream",
     "text": [
      " hi my name is \n",
      "vicky kumar \n",
      "saini \n"
     ]
    }
   ],
   "source": [
    "print(\"\"\" hi my name is \n",
    "vicky kumar \n",
    "saini \"\"\")"
   ]
  },
  {
   "cell_type": "markdown",
   "metadata": {},
   "source": [
    "# comments "
   ]
  },
  {
   "cell_type": "code",
   "execution_count": 12,
   "metadata": {},
   "outputs": [],
   "source": [
    "#  2 type of comments\n",
    "#  1 . Single line comments - written using #\n",
    "#  2 . Multi-line comments – Written using ‘’’ Comment ‘’’ or “”” Comment “””."
   ]
  },
  {
   "cell_type": "markdown",
   "metadata": {},
   "source": [
    "# install extarnal module in python "
   ]
  },
  {
   "cell_type": "code",
   "execution_count": 11,
   "metadata": {},
   "outputs": [
    {
     "ename": "ModuleNotFoundError",
     "evalue": "No module named 'playsound'",
     "output_type": "error",
     "traceback": [
      "\u001b[1;31m---------------------------------------------------------------------------\u001b[0m",
      "\u001b[1;31mModuleNotFoundError\u001b[0m                       Traceback (most recent call last)",
      "\u001b[1;32m<ipython-input-11-29759aa0e838>\u001b[0m in \u001b[0;36m<module>\u001b[1;34m\u001b[0m\n\u001b[1;32m----> 1\u001b[1;33m \u001b[1;32mfrom\u001b[0m \u001b[0mplaysound\u001b[0m \u001b[1;32mimport\u001b[0m \u001b[0mplaysound\u001b[0m\u001b[1;33m\u001b[0m\u001b[1;33m\u001b[0m\u001b[0m\n\u001b[0m\u001b[0;32m      2\u001b[0m \u001b[0mplaysound\u001b[0m\u001b[1;33m(\u001b[0m\u001b[1;34m'C:\\\\\\\\music\\\\\\\\song.mp3'\u001b[0m\u001b[1;33m)\u001b[0m\u001b[1;33m\u001b[0m\u001b[1;33m\u001b[0m\u001b[0m\n",
      "\u001b[1;31mModuleNotFoundError\u001b[0m: No module named 'playsound'"
     ]
    }
   ],
   "source": [
    "from playsound import playsound\n",
    "playsound('C:\\\\\\\\music\\\\\\\\song.mp3')"
   ]
  },
  {
   "cell_type": "code",
   "execution_count": 1,
   "metadata": {},
   "outputs": [
    {
     "name": "stdout",
     "output_type": "stream",
     "text": [
      "['.ipynb_checkpoints', 'python beginners.ipynb']\n"
     ]
    }
   ],
   "source": [
    "# Write a python program to print the contents of a directory using os module. Search online for the function which does that.\n",
    "\n",
    "import os \n",
    "\n",
    "print (os.listdir())"
   ]
  },
  {
   "cell_type": "markdown",
   "metadata": {},
   "source": [
    "#  variables "
   ]
  },
  {
   "cell_type": "code",
   "execution_count": 23,
   "metadata": {},
   "outputs": [
    {
     "name": "stdout",
     "output_type": "stream",
     "text": [
      "<class 'int'>\n"
     ]
    }
   ],
   "source": [
    "#  ==>    A variable is a name given to a memory location in a program.\n",
    "#  ==>    Variable – Container to store a value\n",
    "#         For example  :-\n",
    "a = 4\n",
    "b = 123\n",
    "print(type(a))"
   ]
  },
  {
   "cell_type": "markdown",
   "metadata": {},
   "source": [
    "# keywords"
   ]
  },
  {
   "cell_type": "code",
   "execution_count": 5,
   "metadata": {},
   "outputs": [
    {
     "data": {
      "text/plain": [
       "'  False\\tawait\\telse\\timport\\tpass\\n     None\\tbreak\\texcept\\tin\\traise\\n     True\\tclass\\tfinally\\tis\\treturn\\n     and\\tcontinue\\tfor\\tlambda\\ttry\\n     as\\tdef\\tfrom\\tnonlocal\\twhile\\n     assert\\tdel\\tglobal\\tnot\\twith\\n     async\\telif\\tif\\tor\\tyield  '"
      ]
     },
     "execution_count": 5,
     "metadata": {},
     "output_type": "execute_result"
    }
   ],
   "source": [
    "#    ==>   Reserved words in Python\n",
    "#          like \n",
    "\"\"\"  False\tawait\telse\timport\tpass\n",
    "     None\tbreak\texcept\tin\traise\n",
    "     True\tclass\tfinally\tis\treturn\n",
    "     and\tcontinue\tfor\tlambda\ttry\n",
    "     as\tdef\tfrom\tnonlocal\twhile\n",
    "     assert\tdel\tglobal\tnot\twith\n",
    "     async\telif\tif\tor\tyield  \"\"\""
   ]
  },
  {
   "cell_type": "code",
   "execution_count": null,
   "metadata": {},
   "outputs": [],
   "source": []
  },
  {
   "cell_type": "markdown",
   "metadata": {},
   "source": [
    "# Data types"
   ]
  },
  {
   "cell_type": "code",
   "execution_count": 7,
   "metadata": {},
   "outputs": [],
   "source": [
    "#  ==>    two types of Data types \n",
    "#  1  premativ Datatype :-  this datatype is predefaine \n",
    "#         Exa :-  int , char , booleans ,string ,None ,floting number\n",
    "#  2  nonpremativ Datatype :-  this datatype is userdifaine\n",
    "#         Exa :-  list ,tuple ,dic"
   ]
  },
  {
   "cell_type": "code",
   "execution_count": null,
   "metadata": {},
   "outputs": [],
   "source": [
    "#  Python is a fantastic language that automatically identifies the type of data for us."
   ]
  },
  {
   "cell_type": "code",
   "execution_count": 8,
   "metadata": {},
   "outputs": [
    {
     "name": "stdout",
     "output_type": "stream",
     "text": [
      "vicky  vicky\n",
      "kumar\n",
      "saini  123 12.55 True None\n"
     ]
    }
   ],
   "source": [
    "a = \"vicky\"\n",
    "b = ''' vicky\n",
    "kumar\n",
    "saini '''\n",
    "c = 123\n",
    "d = 12.55\n",
    "e = True\n",
    "f = None\n",
    "\n",
    "print(a,b,c,d,e,f)"
   ]
  },
  {
   "cell_type": "code",
   "execution_count": 10,
   "metadata": {},
   "outputs": [
    {
     "name": "stdout",
     "output_type": "stream",
     "text": [
      "<class 'str'>\n",
      "<class 'str'>\n",
      "<class 'int'>\n",
      "<class 'float'>\n",
      "<class 'bool'>\n",
      "<class 'NoneType'>\n"
     ]
    }
   ],
   "source": [
    "# printing the type of variables\n",
    "\n",
    "print (type(a))\n",
    "print (type(b))\n",
    "print (type(c))\n",
    "print (type(d))\n",
    "print (type(e))\n",
    "print (type(f))"
   ]
  },
  {
   "cell_type": "markdown",
   "metadata": {},
   "source": [
    "# Rules for defining a variable name:"
   ]
  },
  {
   "cell_type": "code",
   "execution_count": 11,
   "metadata": {},
   "outputs": [
    {
     "data": {
      "text/plain": [
       "' *  A variable name can contain alphabets, digits, and underscore.\\n    *  A variable name can only start with an alphabet and underscore.\\n    *  A variable can’t start with a digit.\\n    *  No white space is allowed to be used inside a variable name.  '"
      ]
     },
     "execution_count": 11,
     "metadata": {},
     "output_type": "execute_result"
    }
   ],
   "source": [
    "''' *  A variable name can contain alphabets, digits, and underscore.\n",
    "    *  A variable name can only start with an alphabet and underscore.\n",
    "    *  A variable can’t start with a digit.\n",
    "    *  No white space is allowed to be used inside a variable name.\n",
    "    *  variable case sencitiv hota                                     '''"
   ]
  },
  {
   "cell_type": "code",
   "execution_count": 28,
   "metadata": {},
   "outputs": [
    {
     "name": "stdout",
     "output_type": "stream",
     "text": [
      "10\n",
      "20\n"
     ]
    }
   ],
   "source": [
    "#  variable case sencitiv hota hai\n",
    "\n",
    "# Exa :-  \n",
    "    \n",
    "a = 10\n",
    "A = 20\n",
    "\n",
    "print(a)\n",
    "\n",
    "# this is not same variables \n",
    "\n",
    "print (A)"
   ]
  },
  {
   "cell_type": "markdown",
   "metadata": {},
   "source": [
    "# Operators in Python"
   ]
  },
  {
   "cell_type": "code",
   "execution_count": 14,
   "metadata": {},
   "outputs": [],
   "source": [
    "#  The following are some common operators in Python:\n",
    "\n",
    "# Arithmetic Operators (+, -, *, /, etc.)\n",
    "# Assignment Operators (=, +=, -=, etc.)\n",
    "# Comparison Operators (==, >=, <=, >, <, !=, etc.)\n",
    "# Logical Operators (and, or, not)"
   ]
  },
  {
   "cell_type": "code",
   "execution_count": null,
   "metadata": {},
   "outputs": [],
   "source": []
  },
  {
   "cell_type": "code",
   "execution_count": 16,
   "metadata": {},
   "outputs": [
    {
     "name": "stdout",
     "output_type": "stream",
     "text": [
      "the vlue of 2 + 6 :-  8\n",
      "the vlue of 2 - 6 :-  -4\n",
      "the vlue of 2 * 6 :-  12\n",
      "the vlue of 2 / 6 :-  0.3333333333333333\n"
     ]
    }
   ],
   "source": [
    "# Arithmetic Operators\n",
    "\n",
    "print (\"the vlue of 2 + 6 :- \" , 2 + 6)\n",
    "print (\"the vlue of 2 - 6 :- \" , 2 - 6)\n",
    "print (\"the vlue of 2 * 6 :- \" , 2 * 6)\n",
    "print (\"the vlue of 2 / 6 :- \" , 2 / 6)"
   ]
  },
  {
   "cell_type": "code",
   "execution_count": 44,
   "metadata": {},
   "outputs": [
    {
     "name": "stdout",
     "output_type": "stream",
     "text": [
      "20\n",
      "30\n",
      "25\n"
     ]
    }
   ],
   "source": [
    "# Assignment Operators \n",
    "\n",
    "a = 20\n",
    "print(a)\n",
    "\n",
    "a += 10\n",
    "print(a)\n",
    "\n",
    "a -= 5\n",
    "print(a)"
   ]
  },
  {
   "cell_type": "code",
   "execution_count": 55,
   "metadata": {},
   "outputs": [
    {
     "name": "stdout",
     "output_type": "stream",
     "text": [
      "True\n"
     ]
    }
   ],
   "source": [
    "# Comparison Operators\n",
    "\n",
    "a = 5\n",
    "#b = 4\n",
    "#print(b)\n",
    "#b = (15 < 4)\n",
    "#b = (15 > 4)\n",
    "#b = (15 <= 20)\n",
    "# b = (15 >= 4)\n",
    "#b = (15 == 4)\n",
    "print(b)"
   ]
  },
  {
   "cell_type": "code",
   "execution_count": null,
   "metadata": {},
   "outputs": [],
   "source": []
  },
  {
   "cell_type": "code",
   "execution_count": 70,
   "metadata": {},
   "outputs": [
    {
     "name": "stdout",
     "output_type": "stream",
     "text": [
      "the vlue of not bool2 is True\n"
     ]
    }
   ],
   "source": [
    "# Logical Operators\n",
    "\n",
    "bool1 = True\n",
    "bool2 = False\n",
    "#print (\"the vlue of bool1 and bool2 is\",(bool1 and bool2))\n",
    "#print (\"the vlue of bool1 or bool2 is\",(bool1 or bool2))\n",
    "print (\"the vlue of not bool2 is\",(not bool2))"
   ]
  },
  {
   "cell_type": "code",
   "execution_count": null,
   "metadata": {},
   "outputs": [],
   "source": []
  },
  {
   "cell_type": "markdown",
   "metadata": {},
   "source": [
    "# type casting"
   ]
  },
  {
   "cell_type": "code",
   "execution_count": 13,
   "metadata": {},
   "outputs": [
    {
     "name": "stdout",
     "output_type": "stream",
     "text": [
      "<class 'int'>\n",
      "1240\n"
     ]
    }
   ],
   "source": [
    "# A number can be converted into a string and vice versa (if possible)\n",
    "# There are many functions to convert one data type into another.\n",
    "\n",
    "#                      or\n",
    "\n",
    "#  typecasting using in a datatype to convert another datatype \n",
    "\n",
    "\n",
    "a = '1234'\n",
    "#print (a+6)\n",
    "#print (type(a))\n",
    "#print (a)\n",
    "\n",
    "# using typecasting \n",
    "a = int(a)\n",
    "print(type(a+6))\n",
    "print(a+6)"
   ]
  },
  {
   "cell_type": "code",
   "execution_count": null,
   "metadata": {},
   "outputs": [],
   "source": []
  },
  {
   "cell_type": "markdown",
   "metadata": {},
   "source": [
    "# input() function"
   ]
  },
  {
   "cell_type": "code",
   "execution_count": 48,
   "metadata": {},
   "outputs": [],
   "source": [
    "# This function allows the user to take input from the keyboard as a string.\n",
    "\n",
    "# Exa :-  a = input(\"enter name\") \n",
    "\n",
    "#  NOTE :-    The output of the input function is always a string even if the number is entered by the user.\n",
    "\n",
    "#             Suppose if a user enters 34, then this 34 will automatically convert to “34” string literal.\n",
    "\n",
    "\n"
   ]
  },
  {
   "cell_type": "code",
   "execution_count": 17,
   "metadata": {},
   "outputs": [
    {
     "name": "stdout",
     "output_type": "stream",
     "text": [
      "enter number45\n",
      "<class 'int'>\n",
      "45\n"
     ]
    }
   ],
   "source": [
    "#a = input(\"Enter name \")\n",
    "#print(a)\n",
    "#print(type(a))\n",
    "\n",
    "#  ese hi \n",
    "\n",
    "b = input(\"enter number\")\n",
    "b = int(b)  #  convorte datatype \n",
    "print(type(b))\n",
    "print(b)"
   ]
  },
  {
   "cell_type": "markdown",
   "metadata": {},
   "source": [
    "# questions Practice Set"
   ]
  },
  {
   "cell_type": "code",
   "execution_count": null,
   "metadata": {},
   "outputs": [],
   "source": [
    "# 1   Write a Python program to add two numbers.\n",
    "# 2   Write a Python program to find the remainder when a number is divided by Z(Integer).\n",
    "# 3   Check the type of the variable assigned using the input() function.\n",
    "# 4   Use a comparison operator to find out whether a given variable a is greater than b or not. (Take a=34 and b=80)\n",
    "# 5   Write a Python program to find the average of two numbers entered by the user.\n",
    "# 6   Write a Python program to calculate the square of a number entered by the user."
   ]
  },
  {
   "cell_type": "code",
   "execution_count": 3,
   "metadata": {},
   "outputs": [
    {
     "name": "stdout",
     "output_type": "stream",
     "text": [
      "add two numbers  :-  50\n",
      "enter frist number :-1\n",
      "enter second number :-1\n",
      "<class 'str'>\n",
      "11\n"
     ]
    }
   ],
   "source": [
    "#   1 Ans.\n",
    "\n",
    "a = 45\n",
    "b = 5\n",
    "c = a + b\n",
    "print (\"add two numbers  :- \", c )\n",
    "\n",
    "#     or\n",
    "\n",
    "a = input(\"enter frist number :-\" )  #  this is not add number becuse two string number add \n",
    "b = input(\"enter second number :-\")\n",
    "c = a+b \n",
    "print(type(c))\n",
    "print(c)\n"
   ]
  },
  {
   "cell_type": "code",
   "execution_count": 5,
   "metadata": {},
   "outputs": [
    {
     "name": "stdout",
     "output_type": "stream",
     "text": [
      "the remainder a divided by b  0\n"
     ]
    }
   ],
   "source": [
    "#  2 Ans .\n",
    "\n",
    "a = 2\n",
    "b = 10\n",
    "print(\"the remainder a divided by b \", b%a )"
   ]
  },
  {
   "cell_type": "code",
   "execution_count": 7,
   "metadata": {},
   "outputs": [
    {
     "name": "stdout",
     "output_type": "stream",
     "text": [
      "enter the input v\n",
      "v\n",
      "<class 'str'>\n"
     ]
    }
   ],
   "source": [
    "# 3 Ans.\n",
    "a = input(\"enter the input \")\n",
    "print(a)\n",
    "print(type(a))"
   ]
  },
  {
   "cell_type": "code",
   "execution_count": 10,
   "metadata": {},
   "outputs": [
    {
     "name": "stdout",
     "output_type": "stream",
     "text": [
      "False\n"
     ]
    }
   ],
   "source": [
    "# 4 Ans.\n",
    "\n",
    "a = 34\n",
    "b = 80\n",
    "c = a > b\n",
    "print(c)"
   ]
  },
  {
   "cell_type": "code",
   "execution_count": 14,
   "metadata": {},
   "outputs": [
    {
     "name": "stdout",
     "output_type": "stream",
     "text": [
      "Enter frist number5\n",
      "Enter second number5\n",
      "the average of a and b is 5.0\n"
     ]
    }
   ],
   "source": [
    "# 5 Ans.\n",
    "\n",
    "a = input (\"Enter frist number\")\n",
    "b = input (\"Enter second number\")\n",
    "a = int(a)                       # convert datatype str to int\n",
    "b = int(b)\n",
    "ave = (a + b)/2                  \n",
    "print (\"the average of a and b is\",ave)"
   ]
  },
  {
   "cell_type": "code",
   "execution_count": 2,
   "metadata": {},
   "outputs": [
    {
     "name": "stdout",
     "output_type": "stream",
     "text": [
      "Enter number5\n",
      "squer a is : 10\n"
     ]
    }
   ],
   "source": [
    "# 6 Ans.\n",
    "\n",
    "\n",
    "a = input(\"Enter number\")\n",
    "a = int(a)\n",
    "b = 2\n",
    "sque = a * b\n",
    "print(\"squer a is :\" , sque)"
   ]
  },
  {
   "cell_type": "code",
   "execution_count": null,
   "metadata": {},
   "outputs": [],
   "source": []
  },
  {
   "cell_type": "markdown",
   "metadata": {},
   "source": [
    "# Lambda Function "
   ]
  },
  {
   "cell_type": "raw",
   "metadata": {},
   "source": [
    "A lambda function is a small anonymous function\n",
    "\n",
    "a lambda function can take any number argument but only have one exprission"
   ]
  },
  {
   "cell_type": "code",
   "execution_count": 35,
   "metadata": {},
   "outputs": [
    {
     "name": "stdout",
     "output_type": "stream",
     "text": [
      "14\n"
     ]
    }
   ],
   "source": [
    "# Exa :-\n",
    "\n",
    "x = lambda a ,b: a + b\n",
    "print(x(6,8))"
   ]
  },
  {
   "cell_type": "code",
   "execution_count": null,
   "metadata": {},
   "outputs": [],
   "source": []
  },
  {
   "cell_type": "markdown",
   "metadata": {},
   "source": [
    "More then argument"
   ]
  },
  {
   "cell_type": "code",
   "execution_count": 16,
   "metadata": {},
   "outputs": [
    {
     "name": "stdout",
     "output_type": "stream",
     "text": [
      "-5\n"
     ]
    }
   ],
   "source": [
    "z = lambda a,b,c : a+b-c\n",
    "print(z(5,10,20))"
   ]
  },
  {
   "cell_type": "code",
   "execution_count": null,
   "metadata": {},
   "outputs": [],
   "source": []
  },
  {
   "cell_type": "markdown",
   "metadata": {},
   "source": [
    "Defult argument"
   ]
  },
  {
   "cell_type": "code",
   "execution_count": 23,
   "metadata": {},
   "outputs": [
    {
     "name": "stdout",
     "output_type": "stream",
     "text": [
      "15\n"
     ]
    }
   ],
   "source": [
    "y = lambda x,y,z = 10 : x+y+z\n",
    "print(y(2,3))"
   ]
  },
  {
   "cell_type": "code",
   "execution_count": null,
   "metadata": {},
   "outputs": [],
   "source": []
  },
  {
   "cell_type": "code",
   "execution_count": 36,
   "metadata": {},
   "outputs": [
    {
     "name": "stdout",
     "output_type": "stream",
     "text": [
      "hi i am vicky\n"
     ]
    }
   ],
   "source": [
    "str1 =\"hi i am vicky\"\n",
    " \n",
    "# lambda gets pass to print\n",
    "(lambda x : print(x))(str1)"
   ]
  },
  {
   "cell_type": "code",
   "execution_count": null,
   "metadata": {},
   "outputs": [],
   "source": [
    "# List comrehanson\n"
   ]
  },
  {
   "cell_type": "code",
   "execution_count": 38,
   "metadata": {},
   "outputs": [
    {
     "data": {
      "text/plain": [
       "[3, 4, 5, 6, 7, 8, 9]"
      ]
     },
     "execution_count": 38,
     "metadata": {},
     "output_type": "execute_result"
    }
   ],
   "source": [
    "list1=[1,2,3,4,5,6,7]\n",
    "\n",
    "list2=[]\n",
    "for el in list1:\n",
    "    if el%2==0:\n",
    "        list2.append(el+2)\n",
    "list2"
   ]
  },
  {
   "cell_type": "code",
   "execution_count": 48,
   "metadata": {},
   "outputs": [
    {
     "data": {
      "text/plain": [
       "[1, 3, 5, 7]"
      ]
     },
     "execution_count": 48,
     "metadata": {},
     "output_type": "execute_result"
    }
   ],
   "source": [
    "#list3=[expression for el in list  if condition]\n",
    "list3=[el for el in list1 if el%2!=0]\n",
    "list3"
   ]
  },
  {
   "cell_type": "code",
   "execution_count": null,
   "metadata": {},
   "outputs": [],
   "source": [
    "# with lambda"
   ]
  },
  {
   "cell_type": "code",
   "execution_count": 46,
   "metadata": {},
   "outputs": [
    {
     "data": {
      "text/plain": [
       "[7, 14, 21, 28, 35, 42, 49]"
      ]
     },
     "execution_count": 46,
     "metadata": {},
     "output_type": "execute_result"
    }
   ],
   "source": [
    "list4=[(lambda x :x*7)(el) for el in list1]\n",
    "list4"
   ]
  },
  {
   "cell_type": "code",
   "execution_count": null,
   "metadata": {},
   "outputs": [],
   "source": []
  },
  {
   "cell_type": "code",
   "execution_count": 47,
   "metadata": {},
   "outputs": [],
   "source": [
    "# tables = [lambda x=x: x*10 for  in range(1, 11)]\n",
    " \n",
    "# for table in tables:\n",
    "#     print(table())"
   ]
  },
  {
   "cell_type": "markdown",
   "metadata": {},
   "source": [
    "# MAP()"
   ]
  },
  {
   "cell_type": "code",
   "execution_count": null,
   "metadata": {},
   "outputs": [],
   "source": []
  },
  {
   "cell_type": "code",
   "execution_count": null,
   "metadata": {},
   "outputs": [],
   "source": []
  },
  {
   "cell_type": "markdown",
   "metadata": {},
   "source": [
    "# Filter ()"
   ]
  },
  {
   "cell_type": "code",
   "execution_count": null,
   "metadata": {},
   "outputs": [],
   "source": []
  },
  {
   "cell_type": "code",
   "execution_count": null,
   "metadata": {},
   "outputs": [],
   "source": []
  },
  {
   "cell_type": "markdown",
   "metadata": {},
   "source": [
    "# Reduse()"
   ]
  },
  {
   "cell_type": "code",
   "execution_count": null,
   "metadata": {},
   "outputs": [],
   "source": []
  },
  {
   "cell_type": "code",
   "execution_count": null,
   "metadata": {},
   "outputs": [],
   "source": []
  },
  {
   "cell_type": "code",
   "execution_count": null,
   "metadata": {},
   "outputs": [],
   "source": []
  },
  {
   "cell_type": "markdown",
   "metadata": {},
   "source": [
    "#   string"
   ]
  },
  {
   "cell_type": "code",
   "execution_count": 8,
   "metadata": {},
   "outputs": [
    {
     "name": "stdout",
     "output_type": "stream",
     "text": [
      " hi vicky \n",
      "<class 'str'>\n",
      " jaipur's \n",
      " hi i am \n",
      "        vicky \n",
      "c\n",
      " good morning  vicky \n"
     ]
    }
   ],
   "source": [
    "# ==>   The string is a data type in Python.\n",
    "\n",
    "# ==>   A string is a sequence of characters enclosed in quotes.\n",
    "\n",
    "'''\n",
    "We can primarily write a string in three ways:\n",
    "\n",
    "Single quoted strings : a = ‘vicky’\n",
    "Double quoted strings : b = “vicky”\n",
    "Triple quoted strings : c = ‘’’ vicky ‘’’\n",
    "\n",
    "'''\n",
    "\n",
    "a = ' hi vicky '\n",
    "print (a)\n",
    "print (type(a))\n",
    "\n",
    "b = \" jaipur's \"\n",
    "print(b)\n",
    "\n",
    "c = ''' hi i am \n",
    "        vicky '''\n",
    "print(c)\n",
    "\n",
    "\n",
    "# string indexing \n",
    "\n",
    "a = \"vicky\"\n",
    "print(a[2])\n",
    "\n",
    "# concative  two strings\n",
    "\n",
    "grating = \" good morning \"\n",
    "name = \" vicky \"\n",
    "con = grating + name\n",
    "print(con)\n"
   ]
  },
  {
   "cell_type": "markdown",
   "metadata": {},
   "source": [
    "# String Slicing:"
   ]
  },
  {
   "cell_type": "code",
   "execution_count": 2,
   "metadata": {},
   "outputs": [
    {
     "name": "stdout",
     "output_type": "stream",
     "text": [
      "vick\n",
      "vicky\n",
      "ick\n"
     ]
    }
   ],
   "source": [
    "# A string in Python can be sliced for getting a part of the string.\n",
    "\n",
    "name = \"vicky\"\n",
    "\n",
    "print(name[0:4])\n",
    "print(name[0:])\n",
    "# nagative index \n",
    "a = name[-4:-1]\n",
    "print(a)"
   ]
  },
  {
   "cell_type": "markdown",
   "metadata": {},
   "source": [
    "# Slicing with skip value"
   ]
  },
  {
   "cell_type": "code",
   "execution_count": 32,
   "metadata": {},
   "outputs": [
    {
     "name": "stdout",
     "output_type": "stream",
     "text": [
      "vcyi odby\n"
     ]
    }
   ],
   "source": [
    "#  ==>  We can provide a skip value as a part of our slice like this:\n",
    "\n",
    "name = \"vicky is good boy\"\n",
    "print(name[0::2])"
   ]
  },
  {
   "cell_type": "markdown",
   "metadata": {},
   "source": [
    "# String Functions"
   ]
  },
  {
   "cell_type": "code",
   "execution_count": 35,
   "metadata": {},
   "outputs": [
    {
     "name": "stdout",
     "output_type": "stream",
     "text": [
      "39\n"
     ]
    }
   ],
   "source": [
    "# ==>  len() function : It returns the length of the string.\n",
    "\n",
    "story = \"hi my name is raghav i am from bengluru\"\n",
    "length = len(story)\n",
    "print(length)"
   ]
  },
  {
   "cell_type": "code",
   "execution_count": 4,
   "metadata": {},
   "outputs": [
    {
     "name": "stdout",
     "output_type": "stream",
     "text": [
      "True\n"
     ]
    }
   ],
   "source": [
    "# ==> endswith(“rry”) : This function tells whether the variable string ends with the string “rry” or not. If string is “harry”,\n",
    "#                   it returns for “rry” since harry ends with rry.\n",
    "#                                   or\n",
    "\n",
    "#                  yani is string ka last ( word / carectore / space )any  se end ho rhi hai     \n",
    "\n",
    "\n",
    "story = \"hi my name is raghav i am from bengluru but\"\n",
    "#story.endswith(\"but\")\n",
    "print(story.endswith(\"but\"))"
   ]
  },
  {
   "cell_type": "code",
   "execution_count": 18,
   "metadata": {},
   "outputs": [
    {
     "data": {
      "text/plain": [
       "4"
      ]
     },
     "execution_count": 18,
     "metadata": {},
     "output_type": "execute_result"
    }
   ],
   "source": [
    "# ==> count(“c”) : It counts the total number of occurrences of any character.\n",
    "\n",
    "story = \"hi my name is raghav i am from bengluru but\"\n",
    "story.count(\"a\")\n",
    "#print(story.count(\"a\"))"
   ]
  },
  {
   "cell_type": "code",
   "execution_count": 45,
   "metadata": {},
   "outputs": [
    {
     "name": "stdout",
     "output_type": "stream",
     "text": [
      "Hi my name is raghav i am from bengluru but\n"
     ]
    }
   ],
   "source": [
    "# ==> capitalize() : This function capitalizes the first character of a given string.\n",
    "\n",
    "#                    yeh function string ke frist word ko capital kar deta hai\n",
    "\n",
    "story = \"hi my name is raghav i am from bengluru but\"\n",
    "print(story.capitalize())"
   ]
  },
  {
   "cell_type": "code",
   "execution_count": 12,
   "metadata": {},
   "outputs": [
    {
     "name": "stdout",
     "output_type": "stream",
     "text": [
      "I\n",
      " \n",
      "A\n",
      "M\n",
      " \n",
      "A\n",
      " \n",
      "G\n",
      "O\n",
      "O\n",
      "D\n",
      " \n",
      "M\n",
      "A\n",
      "N\n",
      " \n"
     ]
    }
   ],
   "source": [
    "data1 = \"i am a good man \"\n",
    "for ii in data1:\n",
    "    if \" \" in ii:\n",
    "        print(ii)\n",
    "    else:\n",
    "        print(ii.capitalize())\n",
    "    \n",
    "        "
   ]
  },
  {
   "cell_type": "code",
   "execution_count": null,
   "metadata": {},
   "outputs": [],
   "source": []
  },
  {
   "cell_type": "code",
   "execution_count": 53,
   "metadata": {},
   "outputs": [
    {
     "name": "stdout",
     "output_type": "stream",
     "text": [
      "6\n"
     ]
    }
   ],
   "source": [
    "#  ==>  find(word) : This function finds a word and returns the index of first occurrence of that word in the string.\n",
    "\n",
    "story = \"hi my name is raghav i am from bengluru but\"\n",
    "print(story.find(\"name\"))\n",
    "\n"
   ]
  },
  {
   "cell_type": "code",
   "execution_count": 55,
   "metadata": {},
   "outputs": [
    {
     "name": "stdout",
     "output_type": "stream",
     "text": [
      "hi my names is raghav i am from bengluru but\n"
     ]
    }
   ],
   "source": [
    "#  ==>  replace(oldword, newword) : This function replaces the old word with the new word in the entire string.\n",
    "\n",
    "story = \"hi my name is raghav i am from bengluru but\"\n",
    "print(story.replace(\"name\",\"names\"))"
   ]
  },
  {
   "cell_type": "markdown",
   "metadata": {},
   "source": [
    "# Escape Sequence Characters:"
   ]
  },
  {
   "cell_type": "code",
   "execution_count": 1,
   "metadata": {},
   "outputs": [
    {
     "name": "stdout",
     "output_type": "stream",
     "text": [
      "hi my name is raghav\n",
      " i am from bengluru\tbut currenl'y living jaipurra\\jasthan\n"
     ]
    }
   ],
   "source": [
    "# Sequence of characters after backslash ‘\\’ [Escape Sequence Characters]\n",
    "\n",
    "# Escape Sequence Characters comprises of more than one character but represents one character when used within the string.\n",
    "\n",
    "# Examples: \\n (new line), \\t (tab), \\’ (single quote), \\\\ (backslash), etc.\n",
    "\n",
    "story = \"hi my name is raghav\\n i am from bengluru\\tbut currenl\\'y living jaipurra\\\\jasthan\"\n",
    "print(story)\n"
   ]
  },
  {
   "cell_type": "code",
   "execution_count": null,
   "metadata": {},
   "outputs": [],
   "source": []
  },
  {
   "cell_type": "markdown",
   "metadata": {},
   "source": [
    "# questions Practice"
   ]
  },
  {
   "cell_type": "code",
   "execution_count": 3,
   "metadata": {},
   "outputs": [],
   "source": [
    "# Q. 1   Write a Python program to display a user-entered name followed by Good Afternoon using input() function.\n",
    "# Q. 2   Write a program to fill in a letter template given below with name and date.\n",
    "#        letter = ‘’’ Dear <|NAME|>,\n",
    "\n",
    "#                       You are selected!\n",
    "\n",
    "#                       <|DATE|>\n",
    "\n",
    "\n",
    "# Q. 3   Write a program to detect double spaces in a string.\n",
    "# Q. 4   Replace the double spaces from problem 3 with single spaces.\n",
    "# Q. 5   Write a program to format the following letter using escape sequence characters.\n",
    "\n",
    "#        letter = “Dear vicky, This Python course in nice. Thanks!!”"
   ]
  },
  {
   "cell_type": "code",
   "execution_count": 11,
   "metadata": {},
   "outputs": [
    {
     "name": "stdout",
     "output_type": "stream",
     "text": [
      "Enter name \n",
      "vicky\n",
      "good Afternoon vicky\n"
     ]
    }
   ],
   "source": [
    "#  Ans .1\n",
    "\n",
    "name = input(\"Enter name \\n\")\n",
    "print(\"good Afternoon \"+name)"
   ]
  },
  {
   "cell_type": "code",
   "execution_count": 16,
   "metadata": {},
   "outputs": [
    {
     "name": "stdout",
     "output_type": "stream",
     "text": [
      "Enter your namevicky kumar\n",
      "Enter your date15 Jun\n",
      " Dear vicky kumar,\n",
      "              You are selected!\n",
      "              15 Jun\n",
      "          \n"
     ]
    }
   ],
   "source": [
    "# Ans .2 \n",
    "\n",
    "letter = ''' Dear <|NAME|>,\n",
    "              You are selected!\n",
    "              <|DATE|>\n",
    "          '''\n",
    "name = input(\"Enter your name\")\n",
    "date = input(\"Enter your date\")\n",
    "\n",
    "letter = letter.replace(\"<|NAME|>\", name )\n",
    "letter = letter.replace(\"<|DATE|>\" , date)\n",
    "\n",
    "print(letter)"
   ]
  },
  {
   "cell_type": "code",
   "execution_count": 19,
   "metadata": {},
   "outputs": [
    {
     "name": "stdout",
     "output_type": "stream",
     "text": [
      "25\n"
     ]
    }
   ],
   "source": [
    "#  Ans .3\n",
    "\n",
    "str1 = \"Hi My Name is Vicky Kumar  \"\n",
    "print(str1.find(\"  \"))"
   ]
  },
  {
   "cell_type": "code",
   "execution_count": 25,
   "metadata": {},
   "outputs": [
    {
     "name": "stdout",
     "output_type": "stream",
     "text": [
      "Hi      My   Name   is      Vicky   Kumar\n"
     ]
    }
   ],
   "source": [
    "# Ans .4 \n",
    "\n",
    "str1 = \"Hi  My Name is  Vicky Kumar\"\n",
    "str1 = str1.replace(\" \",\"   \")\n",
    "print(str1)"
   ]
  },
  {
   "cell_type": "code",
   "execution_count": 30,
   "metadata": {},
   "outputs": [
    {
     "name": "stdout",
     "output_type": "stream",
     "text": [
      "Dear vicky kumar\n",
      "\t This Python course in nice.\n",
      "Thanks!!\n"
     ]
    }
   ],
   "source": [
    "# Ans .5\n",
    "\n",
    "letter = \"Dear vicky kumar\\n\\t This Python course in nice.\\nThanks!!\"\n",
    "print(letter)\n"
   ]
  },
  {
   "cell_type": "code",
   "execution_count": null,
   "metadata": {},
   "outputs": [],
   "source": []
  },
  {
   "cell_type": "markdown",
   "metadata": {},
   "source": [
    "# Lists in python"
   ]
  },
  {
   "cell_type": "code",
   "execution_count": 25,
   "metadata": {},
   "outputs": [
    {
     "name": "stdout",
     "output_type": "stream",
     "text": [
      "['vicky', 123, 45, 123.99, True]\n",
      "['vicky', 2, 45, 123.99, True]\n"
     ]
    }
   ],
   "source": [
    "#  ==>  Python Lists are containers to store a set of values of any data type.\n",
    "#  ==>  The list can contain different types of elements such as int, float, string, Boolean, etc.\n",
    "#       Above list is a collection of different types of elements.\n",
    "\n",
    "list1 = [\"vicky\" , 123 , 45 , 123.99 , True ]\n",
    "print(list1)\n",
    "\n",
    "list1[1]=2    #  list is muteble \n",
    "print(list1)"
   ]
  },
  {
   "cell_type": "code",
   "execution_count": 29,
   "metadata": {},
   "outputs": [
    {
     "name": "stdout",
     "output_type": "stream",
     "text": [
      "hi\n",
      "False\n"
     ]
    }
   ],
   "source": [
    "#  List Indexing\n",
    "\n",
    "list1 = [\"hi\" , 12 ,23.4 , False , \"vicky\"]\n",
    "print(list1[0])\n",
    "print(list1[-2])"
   ]
  },
  {
   "cell_type": "code",
   "execution_count": 32,
   "metadata": {},
   "outputs": [
    {
     "name": "stdout",
     "output_type": "stream",
     "text": [
      "['hi']\n",
      "[12, 23.4]\n",
      "['hi', 12, 23.4, False, 'vicky']\n"
     ]
    }
   ],
   "source": [
    "#   list slicing \n",
    "\n",
    "list1 = [\"hi\" , 12 ,23.4 , False , \"vicky\"]\n",
    "\n",
    "print(list1[0:1])\n",
    "print(list1[-4:-2])\n",
    "print(list1[0:])"
   ]
  },
  {
   "cell_type": "markdown",
   "metadata": {},
   "source": [
    "# List Methods"
   ]
  },
  {
   "cell_type": "code",
   "execution_count": 34,
   "metadata": {},
   "outputs": [
    {
     "name": "stdout",
     "output_type": "stream",
     "text": [
      "None\n",
      "[0, 1, 3, 4, 5, 9, 23, 34, 45, 87]\n"
     ]
    }
   ],
   "source": [
    "# sort() – updates the list to  [1,2,7,8,15,21]\n",
    "\n",
    "list1 = [1,4,9,5,0,3,45,87,23,34]\n",
    "vs = list1.sort()                # this is not allwod\n",
    "print(vs)\n",
    "\n",
    "list1.sort()\n",
    "print(list1)\n"
   ]
  },
  {
   "cell_type": "code",
   "execution_count": 35,
   "metadata": {},
   "outputs": [
    {
     "name": "stdout",
     "output_type": "stream",
     "text": [
      "[34, 23, 87, 45, 3, 0, 5, 9, 4, 1]\n"
     ]
    }
   ],
   "source": [
    "# reverse() – updates the list to [15,21,2,7,8,1]\n",
    "\n",
    "list1 = [1,4,9,5,0,3,45,87,23,34]\n",
    "list1.reverse()\n",
    "print(list1)"
   ]
  },
  {
   "cell_type": "code",
   "execution_count": 36,
   "metadata": {},
   "outputs": [
    {
     "name": "stdout",
     "output_type": "stream",
     "text": [
      "[1, 4, 9, 5, 0, 3, 45, 87, 23, 34, 55]\n"
     ]
    }
   ],
   "source": [
    "# append(8) – adds 8 at the end of the list\n",
    "\n",
    "list1 = [1,4,9,5,0,3,45,87,23,34]\n",
    "list1.append(55)\n",
    "print(list1)"
   ]
  },
  {
   "cell_type": "code",
   "execution_count": 37,
   "metadata": {},
   "outputs": [
    {
     "name": "stdout",
     "output_type": "stream",
     "text": [
      "[1, 4, 95, 9, 5, 0, 3, 45, 87, 23, 34]\n"
     ]
    }
   ],
   "source": [
    "# insert(3,8) – This will add 8 at 3 index\n",
    "\n",
    "list1 = [1,4,9,5,0,3,45,87,23,34]\n",
    "list1.insert(2,95)   # isme 2 index hai or 95 value\n",
    "print(list1)"
   ]
  },
  {
   "cell_type": "code",
   "execution_count": 39,
   "metadata": {},
   "outputs": [
    {
     "name": "stdout",
     "output_type": "stream",
     "text": [
      "[1, 4, 5, 0, 3, 45, 87, 23, 34]\n"
     ]
    }
   ],
   "source": [
    "#  pop(2) – It will delete the element at index 2 and return its value\n",
    "\n",
    "list1 = [1,4,9,5,0,3,45,87,23,34]\n",
    "list1.pop(2)  #  1 index ke element ko delete karna ke bad ki list \n",
    "print(list1)"
   ]
  },
  {
   "cell_type": "code",
   "execution_count": 41,
   "metadata": {},
   "outputs": [
    {
     "name": "stdout",
     "output_type": "stream",
     "text": [
      "[1, 4, 9, 5, 0, 3, 87, 23, 34]\n"
     ]
    }
   ],
   "source": [
    "# remove(21) – It will remove 21 from the last\n",
    "\n",
    "list1 = [1,4,9,5,0,3,45,87,23,34]\n",
    "list1.remove(45)  # delete number of 9 value \n",
    "print(list1)"
   ]
  },
  {
   "cell_type": "code",
   "execution_count": null,
   "metadata": {},
   "outputs": [],
   "source": []
  },
  {
   "cell_type": "code",
   "execution_count": null,
   "metadata": {},
   "outputs": [],
   "source": [
    "#  Thank you"
   ]
  },
  {
   "cell_type": "code",
   "execution_count": null,
   "metadata": {},
   "outputs": [],
   "source": []
  },
  {
   "cell_type": "code",
   "execution_count": null,
   "metadata": {},
   "outputs": [],
   "source": []
  },
  {
   "cell_type": "code",
   "execution_count": null,
   "metadata": {},
   "outputs": [],
   "source": []
  },
  {
   "cell_type": "markdown",
   "metadata": {},
   "source": [
    "#  Tuples in Python:"
   ]
  },
  {
   "cell_type": "code",
   "execution_count": 15,
   "metadata": {},
   "outputs": [
    {
     "name": "stdout",
     "output_type": "stream",
     "text": [
      "1\n"
     ]
    }
   ],
   "source": [
    "# ==>  A tuple is an immutable (can’t change or modified) data type in Python\n",
    "# ==>  Once defined, tuple elements can’t be manipulated or altered.\n",
    "\n",
    "tuple1 = ()#   empty tuple\n",
    "# print(tuple1)\n",
    "\n",
    "tuple1 = (1,)  # tuple with singale element\n",
    "#print(tuple1)\n",
    "\n",
    "tuple2 = (1,7,3,56,2,98,0,45)\n",
    "# print(type(tuple2))\n",
    "# print(tuple2)\n",
    "\n",
    "# this is immutable\n",
    "\n",
    "s=tuple2[0]\n",
    "print(s)\n",
    "\n"
   ]
  },
  {
   "cell_type": "code",
   "execution_count": 61,
   "metadata": {},
   "outputs": [
    {
     "name": "stdout",
     "output_type": "stream",
     "text": [
      "5\n"
     ]
    }
   ],
   "source": [
    "# count(1) – It will return the number of times 1 occurs in a.\n",
    "\n",
    "tuple2 = (1,7,3,56,2,98,0,45,3,1,1,3,3,3)\n",
    "vs=tuple2.count(3)\n",
    "print(vs)"
   ]
  },
  {
   "cell_type": "code",
   "execution_count": 21,
   "metadata": {},
   "outputs": [
    {
     "ename": "ValueError",
     "evalue": "tuple.index(x): x not in tuple",
     "output_type": "error",
     "traceback": [
      "\u001b[1;31m---------------------------------------------------------------------------\u001b[0m",
      "\u001b[1;31mValueError\u001b[0m                                Traceback (most recent call last)",
      "\u001b[1;32m<ipython-input-21-5f657d5cc763>\u001b[0m in \u001b[0;36m<module>\u001b[1;34m\u001b[0m\n\u001b[0;32m      2\u001b[0m \u001b[1;33m\u001b[0m\u001b[0m\n\u001b[0;32m      3\u001b[0m \u001b[0mtuple2\u001b[0m \u001b[1;33m=\u001b[0m \u001b[1;33m(\u001b[0m\u001b[1;36m1\u001b[0m\u001b[1;33m,\u001b[0m\u001b[1;36m7\u001b[0m\u001b[1;33m,\u001b[0m\u001b[1;36m3\u001b[0m\u001b[1;33m,\u001b[0m\u001b[1;36m56\u001b[0m\u001b[1;33m,\u001b[0m\u001b[1;36m2\u001b[0m\u001b[1;33m,\u001b[0m\u001b[1;36m98\u001b[0m\u001b[1;33m,\u001b[0m\u001b[1;36m0\u001b[0m\u001b[1;33m,\u001b[0m\u001b[1;36m45\u001b[0m\u001b[1;33m,\u001b[0m\u001b[1;36m3\u001b[0m\u001b[1;33m,\u001b[0m\u001b[1;36m1\u001b[0m\u001b[1;33m,\u001b[0m\u001b[1;36m1\u001b[0m\u001b[1;33m,\u001b[0m\u001b[1;36m3\u001b[0m\u001b[1;33m,\u001b[0m\u001b[1;36m3\u001b[0m\u001b[1;33m,\u001b[0m\u001b[1;36m3\u001b[0m\u001b[1;33m)\u001b[0m\u001b[1;33m\u001b[0m\u001b[1;33m\u001b[0m\u001b[0m\n\u001b[1;32m----> 4\u001b[1;33m \u001b[0mvs\u001b[0m \u001b[1;33m=\u001b[0m \u001b[0mtuple2\u001b[0m\u001b[1;33m.\u001b[0m\u001b[0mindex\u001b[0m\u001b[1;33m(\u001b[0m\u001b[1;36m5\u001b[0m\u001b[1;33m)\u001b[0m\u001b[1;33m\u001b[0m\u001b[1;33m\u001b[0m\u001b[0m\n\u001b[0m\u001b[0;32m      5\u001b[0m \u001b[0mprint\u001b[0m\u001b[1;33m(\u001b[0m\u001b[0mvs\u001b[0m\u001b[1;33m)\u001b[0m\u001b[1;33m\u001b[0m\u001b[1;33m\u001b[0m\u001b[0m\n",
      "\u001b[1;31mValueError\u001b[0m: tuple.index(x): x not in tuple"
     ]
    }
   ],
   "source": [
    "# index(1) – It will return the index of the first occurrence of 1 in a.\n",
    "\n",
    "tuple2 = (1,7,3,56,2,98,0,45,3,1,1,3,3,3)\n",
    "vs = tuple2.index(5)\n",
    "print(vs)"
   ]
  },
  {
   "cell_type": "markdown",
   "metadata": {},
   "source": [
    "#  Practice "
   ]
  },
  {
   "cell_type": "code",
   "execution_count": 1,
   "metadata": {},
   "outputs": [],
   "source": [
    "# ==> 1.  Write a program to store seven fruits in a list entered by the user.\n",
    "# ==> 2.  Write a program to accept the marks of 6 students and display them in a sorted manner.\n",
    "# ==> 3.  Check that a tuple cannot be changed in Python.\n",
    "# ==> 4.  Write a program to sum a list with 4 numbers.\n",
    "# ==> 5.  Write a program to count the number of zeros in the following tuple:\n",
    "#         tuple1 = (12,44,0,4,8,9,5,76,0,234,0,23,11,0)"
   ]
  },
  {
   "cell_type": "code",
   "execution_count": 5,
   "metadata": {},
   "outputs": [
    {
     "name": "stdout",
     "output_type": "stream",
     "text": [
      "Enter fruits namevicky\n",
      "['vicky']\n"
     ]
    }
   ],
   "source": [
    "# Ans. 1 \n",
    "\n",
    "fruits = []\n",
    "fruit_name = input(\"Enter fruits name\")\n",
    "\n",
    "fruits.append(fruit_name)\n",
    "print(fruits)"
   ]
  },
  {
   "cell_type": "code",
   "execution_count": 7,
   "metadata": {},
   "outputs": [
    {
     "name": "stdout",
     "output_type": "stream",
     "text": [
      "[51.99, 55.9, 66.83, 69.0, 76, 85.0]\n"
     ]
    }
   ],
   "source": [
    "# Ans. 2\n",
    "\n",
    "marks = [85.00 , 55.90 ,76 , 66.83 , 51.99 ,69.00]\n",
    "marks.sort()\n",
    "print(marks)"
   ]
  },
  {
   "cell_type": "code",
   "execution_count": 9,
   "metadata": {},
   "outputs": [
    {
     "ename": "TypeError",
     "evalue": "'tuple' object does not support item assignment",
     "output_type": "error",
     "traceback": [
      "\u001b[1;31m---------------------------------------------------------------------------\u001b[0m",
      "\u001b[1;31mTypeError\u001b[0m                                 Traceback (most recent call last)",
      "\u001b[1;32m<ipython-input-9-b51f9cb3153e>\u001b[0m in \u001b[0;36m<module>\u001b[1;34m\u001b[0m\n\u001b[0;32m      2\u001b[0m \u001b[1;33m\u001b[0m\u001b[0m\n\u001b[0;32m      3\u001b[0m \u001b[0mtuple1\u001b[0m \u001b[1;33m=\u001b[0m \u001b[1;33m(\u001b[0m\u001b[1;36m25\u001b[0m \u001b[1;33m,\u001b[0m\u001b[1;34m\"vicky\"\u001b[0m \u001b[1;33m,\u001b[0m \u001b[1;36m40.55\u001b[0m\u001b[1;33m,\u001b[0m\u001b[1;36m34\u001b[0m\u001b[1;33m,\u001b[0m\u001b[1;34m\"ravi\"\u001b[0m\u001b[1;33m)\u001b[0m\u001b[1;33m\u001b[0m\u001b[1;33m\u001b[0m\u001b[0m\n\u001b[1;32m----> 4\u001b[1;33m \u001b[0mtuple1\u001b[0m\u001b[1;33m[\u001b[0m\u001b[1;36m2\u001b[0m\u001b[1;33m]\u001b[0m\u001b[1;33m=\u001b[0m\u001b[1;36m66\u001b[0m\u001b[1;33m\u001b[0m\u001b[1;33m\u001b[0m\u001b[0m\n\u001b[0m\u001b[0;32m      5\u001b[0m \u001b[0mprint\u001b[0m\u001b[1;33m(\u001b[0m\u001b[0mtuple1\u001b[0m\u001b[1;33m)\u001b[0m\u001b[1;33m\u001b[0m\u001b[1;33m\u001b[0m\u001b[0m\n",
      "\u001b[1;31mTypeError\u001b[0m: 'tuple' object does not support item assignment"
     ]
    }
   ],
   "source": [
    "# Ans. 3\n",
    "\n",
    "tuple1 = (25 ,\"vicky\" , 40.55,34,\"ravi\")\n",
    "tuple1[2]=66\n",
    "print(tuple1)"
   ]
  },
  {
   "cell_type": "code",
   "execution_count": 29,
   "metadata": {},
   "outputs": [
    {
     "name": "stdout",
     "output_type": "stream",
     "text": [
      "135\n"
     ]
    },
    {
     "ename": "NameError",
     "evalue": "name 'Sum' is not defined",
     "output_type": "error",
     "traceback": [
      "\u001b[1;31m---------------------------------------------------------------------------\u001b[0m",
      "\u001b[1;31mNameError\u001b[0m                                 Traceback (most recent call last)",
      "\u001b[1;32m<ipython-input-29-65333a9d654c>\u001b[0m in \u001b[0;36m<module>\u001b[1;34m\u001b[0m\n\u001b[0;32m      4\u001b[0m \u001b[0mprint\u001b[0m\u001b[1;33m(\u001b[0m\u001b[0mlist1\u001b[0m\u001b[1;33m[\u001b[0m\u001b[1;36m0\u001b[0m\u001b[1;33m]\u001b[0m\u001b[1;33m+\u001b[0m\u001b[0mlist1\u001b[0m\u001b[1;33m[\u001b[0m\u001b[1;36m1\u001b[0m\u001b[1;33m]\u001b[0m\u001b[1;33m+\u001b[0m\u001b[0mlist1\u001b[0m\u001b[1;33m[\u001b[0m\u001b[1;36m2\u001b[0m\u001b[1;33m]\u001b[0m\u001b[1;33m+\u001b[0m\u001b[0mlist1\u001b[0m\u001b[1;33m[\u001b[0m\u001b[1;36m3\u001b[0m\u001b[1;33m]\u001b[0m\u001b[1;33m)\u001b[0m\u001b[1;33m\u001b[0m\u001b[1;33m\u001b[0m\u001b[0m\n\u001b[0;32m      5\u001b[0m \u001b[1;33m\u001b[0m\u001b[0m\n\u001b[1;32m----> 6\u001b[1;33m \u001b[0mprint\u001b[0m\u001b[1;33m(\u001b[0m\u001b[0mSum\u001b[0m\u001b[1;33m(\u001b[0m\u001b[0mlist1\u001b[0m\u001b[1;33m)\u001b[0m\u001b[1;33m)\u001b[0m\u001b[1;33m\u001b[0m\u001b[1;33m\u001b[0m\u001b[0m\n\u001b[0m",
      "\u001b[1;31mNameError\u001b[0m: name 'Sum' is not defined"
     ]
    }
   ],
   "source": [
    "# Ans. 4\n",
    "\n",
    "list1 = [15 ,5 , 25 , 90]\n",
    "print(list1[0]+list1[1]+list1[2]+list1[3])\n",
    "\n",
    "print(Sum(list1))"
   ]
  },
  {
   "cell_type": "code",
   "execution_count": 32,
   "metadata": {},
   "outputs": [
    {
     "name": "stdout",
     "output_type": "stream",
     "text": [
      "4\n"
     ]
    }
   ],
   "source": [
    "# Ans. 5\n",
    "\n",
    "tuple1 = (12,44,0,4,8,9,5,76,0,234,0,23,11,0)\n",
    "count_numbers = tuple1.count(0)\n",
    "print(count_numbers)"
   ]
  },
  {
   "cell_type": "markdown",
   "metadata": {},
   "source": [
    "# Dictionary in python\n"
   ]
  },
  {
   "cell_type": "code",
   "execution_count": 2,
   "metadata": {},
   "outputs": [
    {
     "name": "stdout",
     "output_type": "stream",
     "text": [
      "<class 'dict'>\n",
      "{'name': 'vicky', 'no': 98402948}\n",
      "banana\n"
     ]
    }
   ],
   "source": [
    "#  ==>  Dictionary is a collection of key-value pairs.\n",
    "\n",
    "dic = {\"name\":\"vicky\",\"no\":98402948}\n",
    "print(type(dic))\n",
    "print(dic)\n",
    "\n",
    "\n",
    "# nested dict\n",
    "\n",
    "#dic = {\"name\":[\"vicky\",\"ram\",\"lalaji\"],\"nu\":{95:\"vs\",\"deepk\":\"kumar\",{90:44}}}\n",
    "#print(dic)\n",
    "#print(dic[\"name\"])\n",
    "#print(dic[\"nu\"])\n",
    "\n",
    "mydict = {\"id\":1234,\"automation\":[\"apple\",123],\"name\":{\"furit\":\"banana\",}}\n",
    "print(mydict['name']['furit'])"
   ]
  },
  {
   "cell_type": "markdown",
   "metadata": {},
   "source": [
    "# Accessing dict items"
   ]
  },
  {
   "cell_type": "code",
   "execution_count": 12,
   "metadata": {},
   "outputs": [
    {
     "name": "stdout",
     "output_type": "stream",
     "text": [
      "33\n"
     ]
    }
   ],
   "source": [
    "dict54 = {\"id\":33,\"name\":\"ram\"}\n",
    "print(dict54[\"id\"])"
   ]
  },
  {
   "cell_type": "code",
   "execution_count": 13,
   "metadata": {},
   "outputs": [
    {
     "name": "stdout",
     "output_type": "stream",
     "text": [
      "{'id': 33, 'name': 'ram'}\n"
     ]
    }
   ],
   "source": [
    "print(dict54)"
   ]
  },
  {
   "cell_type": "code",
   "execution_count": 14,
   "metadata": {},
   "outputs": [
    {
     "name": "stdout",
     "output_type": "stream",
     "text": [
      "33\n"
     ]
    }
   ],
   "source": [
    "# use accessing get() function\n",
    "\n",
    "rev = dict54.get(\"id\")\n",
    "print(rev)"
   ]
  },
  {
   "cell_type": "code",
   "execution_count": 16,
   "metadata": {},
   "outputs": [
    {
     "name": "stdout",
     "output_type": "stream",
     "text": [
      "dict_keys(['id', 'name'])\n"
     ]
    }
   ],
   "source": [
    "#  use accessing keys() function\n",
    "\n",
    "revv = dict54.keys()\n",
    "print(revv)"
   ]
  },
  {
   "cell_type": "code",
   "execution_count": 17,
   "metadata": {},
   "outputs": [
    {
     "name": "stdout",
     "output_type": "stream",
     "text": [
      "dict_values([33, 'ram'])\n"
     ]
    }
   ],
   "source": [
    "# use accessing values() function\n",
    "\n",
    "res = dict54.values()\n",
    "print(res)"
   ]
  },
  {
   "cell_type": "code",
   "execution_count": 18,
   "metadata": {},
   "outputs": [
    {
     "name": "stdout",
     "output_type": "stream",
     "text": [
      "{'id': 33, 'name': 'ram'}\n",
      "dict_values([33, 'ram', 'realme'])\n"
     ]
    }
   ],
   "source": [
    "# change the value then check it\n",
    "\n",
    "print(dict54) #  before change dict\n",
    "\n",
    "dict54[\"phone\"]=\"realme\"\n",
    "\n",
    "print(dict54.values())"
   ]
  },
  {
   "cell_type": "code",
   "execution_count": 19,
   "metadata": {},
   "outputs": [
    {
     "name": "stdout",
     "output_type": "stream",
     "text": [
      "dict_items([('id', 33), ('name', 'ram'), ('phone', 'realme')])\n"
     ]
    }
   ],
   "source": [
    "# use accessing items() function\n",
    "\n",
    "data = dict54.items()\n",
    "print(data)"
   ]
  },
  {
   "cell_type": "code",
   "execution_count": 20,
   "metadata": {},
   "outputs": [
    {
     "name": "stdout",
     "output_type": "stream",
     "text": [
      "yes this is key exists in the dict\n"
     ]
    }
   ],
   "source": [
    "# check exists key in dict\n",
    "\n",
    "if \"id\" in dict54:\n",
    "    print(\"yes this is key exists in the dict\")"
   ]
  },
  {
   "cell_type": "code",
   "execution_count": null,
   "metadata": {},
   "outputs": [],
   "source": []
  },
  {
   "cell_type": "markdown",
   "metadata": {},
   "source": [
    "# Change   &  Add Dict items"
   ]
  },
  {
   "cell_type": "code",
   "execution_count": 26,
   "metadata": {},
   "outputs": [
    {
     "data": {
      "text/plain": [
       "{'id': 132, 'name': 'ram', 'address': 'jaipur', 'pin_code': 974985}"
      ]
     },
     "execution_count": 26,
     "metadata": {},
     "output_type": "execute_result"
    }
   ],
   "source": [
    "# key se \n",
    "\n",
    "dict45 = {\"id\":132,\"name\":\"vicky\",\"address\":\"jaipur\",\"pin_code\":974985}\n",
    "dict45[\"name\"]=\"ram\"\n",
    "dict45"
   ]
  },
  {
   "cell_type": "code",
   "execution_count": 27,
   "metadata": {},
   "outputs": [
    {
     "data": {
      "text/plain": [
       "{'id': 132, 'name': 'kartoos', 'address': 'jaipur', 'pin_code': 974985}"
      ]
     },
     "execution_count": 27,
     "metadata": {},
     "output_type": "execute_result"
    }
   ],
   "source": [
    "#  update method\n",
    "\n",
    "dict45.update({\"name\":\"kartoos\"})\n",
    "dict45"
   ]
  },
  {
   "cell_type": "code",
   "execution_count": 14,
   "metadata": {},
   "outputs": [
    {
     "data": {
      "text/plain": [
       "{'id': 132,\n",
       " 'name': 'kartoos',\n",
       " 'address': 'jaipur',\n",
       " 'pin_code': 974985,\n",
       " 'phone': 2345625678}"
      ]
     },
     "execution_count": 14,
     "metadata": {},
     "output_type": "execute_result"
    }
   ],
   "source": [
    "dict45.update({\"phone\":2345625678})\n",
    "dict45"
   ]
  },
  {
   "cell_type": "code",
   "execution_count": null,
   "metadata": {},
   "outputs": [],
   "source": []
  },
  {
   "cell_type": "markdown",
   "metadata": {},
   "source": [
    "# Rmove items Dict"
   ]
  },
  {
   "cell_type": "code",
   "execution_count": 15,
   "metadata": {},
   "outputs": [
    {
     "data": {
      "text/plain": [
       "{'id': 132, 'name': 'kartoos', 'address': 'jaipur', 'pin_code': 974985}"
      ]
     },
     "execution_count": 15,
     "metadata": {},
     "output_type": "execute_result"
    }
   ],
   "source": [
    "#  use  pop() function \n",
    "\n",
    "dict45.pop(\"phone\")\n",
    "dict45"
   ]
  },
  {
   "cell_type": "code",
   "execution_count": 17,
   "metadata": {},
   "outputs": [
    {
     "data": {
      "text/plain": [
       "{'id': 132, 'name': 'kartoos', 'address': 'jaipur'}"
      ]
     },
     "execution_count": 17,
     "metadata": {},
     "output_type": "execute_result"
    }
   ],
   "source": [
    "# use it popitem() function\n",
    "\n",
    "dict45.popitem()\n",
    "dict45"
   ]
  },
  {
   "cell_type": "code",
   "execution_count": 29,
   "metadata": {},
   "outputs": [
    {
     "data": {
      "text/plain": [
       "{'id': 132, 'name': 'kartoos', 'pin_code': 974985}"
      ]
     },
     "execution_count": 29,
     "metadata": {},
     "output_type": "execute_result"
    }
   ],
   "source": [
    "# use it del() function\n",
    "\n",
    "del dict45[\"address\"]\n",
    "dict45"
   ]
  },
  {
   "cell_type": "code",
   "execution_count": 30,
   "metadata": {},
   "outputs": [
    {
     "data": {
      "text/plain": [
       "{}"
      ]
     },
     "execution_count": 30,
     "metadata": {},
     "output_type": "execute_result"
    }
   ],
   "source": [
    "# use it clear() function\n",
    "\n",
    "dict45.clear()\n",
    "dict45"
   ]
  },
  {
   "cell_type": "code",
   "execution_count": null,
   "metadata": {},
   "outputs": [],
   "source": []
  },
  {
   "cell_type": "markdown",
   "metadata": {},
   "source": [
    "# Properties of Python Dictionaries"
   ]
  },
  {
   "cell_type": "code",
   "execution_count": 36,
   "metadata": {},
   "outputs": [],
   "source": [
    "# 1 .  It is unordered\n",
    "# 2 .  It is mutable\n",
    "# 3 .  It is indexed\n",
    "# 4 .  It cannot contain duplicate keys"
   ]
  },
  {
   "cell_type": "code",
   "execution_count": 3,
   "metadata": {},
   "outputs": [
    {
     "name": "stdout",
     "output_type": "stream",
     "text": [
      "{'name': 'ram', 'id': 33}\n"
     ]
    }
   ],
   "source": [
    "# duplicate key\n",
    "\n",
    "dict54 = {\"name\":\"vicky\",\"id\":33,\"name\":\"ram\"}\n",
    "print(dict54)"
   ]
  },
  {
   "cell_type": "code",
   "execution_count": 4,
   "metadata": {},
   "outputs": [
    {
     "data": {
      "text/plain": [
       "{'name': 'vicky', 'names': ['ram', 'sita', 'hanuman']}"
      ]
     },
     "execution_count": 4,
     "metadata": {},
     "output_type": "execute_result"
    }
   ],
   "source": [
    "# list add karna \n",
    "\n",
    "dict323 = {\"name\":\"vicky\",\"names\":\"raj\"}\n",
    "dict323[\"names\"]=[\"ram\",\"sita\",\"hanuman\"]\n",
    "dict323"
   ]
  },
  {
   "cell_type": "code",
   "execution_count": 12,
   "metadata": {},
   "outputs": [
    {
     "name": "stdout",
     "output_type": "stream",
     "text": [
      "{'id': (45, 56), 'name': 'vicky'}\n",
      "<class 'dict'>\n"
     ]
    }
   ],
   "source": [
    "mydict2 = {\"id\":23,\"name\":\"vicky\"}\n",
    "mydict2['id']=45,56\n",
    "print(mydict2)\n",
    "print(type(mydict2))\n",
    "\n"
   ]
  },
  {
   "cell_type": "code",
   "execution_count": 1,
   "metadata": {},
   "outputs": [
    {
     "name": "stdout",
     "output_type": "stream",
     "text": [
      "4321\n"
     ]
    }
   ],
   "source": [
    "mydict2 = {\"id\":23,\"name\":\"vicky\",\"id\":4321} #  duplicat keys\n",
    "print(mydict2['id'])"
   ]
  },
  {
   "cell_type": "markdown",
   "metadata": {},
   "source": [
    "# Dict Methods"
   ]
  },
  {
   "cell_type": "raw",
   "metadata": {},
   "source": [
    "clear()\t   =   Removes all the elements from the dictionary\n",
    "copy()\t   =   Returns a copy of the dictionary\n",
    "fromkeys() =   Returns a dictionary with the specified keys and value\n",
    "get()\t   =   Returns the value of the specified key\n",
    "items()    =   Returns a list containing a tuple for each key value pair\n",
    "keys()     =   Returns a list containing the dictionary's keys\n",
    "pop()\t   =   Removes the element with the specified key\n",
    "popitem()  =  Removes the last inserted key-value pair\n",
    "setdefault()= Returns the value of the specified key. If the key does not exist: insert the  key,               with the specified value\n",
    "update()   =  Updates the dictionary with the specified key-value pairs\n",
    "values()   =  Returns a list of all the values in the dictionary"
   ]
  },
  {
   "cell_type": "code",
   "execution_count": 48,
   "metadata": {},
   "outputs": [
    {
     "data": {
      "text/plain": [
       "{'dffg': 0, 344: 0}"
      ]
     },
     "execution_count": 48,
     "metadata": {},
     "output_type": "execute_result"
    }
   ],
   "source": [
    "# use fromkeys() \n",
    "\n",
    "v = (\"dffg\",344)\n",
    "f = 0\n",
    "\n",
    "dic = dict.fromkeys(v,f)\n",
    "dic\n"
   ]
  },
  {
   "cell_type": "code",
   "execution_count": null,
   "metadata": {},
   "outputs": [],
   "source": [
    "# use setdefault()\n",
    "\n"
   ]
  },
  {
   "cell_type": "code",
   "execution_count": null,
   "metadata": {},
   "outputs": [],
   "source": []
  },
  {
   "cell_type": "code",
   "execution_count": 5,
   "metadata": {},
   "outputs": [
    {
     "name": "stdout",
     "output_type": "stream",
     "text": [
      "dict_keys(['id', 'name'])\n",
      "<class 'dict_keys'>\n",
      "dict_values([4321, 'vicky'])\n",
      "<class 'dict_values'>\n"
     ]
    }
   ],
   "source": [
    "mydict2 = {\"id\":23,\"name\":\"vicky\",\"id\":4321}\n",
    "print(mydict2.keys())\n",
    "print(type(mydict2.keys()))     #  prints the keys of the dictionary\n",
    "\n",
    "\n",
    "print(mydict2.values())\n",
    "print(type(mydict2.values()))     #  prints the values of the dictionary"
   ]
  },
  {
   "cell_type": "code",
   "execution_count": null,
   "metadata": {},
   "outputs": [],
   "source": []
  },
  {
   "cell_type": "markdown",
   "metadata": {},
   "source": [
    "2 list ko dict me convert karna"
   ]
  },
  {
   "cell_type": "code",
   "execution_count": 10,
   "metadata": {},
   "outputs": [
    {
     "name": "stdout",
     "output_type": "stream",
     "text": [
      "{'name': 'vicky', 'contact': 567890, 'email': 'vicky15@gmail.com'}\n"
     ]
    }
   ],
   "source": [
    "list44 = ['name','contact','email']\n",
    "list434 = [\"vicky\",567890,\"vicky15@gmail.com\"]\n",
    "rs = {}\n",
    "for iu in list44:\n",
    "    for iuu in list434:\n",
    "        rs[iu]=iuu\n",
    "        list434.remove(iuu)\n",
    "        break\n",
    "print(rs)"
   ]
  },
  {
   "cell_type": "code",
   "execution_count": 11,
   "metadata": {},
   "outputs": [
    {
     "name": "stdout",
     "output_type": "stream",
     "text": [
      "Resultant dictionary is : {'Rash': 1, 'Kil': 4, 'Varsha': 5}\n"
     ]
    }
   ],
   "source": [
    "test_keys = [\"Rash\", \"Kil\", \"Varsha\"]\n",
    "test_values = [1, 4, 5]\n",
    "  \n",
    "\n",
    "res = {test_keys[i]: test_values[i] for i in range(len(test_keys))}\n",
    "  \n",
    "# Printing resultant dictionary \n",
    "print (\"Resultant dictionary is : \" +  str(res))"
   ]
  },
  {
   "cell_type": "code",
   "execution_count": 7,
   "metadata": {},
   "outputs": [
    {
     "data": {
      "text/plain": [
       "{'fff': 'fdffd', 455: 555}"
      ]
     },
     "execution_count": 7,
     "metadata": {},
     "output_type": "execute_result"
    }
   ],
   "source": [
    "dict121 = {'fff':\"fdffd\",455:555,\"name\":\"vicky\"}\n",
    "dict121.pop('name')\n",
    "dict121"
   ]
  },
  {
   "cell_type": "code",
   "execution_count": null,
   "metadata": {},
   "outputs": [],
   "source": []
  },
  {
   "cell_type": "markdown",
   "metadata": {},
   "source": [
    "# Dict loop \n"
   ]
  },
  {
   "cell_type": "code",
   "execution_count": 31,
   "metadata": {},
   "outputs": [
    {
     "name": "stdout",
     "output_type": "stream",
     "text": [
      "id\n",
      "name\n",
      "phone\n",
      "address\n"
     ]
    }
   ],
   "source": [
    "dict98 = {\"id\":90,\"name\":\"babaBoss\",\"phone\":449876543456,\"address\":\"jaipur\"}\n",
    "for dic in dict98:\n",
    "    print(dic)"
   ]
  },
  {
   "cell_type": "code",
   "execution_count": 35,
   "metadata": {},
   "outputs": [
    {
     "name": "stdout",
     "output_type": "stream",
     "text": [
      "id 90\n",
      "name babaBoss\n",
      "phone 449876543456\n",
      "address jaipur\n"
     ]
    }
   ],
   "source": [
    "for dic1,dic2 in dict98.items():\n",
    "    print(dic1,dic2)"
   ]
  },
  {
   "cell_type": "code",
   "execution_count": 38,
   "metadata": {},
   "outputs": [
    {
     "name": "stdout",
     "output_type": "stream",
     "text": [
      "id\n",
      "name\n",
      "phone\n",
      "address\n"
     ]
    }
   ],
   "source": [
    "for dic3 in dict98.keys():\n",
    "    print(dic3)"
   ]
  },
  {
   "cell_type": "code",
   "execution_count": 39,
   "metadata": {},
   "outputs": [
    {
     "name": "stdout",
     "output_type": "stream",
     "text": [
      "90\n",
      "babaBoss\n",
      "449876543456\n",
      "jaipur\n"
     ]
    }
   ],
   "source": [
    "for dic4 in dict98.values():\n",
    "    print(dic4)"
   ]
  },
  {
   "cell_type": "code",
   "execution_count": null,
   "metadata": {},
   "outputs": [],
   "source": []
  },
  {
   "cell_type": "markdown",
   "metadata": {},
   "source": [
    "# Copy dict"
   ]
  },
  {
   "cell_type": "code",
   "execution_count": null,
   "metadata": {},
   "outputs": [],
   "source": []
  },
  {
   "cell_type": "code",
   "execution_count": 40,
   "metadata": {},
   "outputs": [
    {
     "name": "stdout",
     "output_type": "stream",
     "text": [
      "{'id': 90, 'name': 'babaBoss', 'phone': 449876543456, 'address': 'jaipur'}\n"
     ]
    }
   ],
   "source": [
    "# use copy() function\n",
    "\n",
    "new_dic = dict98.copy()\n",
    "print(new_dic)"
   ]
  },
  {
   "cell_type": "code",
   "execution_count": 41,
   "metadata": {},
   "outputs": [
    {
     "name": "stdout",
     "output_type": "stream",
     "text": [
      "{'id': 90, 'name': 'babaBoss', 'phone': 449876543456, 'address': 'jaipur'}\n"
     ]
    }
   ],
   "source": [
    "#  use dict() function\n",
    "\n",
    "new_dic1 = dict(dict98)\n",
    "print(new_dic1)"
   ]
  },
  {
   "cell_type": "code",
   "execution_count": null,
   "metadata": {},
   "outputs": [],
   "source": []
  },
  {
   "cell_type": "markdown",
   "metadata": {},
   "source": [
    "#   Tuples in Python"
   ]
  },
  {
   "cell_type": "code",
   "execution_count": null,
   "metadata": {},
   "outputs": [],
   "source": []
  },
  {
   "cell_type": "raw",
   "metadata": {},
   "source": [
    "Q. What is tuple\n",
    "\n",
    "ANS. * Tuple is a collection of multiple data .\n",
    "       store  data \n",
    "     * tuple is imutables mins not modify tuple .\n",
    "     * tuple are represent () \n",
    "     * tuple are orderd formate\n",
    "     "
   ]
  },
  {
   "cell_type": "code",
   "execution_count": 1,
   "metadata": {},
   "outputs": [
    {
     "name": "stdout",
     "output_type": "stream",
     "text": [
      "(123, 958.44, 'vicky', True, 33333, None)\n"
     ]
    }
   ],
   "source": [
    "tuple1 = (123,958.44,\"vicky\",True,33333,None)\n",
    "print(tuple1)"
   ]
  },
  {
   "cell_type": "code",
   "execution_count": 2,
   "metadata": {},
   "outputs": [
    {
     "name": "stdout",
     "output_type": "stream",
     "text": [
      "<class 'tuple'>\n"
     ]
    }
   ],
   "source": [
    "print(type(tuple1))"
   ]
  },
  {
   "cell_type": "code",
   "execution_count": null,
   "metadata": {},
   "outputs": [],
   "source": []
  },
  {
   "cell_type": "markdown",
   "metadata": {},
   "source": [
    "* tuple items ordered,unchangeble and index items"
   ]
  },
  {
   "cell_type": "code",
   "execution_count": null,
   "metadata": {},
   "outputs": [],
   "source": []
  },
  {
   "cell_type": "markdown",
   "metadata": {},
   "source": [
    "# Tuple length"
   ]
  },
  {
   "cell_type": "code",
   "execution_count": 14,
   "metadata": {},
   "outputs": [
    {
     "name": "stdout",
     "output_type": "stream",
     "text": [
      "7\n"
     ]
    }
   ],
   "source": [
    "tuples = (\"vicky\",\"id\",4444,\"ccccc\",None,9494,\"ram\")\n",
    "\n",
    "print(len(tuples))"
   ]
  },
  {
   "cell_type": "code",
   "execution_count": 4,
   "metadata": {},
   "outputs": [
    {
     "name": "stdout",
     "output_type": "stream",
     "text": [
      "7\n"
     ]
    }
   ],
   "source": [
    "ruslt = 0\n",
    "for i in tuples:\n",
    "    ruslt += 1\n",
    "print(ruslt)"
   ]
  },
  {
   "cell_type": "markdown",
   "metadata": {},
   "source": [
    "# Create Tuple With One Item"
   ]
  },
  {
   "cell_type": "code",
   "execution_count": 5,
   "metadata": {},
   "outputs": [
    {
     "name": "stdout",
     "output_type": "stream",
     "text": [
      "<class 'str'>\n"
     ]
    }
   ],
   "source": [
    "tuple2 = (\"vicky\")\n",
    "print(type(tuple2))"
   ]
  },
  {
   "cell_type": "code",
   "execution_count": 6,
   "metadata": {},
   "outputs": [
    {
     "name": "stdout",
     "output_type": "stream",
     "text": [
      "<class 'tuple'>\n"
     ]
    }
   ],
   "source": [
    "tuple3 = (\"vicky\",)\n",
    "print(type(tuple3))"
   ]
  },
  {
   "cell_type": "code",
   "execution_count": null,
   "metadata": {},
   "outputs": [],
   "source": []
  },
  {
   "cell_type": "markdown",
   "metadata": {},
   "source": [
    "# Tuple constractor "
   ]
  },
  {
   "cell_type": "code",
   "execution_count": 7,
   "metadata": {},
   "outputs": [
    {
     "data": {
      "text/plain": [
       "()"
      ]
     },
     "execution_count": 7,
     "metadata": {},
     "output_type": "execute_result"
    }
   ],
   "source": [
    "tuple()"
   ]
  },
  {
   "cell_type": "raw",
   "metadata": {},
   "source": [
    "This is constractor use convert tuple typed"
   ]
  },
  {
   "cell_type": "code",
   "execution_count": 9,
   "metadata": {},
   "outputs": [
    {
     "name": "stdout",
     "output_type": "stream",
     "text": [
      "<class 'tuple'>\n",
      "('jfjfj', 789)\n"
     ]
    }
   ],
   "source": [
    "list23 = tuple([\"jfjfj\",789])\n",
    "print(type(list23))\n",
    "print(list23)"
   ]
  },
  {
   "cell_type": "code",
   "execution_count": 11,
   "metadata": {},
   "outputs": [
    {
     "name": "stdout",
     "output_type": "stream",
     "text": [
      "<class 'tuple'>\n",
      "('id', 'name')\n"
     ]
    }
   ],
   "source": [
    "dict121 = tuple({\"id\":799,\"name\":\"vicky\"})\n",
    "print(type(dict121))\n",
    "print(dict121)"
   ]
  },
  {
   "cell_type": "code",
   "execution_count": 13,
   "metadata": {},
   "outputs": [
    {
     "name": "stdout",
     "output_type": "stream",
     "text": [
      "id\n",
      "<class 'str'>\n",
      "name\n",
      "<class 'str'>\n"
     ]
    }
   ],
   "source": [
    "for key in dict121:\n",
    "    print(key)\n",
    "    print(type(key))"
   ]
  },
  {
   "cell_type": "code",
   "execution_count": null,
   "metadata": {},
   "outputs": [],
   "source": []
  },
  {
   "cell_type": "markdown",
   "metadata": {},
   "source": [
    "# Access Tuple Items "
   ]
  },
  {
   "cell_type": "code",
   "execution_count": 23,
   "metadata": {},
   "outputs": [
    {
     "name": "stdout",
     "output_type": "stream",
     "text": [
      "vicky\n"
     ]
    }
   ],
   "source": [
    "tuples = (\"vicky\",\"id\",4444,\"ccccc\",9494,\"ram\")\n",
    "\n",
    "print(tuples[0])"
   ]
  },
  {
   "cell_type": "code",
   "execution_count": 16,
   "metadata": {},
   "outputs": [
    {
     "name": "stdout",
     "output_type": "stream",
     "text": [
      "('id', 4444, 'ccccc')\n"
     ]
    }
   ],
   "source": [
    "print(tuples[1:4])"
   ]
  },
  {
   "cell_type": "code",
   "execution_count": 17,
   "metadata": {},
   "outputs": [
    {
     "name": "stdout",
     "output_type": "stream",
     "text": [
      "('vicky', 'id', 4444)\n"
     ]
    }
   ],
   "source": [
    "print(tuples[:3])"
   ]
  },
  {
   "cell_type": "code",
   "execution_count": 18,
   "metadata": {},
   "outputs": [
    {
     "name": "stdout",
     "output_type": "stream",
     "text": [
      "('id', 4444, 'ccccc', 9494, 'ram')\n"
     ]
    }
   ],
   "source": [
    "print(tuples[1:])"
   ]
  },
  {
   "cell_type": "code",
   "execution_count": 19,
   "metadata": {},
   "outputs": [
    {
     "name": "stdout",
     "output_type": "stream",
     "text": [
      "()\n"
     ]
    }
   ],
   "source": [
    "print(tuples[1:1])"
   ]
  },
  {
   "cell_type": "markdown",
   "metadata": {},
   "source": [
    "Negative indexing"
   ]
  },
  {
   "cell_type": "code",
   "execution_count": 35,
   "metadata": {},
   "outputs": [
    {
     "name": "stdout",
     "output_type": "stream",
     "text": [
      "ram\n"
     ]
    }
   ],
   "source": [
    "print(tuples[-1])"
   ]
  },
  {
   "cell_type": "code",
   "execution_count": 45,
   "metadata": {},
   "outputs": [
    {
     "name": "stdout",
     "output_type": "stream",
     "text": [
      "(4444, 'ccccc', 9494)\n"
     ]
    }
   ],
   "source": [
    "print(tuples[-4:-1])"
   ]
  },
  {
   "cell_type": "code",
   "execution_count": null,
   "metadata": {},
   "outputs": [],
   "source": []
  },
  {
   "cell_type": "markdown",
   "metadata": {},
   "source": [
    "# Update Tuple items"
   ]
  },
  {
   "cell_type": "markdown",
   "metadata": {},
   "source": [
    "*"
   ]
  },
  {
   "cell_type": "code",
   "execution_count": 49,
   "metadata": {},
   "outputs": [],
   "source": [
    "tuples = (\"vicky\",\"id\",4444,\"ccccc\",9494,\"ram\")\n",
    "newitem = 95859"
   ]
  },
  {
   "cell_type": "code",
   "execution_count": 50,
   "metadata": {},
   "outputs": [],
   "source": [
    "list3233 = list(tuples)\n",
    "list3233.append(newitem)\n",
    "tuples = tuple(list3233)\n"
   ]
  },
  {
   "cell_type": "code",
   "execution_count": 51,
   "metadata": {},
   "outputs": [
    {
     "name": "stdout",
     "output_type": "stream",
     "text": [
      "<class 'tuple'>\n"
     ]
    }
   ],
   "source": [
    "print(type(tuples))"
   ]
  },
  {
   "cell_type": "code",
   "execution_count": 52,
   "metadata": {},
   "outputs": [
    {
     "name": "stdout",
     "output_type": "stream",
     "text": [
      "('vicky', 'id', 4444, 'ccccc', 9494, 'ram', 95859)\n"
     ]
    }
   ],
   "source": [
    "print(tuples)"
   ]
  },
  {
   "cell_type": "markdown",
   "metadata": {},
   "source": [
    "*"
   ]
  },
  {
   "cell_type": "code",
   "execution_count": 54,
   "metadata": {},
   "outputs": [],
   "source": [
    "tuples1 = (\"vicky\",\"id\",4444,\"ccccc\",9494,\"ram\")"
   ]
  },
  {
   "cell_type": "code",
   "execution_count": 55,
   "metadata": {},
   "outputs": [
    {
     "name": "stdout",
     "output_type": "stream",
     "text": [
      "('vicky', 'id', 4444, 'robo', 9494, 'ram')\n"
     ]
    }
   ],
   "source": [
    "y = list(tuples1)\n",
    "y[3] = \"robo\"\n",
    "tuples1 = tuple(y)\n",
    "print(tuples1)"
   ]
  },
  {
   "cell_type": "markdown",
   "metadata": {},
   "source": [
    "Add tuple to a tuple."
   ]
  },
  {
   "cell_type": "code",
   "execution_count": 57,
   "metadata": {},
   "outputs": [],
   "source": [
    "tuples1 = (\"vicky\",\"id\",4444,\"ccccc\",9494,\"ram\")\n",
    "\n",
    "tuple2 = (\"namkin\",)\n",
    "\n",
    "tuples1 += tuple2"
   ]
  },
  {
   "cell_type": "code",
   "execution_count": 58,
   "metadata": {},
   "outputs": [
    {
     "name": "stdout",
     "output_type": "stream",
     "text": [
      "('vicky', 'id', 4444, 'ccccc', 9494, 'ram', 'namkin')\n"
     ]
    }
   ],
   "source": [
    "print(tuples1)"
   ]
  },
  {
   "cell_type": "code",
   "execution_count": 59,
   "metadata": {},
   "outputs": [],
   "source": [
    "tuple3 = (\"lala\",8948)\n",
    "tuples1 += tuple3"
   ]
  },
  {
   "cell_type": "code",
   "execution_count": 60,
   "metadata": {},
   "outputs": [
    {
     "name": "stdout",
     "output_type": "stream",
     "text": [
      "('vicky', 'id', 4444, 'ccccc', 9494, 'ram', 'namkin', 'lala', 8948)\n"
     ]
    }
   ],
   "source": [
    "print(tuples1)"
   ]
  },
  {
   "cell_type": "code",
   "execution_count": null,
   "metadata": {},
   "outputs": [],
   "source": []
  },
  {
   "cell_type": "markdown",
   "metadata": {},
   "source": [
    "# Remove Tuple items"
   ]
  },
  {
   "cell_type": "code",
   "execution_count": 61,
   "metadata": {},
   "outputs": [],
   "source": [
    "tuples1 = (\"vicky\",\"id\",4444,\"ccccc\",9494,\"ram\")"
   ]
  },
  {
   "cell_type": "code",
   "execution_count": 62,
   "metadata": {},
   "outputs": [
    {
     "name": "stdout",
     "output_type": "stream",
     "text": [
      "('vicky', 4444, 'ccccc', 9494, 'ram')\n"
     ]
    }
   ],
   "source": [
    "list453 = list(tuples1)\n",
    "list453.remove(\"id\")\n",
    "tuples1 = tuple(list453)\n",
    "print(tuples1)"
   ]
  },
  {
   "cell_type": "code",
   "execution_count": null,
   "metadata": {},
   "outputs": [],
   "source": []
  },
  {
   "cell_type": "markdown",
   "metadata": {},
   "source": [
    "# Pack, Unpack Tuples"
   ]
  },
  {
   "cell_type": "markdown",
   "metadata": {},
   "source": [
    "When we create a tuple, we normally assign values to it. This is called \"packing\" a tuple:"
   ]
  },
  {
   "cell_type": "code",
   "execution_count": 63,
   "metadata": {},
   "outputs": [],
   "source": [
    "tuple21 = (\"id\",12,\"name\",\"vicky\",98765432)  #   this is packing tuple"
   ]
  },
  {
   "cell_type": "code",
   "execution_count": null,
   "metadata": {},
   "outputs": [],
   "source": []
  },
  {
   "cell_type": "markdown",
   "metadata": {},
   "source": [
    "But, in Python, we are also allowed to extract the values back into variables. This is called \"unpacking\":"
   ]
  },
  {
   "cell_type": "code",
   "execution_count": 65,
   "metadata": {},
   "outputs": [
    {
     "name": "stdout",
     "output_type": "stream",
     "text": [
      "12\n",
      "vicky\n",
      "98765432\n"
     ]
    }
   ],
   "source": [
    "tuple21 = (12,\"vicky\",98765432)\n",
    "(id, name,phone) = tuple21          #   this is a unpacking\n",
    "\n",
    "print(id)\n",
    "print(name)\n",
    "print(phone)"
   ]
  },
  {
   "cell_type": "markdown",
   "metadata": {},
   "source": [
    "# Using Asterisk *"
   ]
  },
  {
   "cell_type": "markdown",
   "metadata": {},
   "source": [
    "If the number of variables is less than the number of values, you can add an * to the variable name and the values will be assigned to the variable as a list:"
   ]
  },
  {
   "cell_type": "code",
   "execution_count": 66,
   "metadata": {},
   "outputs": [
    {
     "name": "stdout",
     "output_type": "stream",
     "text": [
      "12\n",
      "vicky\n",
      "[98765432, 'ram', 'kam', 654, 'orange']\n"
     ]
    }
   ],
   "source": [
    "tuple212 = (12,\"vicky\",98765432,\"ram\",\"kam\",654,\"orange\")\n",
    "(idse,name, *phone) = tuple212\n",
    "print(idse)\n",
    "print(name)\n",
    "print(phone)"
   ]
  },
  {
   "cell_type": "code",
   "execution_count": null,
   "metadata": {},
   "outputs": [],
   "source": []
  },
  {
   "cell_type": "markdown",
   "metadata": {},
   "source": [
    "# Loop Tuples"
   ]
  },
  {
   "cell_type": "code",
   "execution_count": 68,
   "metadata": {},
   "outputs": [
    {
     "name": "stdout",
     "output_type": "stream",
     "text": [
      "12\n",
      "vicky\n",
      "98765432\n",
      "ram\n",
      "kam\n",
      "654\n",
      "orange\n"
     ]
    }
   ],
   "source": [
    "tuple23 = (12,\"vicky\",98765432,\"ram\",\"kam\",654,\"orange\")\n",
    "\n",
    "for ele4 in tuple23:\n",
    "    print(ele4)"
   ]
  },
  {
   "cell_type": "markdown",
   "metadata": {},
   "source": [
    "Using indexing number"
   ]
  },
  {
   "cell_type": "code",
   "execution_count": 72,
   "metadata": {},
   "outputs": [
    {
     "name": "stdout",
     "output_type": "stream",
     "text": [
      "12\n",
      "vicky\n",
      "98765432\n",
      "ram\n",
      "kam\n",
      "654\n",
      "orange\n"
     ]
    }
   ],
   "source": [
    "# useing for loop\n",
    "\n",
    "tuple212 = (12,\"vicky\",98765432,\"ram\",\"kam\",654,\"orange\")\n",
    "for element in range(len(tuple212)):\n",
    "    print(tuple212[element])"
   ]
  },
  {
   "cell_type": "code",
   "execution_count": 73,
   "metadata": {},
   "outputs": [
    {
     "name": "stdout",
     "output_type": "stream",
     "text": [
      "12\n",
      "vicky\n",
      "98765432\n",
      "ram\n",
      "kam\n",
      "654\n",
      "orange\n"
     ]
    }
   ],
   "source": [
    "# useing while loop\n",
    "\n",
    "\n",
    "tuple212 = (12,\"vicky\",98765432,\"ram\",\"kam\",654,\"orange\")\n",
    "\n",
    "i = 0 \n",
    "\n",
    "while i < len(tuple212):\n",
    "    print(tuple212[i])\n",
    "    i = i + 1"
   ]
  },
  {
   "cell_type": "code",
   "execution_count": null,
   "metadata": {},
   "outputs": [],
   "source": []
  },
  {
   "cell_type": "markdown",
   "metadata": {},
   "source": [
    "# Join Two Tuples"
   ]
  },
  {
   "cell_type": "code",
   "execution_count": 74,
   "metadata": {},
   "outputs": [
    {
     "name": "stdout",
     "output_type": "stream",
     "text": [
      "(12, 'vicky', 98765432, 'ram', 'kam', 654, 'orange', 'name', 4567, 'gova')\n"
     ]
    }
   ],
   "source": [
    "tuple212 = (12,\"vicky\",98765432,\"ram\",\"kam\",654,\"orange\")\n",
    "tuple213 = (\"name\",4567,\"gova\")\n",
    "\n",
    "tuple90 = tuple212 + tuple213\n",
    "print(tuple90)"
   ]
  },
  {
   "cell_type": "code",
   "execution_count": null,
   "metadata": {},
   "outputs": [],
   "source": []
  },
  {
   "cell_type": "code",
   "execution_count": 75,
   "metadata": {},
   "outputs": [
    {
     "data": {
      "text/plain": [
       "('name', 4567, 'gova', 'name', 4567, 'gova')"
      ]
     },
     "execution_count": 75,
     "metadata": {},
     "output_type": "execute_result"
    }
   ],
   "source": [
    "# multipale join tuple\n",
    "\n",
    "tuple34 = tuple213 * 2\n",
    "tuple34"
   ]
  },
  {
   "cell_type": "code",
   "execution_count": null,
   "metadata": {},
   "outputs": [],
   "source": []
  },
  {
   "cell_type": "markdown",
   "metadata": {},
   "source": [
    "# Tuple Methods"
   ]
  },
  {
   "cell_type": "raw",
   "metadata": {},
   "source": [
    "Python has two built-in methods that you can use on tuples.\n",
    "\n",
    "\n",
    "count()\tReturns the number of times a specified value occurs in a tuple\n",
    "index()\tSearches the tuple for a specified value and returns the position of where it was found"
   ]
  },
  {
   "cell_type": "code",
   "execution_count": 82,
   "metadata": {},
   "outputs": [
    {
     "name": "stdout",
     "output_type": "stream",
     "text": [
      "3\n"
     ]
    }
   ],
   "source": [
    "tuple54 = (5,7,4,2,5,7,4,4,9,7,3,44,2,5)\n",
    "result = tuple54.count(5)\n",
    "print(result)"
   ]
  },
  {
   "cell_type": "code",
   "execution_count": null,
   "metadata": {},
   "outputs": [],
   "source": []
  },
  {
   "cell_type": "code",
   "execution_count": 83,
   "metadata": {},
   "outputs": [
    {
     "name": "stdout",
     "output_type": "stream",
     "text": [
      "0\n"
     ]
    }
   ],
   "source": [
    "tuple55 = (5,7,4,2,5,7,4,4,9,7,3,44,2,5)\n",
    "rev = tuple55.index(5)\n",
    "print(rev)"
   ]
  },
  {
   "cell_type": "code",
   "execution_count": null,
   "metadata": {},
   "outputs": [],
   "source": [
    "e"
   ]
  },
  {
   "cell_type": "code",
   "execution_count": null,
   "metadata": {},
   "outputs": [],
   "source": []
  },
  {
   "cell_type": "markdown",
   "metadata": {},
   "source": [
    "# Set in Python"
   ]
  },
  {
   "cell_type": "code",
   "execution_count": null,
   "metadata": {},
   "outputs": [],
   "source": []
  },
  {
   "cell_type": "raw",
   "metadata": {},
   "source": [
    "A set is a collection which is unordered, unchangeable*, and unindexed.\n",
    "Duplicate values will be ignored:\n",
    "\n",
    "* Note: Set items are unchangeable, but you can remove items and add new items.\n",
    "\n",
    "\n",
    "set are represent currly bracketes"
   ]
  },
  {
   "cell_type": "code",
   "execution_count": 2,
   "metadata": {},
   "outputs": [
    {
     "name": "stdout",
     "output_type": "stream",
     "text": [
      "{1, 2, 3, 4, 5}\n"
     ]
    }
   ],
   "source": [
    "set1 = {1,2,3,4,5}\n",
    "print(set1)"
   ]
  },
  {
   "cell_type": "code",
   "execution_count": 7,
   "metadata": {},
   "outputs": [
    {
     "name": "stdout",
     "output_type": "stream",
     "text": [
      "{1, 2, 3, 4, 5, 6}\n",
      "<class 'set'>\n"
     ]
    }
   ],
   "source": [
    "# Duplicate values will be ignored:\n",
    "\n",
    "set2 = {1,2,1,3,4,5,4,6,4}\n",
    "print(set2)\n",
    "print(type(set2))"
   ]
  },
  {
   "cell_type": "code",
   "execution_count": 8,
   "metadata": {},
   "outputs": [
    {
     "name": "stdout",
     "output_type": "stream",
     "text": [
      "6\n"
     ]
    }
   ],
   "source": [
    "# length of set\n",
    "\n",
    "length = len(set2)\n",
    "print(length)"
   ]
  },
  {
   "cell_type": "code",
   "execution_count": 11,
   "metadata": {},
   "outputs": [
    {
     "name": "stdout",
     "output_type": "stream",
     "text": [
      "{1, 2, None, 'vicky', 33.23}\n"
     ]
    }
   ],
   "source": [
    "# a set contain any data type \n",
    "\n",
    "set3 = {1,2,True,33.23,\"vicky\",None}\n",
    "print(set3)"
   ]
  },
  {
   "cell_type": "code",
   "execution_count": 14,
   "metadata": {},
   "outputs": [
    {
     "name": "stdout",
     "output_type": "stream",
     "text": [
      "{22.22, True, 'vicky', 566}\n",
      "<class 'set'>\n"
     ]
    }
   ],
   "source": [
    "#   The set() Constructor\n",
    "\n",
    "set4 = set((566,\"vicky\",22.22,True))\n",
    "print(set4)\n",
    "print(type(set4))"
   ]
  },
  {
   "cell_type": "code",
   "execution_count": null,
   "metadata": {},
   "outputs": [],
   "source": []
  },
  {
   "cell_type": "markdown",
   "metadata": {},
   "source": [
    "# Access Items"
   ]
  },
  {
   "cell_type": "code",
   "execution_count": null,
   "metadata": {},
   "outputs": [],
   "source": []
  },
  {
   "cell_type": "code",
   "execution_count": 15,
   "metadata": {},
   "outputs": [
    {
     "name": "stdout",
     "output_type": "stream",
     "text": [
      "22.22\n",
      "True\n",
      "vicky\n",
      "566\n"
     ]
    }
   ],
   "source": [
    "set5 = {22.22, True, 'vicky', 566}\n",
    "for ele in set5:\n",
    "    print(ele)"
   ]
  },
  {
   "cell_type": "code",
   "execution_count": 18,
   "metadata": {},
   "outputs": [
    {
     "name": "stdout",
     "output_type": "stream",
     "text": [
      "True\n"
     ]
    }
   ],
   "source": [
    "print(22.22 in set5)"
   ]
  },
  {
   "cell_type": "code",
   "execution_count": null,
   "metadata": {},
   "outputs": [],
   "source": []
  },
  {
   "cell_type": "code",
   "execution_count": null,
   "metadata": {},
   "outputs": [],
   "source": []
  },
  {
   "cell_type": "markdown",
   "metadata": {},
   "source": [
    "change items"
   ]
  },
  {
   "cell_type": "raw",
   "metadata": {},
   "source": [
    "Once a set is created, you cannot change its items, but you can add new items."
   ]
  },
  {
   "cell_type": "markdown",
   "metadata": {},
   "source": [
    "# Add Set Items"
   ]
  },
  {
   "cell_type": "code",
   "execution_count": 21,
   "metadata": {},
   "outputs": [
    {
     "name": "stdout",
     "output_type": "stream",
     "text": [
      "{1, 3, 'ram', 22.43, 'vicky'}\n"
     ]
    }
   ],
   "source": [
    "# do use it add()\n",
    "\n",
    "set6 = {\"vicky\",1,3,22.43,True}\n",
    "set6.add(\"ram\")\n",
    "print(set6)"
   ]
  },
  {
   "cell_type": "code",
   "execution_count": 22,
   "metadata": {},
   "outputs": [
    {
     "name": "stdout",
     "output_type": "stream",
     "text": [
      "{1, 3, 22.43, 'vicky', 'sdfghjkl', 99999}\n"
     ]
    }
   ],
   "source": [
    "# do use it update()\n",
    "\n",
    "set7 = {\"vicky\",1,3,22.43,True}\n",
    "set77 = {1,3,99999,\"sdfghjkl\"}\n",
    "\n",
    "set7.update(set77)\n",
    "print(set7)"
   ]
  },
  {
   "cell_type": "code",
   "execution_count": 24,
   "metadata": {},
   "outputs": [
    {
     "name": "stdout",
     "output_type": "stream",
     "text": [
      "{1, 'i', 3, 5, 33.33, 22.43, 'kumar', 'am', 'vicky'}\n"
     ]
    }
   ],
   "source": [
    "# Add Any Iterable\n",
    "\n",
    "set8 = {\"vicky\",1,3,22.43,True}\n",
    "list1 = [\"i\",\"am\",5,\"kumar\",33.33]\n",
    "set8.update(list1)\n",
    "print(set8)\n"
   ]
  },
  {
   "cell_type": "markdown",
   "metadata": {},
   "source": [
    "# Remove Item"
   ]
  },
  {
   "cell_type": "code",
   "execution_count": 25,
   "metadata": {},
   "outputs": [
    {
     "name": "stdout",
     "output_type": "stream",
     "text": [
      "{3, 'vicky', 22.43}\n"
     ]
    }
   ],
   "source": [
    "# do use it remove() , discard()\n",
    "\n",
    "set9 = {\"vicky\",1,3,22.43,True}\n",
    "set9.remove(True)\n",
    "print(set9)"
   ]
  },
  {
   "cell_type": "code",
   "execution_count": 29,
   "metadata": {},
   "outputs": [
    {
     "name": "stdout",
     "output_type": "stream",
     "text": [
      "{3, 1, 22.43}\n"
     ]
    }
   ],
   "source": [
    "# do use it discard()\n",
    "\n",
    "set10 = {\"vicky\",1,3,22.43,True}\n",
    "set10.discard(\"vicky\")\n",
    "print(set10)"
   ]
  },
  {
   "cell_type": "code",
   "execution_count": 30,
   "metadata": {},
   "outputs": [
    {
     "name": "stdout",
     "output_type": "stream",
     "text": [
      "3\n",
      "{1, 'vicky', 22.43}\n"
     ]
    }
   ],
   "source": [
    "# Remove the last item by using the pop() method:\n",
    "\n",
    "set11 = {\"vicky\",1,3,22.43,True}\n",
    "item = set11.pop()\n",
    "print(item)\n",
    "print(set11)"
   ]
  },
  {
   "cell_type": "code",
   "execution_count": 32,
   "metadata": {},
   "outputs": [
    {
     "name": "stdout",
     "output_type": "stream",
     "text": [
      "None\n",
      "set()\n"
     ]
    }
   ],
   "source": [
    "# The clear() method empties the set:\n",
    "\n",
    "set12 = {\"vicky\",1,3,22.43,True}\n",
    "items = set12.clear()\n",
    "print(items)\n",
    "print(set12)"
   ]
  },
  {
   "cell_type": "code",
   "execution_count": 35,
   "metadata": {},
   "outputs": [
    {
     "ename": "NameError",
     "evalue": "name 'set13' is not defined",
     "output_type": "error",
     "traceback": [
      "\u001b[1;31m----------------------------------------------------\u001b[0m",
      "\u001b[1;31mNameError\u001b[0m          Traceback (most recent call last)",
      "\u001b[1;32m<ipython-input-35-654c4fb5f500>\u001b[0m in \u001b[0;36m<module>\u001b[1;34m\u001b[0m\n\u001b[0;32m      3\u001b[0m \u001b[0mset13\u001b[0m \u001b[1;33m=\u001b[0m \u001b[1;33m{\u001b[0m\u001b[1;34m\"vicky\"\u001b[0m\u001b[1;33m,\u001b[0m\u001b[1;36m1\u001b[0m\u001b[1;33m,\u001b[0m\u001b[1;36m3\u001b[0m\u001b[1;33m,\u001b[0m\u001b[1;36m22.43\u001b[0m\u001b[1;33m,\u001b[0m\u001b[1;32mTrue\u001b[0m\u001b[1;33m}\u001b[0m\u001b[1;33m\u001b[0m\u001b[1;33m\u001b[0m\u001b[0m\n\u001b[0;32m      4\u001b[0m \u001b[1;32mdel\u001b[0m \u001b[0mset13\u001b[0m\u001b[1;33m\u001b[0m\u001b[1;33m\u001b[0m\u001b[0m\n\u001b[1;32m----> 5\u001b[1;33m \u001b[0mprint\u001b[0m\u001b[1;33m(\u001b[0m\u001b[0mset13\u001b[0m\u001b[1;33m)\u001b[0m\u001b[1;33m\u001b[0m\u001b[1;33m\u001b[0m\u001b[0m\n\u001b[0m",
      "\u001b[1;31mNameError\u001b[0m: name 'set13' is not defined"
     ]
    }
   ],
   "source": [
    "# The del keyword will delete the set completely:\n",
    "\n",
    "set13 = {\"vicky\",1,3,22.43,True}\n",
    "del set13\n",
    "print(set13)\n"
   ]
  },
  {
   "cell_type": "markdown",
   "metadata": {},
   "source": [
    "# Join Two Sets"
   ]
  },
  {
   "cell_type": "code",
   "execution_count": 36,
   "metadata": {},
   "outputs": [
    {
     "data": {
      "text/plain": [
       "{0, 1, 3, 4, 5, 6, 8, 9, 'am', 'i', 'vicky'}"
      ]
     },
     "execution_count": 36,
     "metadata": {},
     "output_type": "execute_result"
    }
   ],
   "source": [
    "# Note: Both union() and update() will exclude any duplicate items.\n",
    "\n",
    "# do use it union()\n",
    "\n",
    "\n",
    "set14 = {1,3,4,8,9,0,6,5,3}\n",
    "set1414 = {\"vicky\",\"i\",\"am\"}\n",
    "\n",
    "set14.union(set1414)"
   ]
  },
  {
   "cell_type": "code",
   "execution_count": 38,
   "metadata": {},
   "outputs": [
    {
     "name": "stdout",
     "output_type": "stream",
     "text": [
      "{0, 1, 'i', 3, 4, 5, 6, 8, 9, 'am', 'vicky'}\n"
     ]
    }
   ],
   "source": [
    "# do use it update()\n",
    "\n",
    "\n",
    "set15 = {1,3,4,8,9,0,6,5,3}\n",
    "set1515 = {\"vicky\",\"i\",\"am\"}\n",
    "\n",
    "set15.update(set1515)\n",
    "print(set15)"
   ]
  },
  {
   "cell_type": "raw",
   "metadata": {},
   "source": [
    "Method\t                      Description\n",
    "\n",
    "\n",
    "add()\t                Adds an element to the set\n",
    "clear()\t                Removes all the elements from the set\n",
    "copy()\t                Returns a copy of the set\n",
    "difference()\t        Returns a set containing the difference between two or more sets\n",
    "difference_update()\t    Removes the items in this set that are also included in another, specified set\n",
    "discard()\t            Remove the specified item\n",
    "intersection()\t        Returns a set, that is the intersection of two other sets\n",
    "intersection_update()\tRemoves the items in this set that are not present in other, specified set(s)\n",
    "isdisjoint()\t        Returns whether two sets have a intersection or not\n",
    "issubset()\t            Returns whether another set contains this set or not\n",
    "issuperset()\t        Returns whether this set contains another set or not\n",
    "pop()\t                Removes an element from the set\n",
    "remove()\t            Removes the specified element\n",
    "symmetric_difference()\tReturns a set with the symmetric differences of two sets\n",
    "symmetric_difference_update()\tinserts the symmetric differences from this set and another\n",
    "union()\t                Return a set containing the union of sets\n",
    "update()\t            Update the set with the union of this set and others"
   ]
  },
  {
   "cell_type": "code",
   "execution_count": null,
   "metadata": {},
   "outputs": [],
   "source": []
  },
  {
   "cell_type": "code",
   "execution_count": null,
   "metadata": {},
   "outputs": [],
   "source": []
  },
  {
   "cell_type": "code",
   "execution_count": null,
   "metadata": {},
   "outputs": [],
   "source": []
  },
  {
   "cell_type": "code",
   "execution_count": null,
   "metadata": {},
   "outputs": [],
   "source": []
  },
  {
   "cell_type": "code",
   "execution_count": null,
   "metadata": {},
   "outputs": [],
   "source": []
  },
  {
   "cell_type": "code",
   "execution_count": null,
   "metadata": {},
   "outputs": [],
   "source": []
  },
  {
   "cell_type": "code",
   "execution_count": null,
   "metadata": {},
   "outputs": [],
   "source": []
  },
  {
   "cell_type": "code",
   "execution_count": null,
   "metadata": {},
   "outputs": [],
   "source": []
  },
  {
   "cell_type": "code",
   "execution_count": null,
   "metadata": {},
   "outputs": [],
   "source": []
  },
  {
   "cell_type": "markdown",
   "metadata": {},
   "source": [
    "# oops  concept"
   ]
  },
  {
   "cell_type": "code",
   "execution_count": 15,
   "metadata": {},
   "outputs": [],
   "source": [
    "#  Q . what is oops in python\n",
    "\n",
    "# ANS.  so mians oops object orianted progaraming \n",
    "#       in python sports oops , oop covers in real - world entities \n",
    "\n",
    "#  oops main topics\n",
    "#  1.object   2.class   3.inharitance  4. polymorephisem   5. incqupsulations"
   ]
  },
  {
   "cell_type": "markdown",
   "metadata": {},
   "source": [
    "# 1. object"
   ]
  },
  {
   "cell_type": "code",
   "execution_count": 16,
   "metadata": {},
   "outputs": [],
   "source": [
    "# Q. what is object\n",
    "\n",
    "# ANS.  all ours you can see it in the world like objects\n",
    "#                      or\n",
    "#       object are specific instance of a class . called object\n",
    "\n",
    "# Exa : -   phone , car , leaptop, pen, even it me a object"
   ]
  },
  {
   "cell_type": "markdown",
   "metadata": {},
   "source": [
    "# 2. Class"
   ]
  },
  {
   "cell_type": "code",
   "execution_count": 17,
   "metadata": {},
   "outputs": [],
   "source": [
    "# Q. what is class\n",
    "\n",
    "# ANS. a class cllections of objects . so called is a class\n",
    "#                    or\n",
    "#      class is a tamplate / blue print for real - world entities\n",
    "\n",
    "# Note :- class is a user difaine data type\n",
    "\n",
    "# Exa :-               Phone \n",
    "\n",
    "#          properties           behavior\n",
    "\n",
    "#             color           make a call\n",
    "#             bettery         play the game"
   ]
  },
  {
   "cell_type": "code",
   "execution_count": 18,
   "metadata": {},
   "outputs": [],
   "source": [
    "# codeing Example"
   ]
  },
  {
   "cell_type": "code",
   "execution_count": 22,
   "metadata": {},
   "outputs": [
    {
     "name": "stdout",
     "output_type": "stream",
     "text": [
      "calling\n",
      "playing the game\n"
     ]
    }
   ],
   "source": [
    "class Phone:\n",
    "    def make_call(self):\n",
    "        print(\"calling\")\n",
    "    def play_game(self):\n",
    "        print(\"playing the game\")\n",
    "        \n",
    "p1 = Phone()\n",
    "p1.make_call()\n",
    "p1.play_game()"
   ]
  },
  {
   "cell_type": "code",
   "execution_count": 21,
   "metadata": {},
   "outputs": [],
   "source": [
    "#  Example with paramitter "
   ]
  },
  {
   "cell_type": "code",
   "execution_count": 25,
   "metadata": {},
   "outputs": [
    {
     "name": "stdout",
     "output_type": "stream",
     "text": [
      "red\n",
      "500\n"
     ]
    }
   ],
   "source": [
    "class Phones:\n",
    "    def show_color(self,color):\n",
    "        print(color)\n",
    "        \n",
    "    def show_cost(self,cost):\n",
    "        print(cost)\n",
    "    \n",
    "p2 = Phones()\n",
    "p2.show_color(\"red\")\n",
    "p2.show_cost(500)"
   ]
  },
  {
   "cell_type": "code",
   "execution_count": 2,
   "metadata": {},
   "outputs": [
    {
     "data": {
      "text/plain": [
       "'Bmw'"
      ]
     },
     "execution_count": 2,
     "metadata": {},
     "output_type": "execute_result"
    }
   ],
   "source": [
    "class Car ():\n",
    "    def __init__(self,color,brack,name):\n",
    "        self.name= name\n",
    "        self.color=color\n",
    "        self.brack=brack\n",
    "        \n",
    "c1 = Car(name = \"Bmw\",color = \"red\",brack = \"lader\")\n",
    "c1.name\n",
    "        "
   ]
  },
  {
   "cell_type": "code",
   "execution_count": null,
   "metadata": {},
   "outputs": [],
   "source": []
  },
  {
   "cell_type": "code",
   "execution_count": null,
   "metadata": {},
   "outputs": [],
   "source": []
  },
  {
   "cell_type": "code",
   "execution_count": null,
   "metadata": {},
   "outputs": [],
   "source": []
  },
  {
   "cell_type": "markdown",
   "metadata": {},
   "source": [
    "#  inheritance"
   ]
  },
  {
   "cell_type": "code",
   "execution_count": 3,
   "metadata": {},
   "outputs": [],
   "source": [
    "# what is inheritance in python\n",
    "\n",
    "# ANS. a perant class proparties use it chailed class \n",
    "#                       or \n",
    "#      with inheritance one class can derive properties of another class\n",
    "\n",
    "# Exa :- perant to chailed"
   ]
  },
  {
   "cell_type": "code",
   "execution_count": 6,
   "metadata": {},
   "outputs": [
    {
     "name": "stdout",
     "output_type": "stream",
     "text": [
      "it is vehecal\n",
      "model name  BMW\n",
      "price 500\n"
     ]
    }
   ],
   "source": [
    "# code inheritance\n",
    "\n",
    "class Vihecal:\n",
    "    def __init__(self, model_name, price):\n",
    "        self.model_name = model_name\n",
    "        self.price = price\n",
    "        \n",
    "    def show_details(self):\n",
    "        print(\"it is vehecal\")\n",
    "        print(\"model name \", self.model_name)\n",
    "        print(\"price\", self.price)\n",
    "v1 = Vihecal(\"BMW\",500)\n",
    "v1.show_details()"
   ]
  },
  {
   "cell_type": "code",
   "execution_count": 7,
   "metadata": {},
   "outputs": [
    {
     "name": "stdout",
     "output_type": "stream",
     "text": [
      "it is vehecal\n",
      "model name  neno\n",
      "price 400\n"
     ]
    }
   ],
   "source": [
    "v2 = Vihecal(\"neno\", 400)\n",
    "v2.show_details()"
   ]
  },
  {
   "cell_type": "code",
   "execution_count": 14,
   "metadata": {},
   "outputs": [
    {
     "name": "stdout",
     "output_type": "stream",
     "text": [
      "i am a car\n"
     ]
    }
   ],
   "source": [
    "class Car (Vihecal):\n",
    "    def show_details(self):\n",
    "        print(\"i am a car\")\n",
    "        \n",
    "c1 = Car(\"TATA\", 900)\n",
    "c1.show_details()"
   ]
  },
  {
   "cell_type": "code",
   "execution_count": 10,
   "metadata": {},
   "outputs": [
    {
     "name": "stdout",
     "output_type": "stream",
     "text": [
      "i am a car\n"
     ]
    }
   ],
   "source": [
    "c2 = Car(\"belano\", 590)\n",
    "c2.show_car_details()"
   ]
  },
  {
   "cell_type": "code",
   "execution_count": 11,
   "metadata": {},
   "outputs": [],
   "source": [
    "# over - riding  init method\n"
   ]
  },
  {
   "cell_type": "code",
   "execution_count": 15,
   "metadata": {},
   "outputs": [
    {
     "name": "stdout",
     "output_type": "stream",
     "text": [
      "i am a car\n",
      "tyre 6\n",
      "hp 400\n"
     ]
    }
   ],
   "source": [
    "class Car (Vihecal):\n",
    "    def __init__(self,model_name, price,tyre,hp):\n",
    "        super().__init__(model_name, price)\n",
    "        self.tyre = tyre\n",
    "        self.hp = hp\n",
    "    def show_details(self):\n",
    "        print(\"i am a car\")\n",
    "        print(\"tyre\", self.tyre)\n",
    "        print(\"hp\", self.hp)\n",
    "        \n",
    "c3 = Car(\"volvo\",20000,6,400)\n",
    "c3.show_details()\n",
    "    "
   ]
  },
  {
   "cell_type": "code",
   "execution_count": 13,
   "metadata": {},
   "outputs": [
    {
     "name": "stdout",
     "output_type": "stream",
     "text": [
      "i am a car\n",
      "tyre 6\n",
      "hp 400\n"
     ]
    }
   ],
   "source": [
    "c3.show_car_details()"
   ]
  },
  {
   "cell_type": "markdown",
   "metadata": {},
   "source": [
    "# Multiple Inheritance"
   ]
  },
  {
   "cell_type": "code",
   "execution_count": 5,
   "metadata": {},
   "outputs": [],
   "source": [
    " #  "
   ]
  },
  {
   "cell_type": "code",
   "execution_count": null,
   "metadata": {},
   "outputs": [],
   "source": []
  },
  {
   "cell_type": "code",
   "execution_count": null,
   "metadata": {},
   "outputs": [],
   "source": []
  },
  {
   "cell_type": "code",
   "execution_count": null,
   "metadata": {},
   "outputs": [],
   "source": []
  },
  {
   "cell_type": "code",
   "execution_count": null,
   "metadata": {},
   "outputs": [],
   "source": []
  },
  {
   "cell_type": "code",
   "execution_count": null,
   "metadata": {},
   "outputs": [],
   "source": []
  },
  {
   "cell_type": "code",
   "execution_count": null,
   "metadata": {},
   "outputs": [],
   "source": []
  },
  {
   "cell_type": "code",
   "execution_count": null,
   "metadata": {},
   "outputs": [],
   "source": []
  },
  {
   "cell_type": "code",
   "execution_count": null,
   "metadata": {},
   "outputs": [],
   "source": []
  },
  {
   "cell_type": "code",
   "execution_count": null,
   "metadata": {},
   "outputs": [],
   "source": []
  },
  {
   "cell_type": "markdown",
   "metadata": {},
   "source": [
    "# Decorators in python"
   ]
  },
  {
   "cell_type": "raw",
   "metadata": {
    "tags": []
   },
   "source": [
    "* What is Decorator\n",
    "* Prerequisites for Decorators\n",
    "* Creating Decorators\n",
    "* Why Decorators are used OR\n",
    "* When to use Decorators with Example \n",
    "* Metaprogramming"
   ]
  },
  {
   "cell_type": "markdown",
   "metadata": {
    "tags": []
   },
   "source": [
    "* what is Decorator"
   ]
  },
  {
   "cell_type": "raw",
   "metadata": {
    "tags": []
   },
   "source": [
    "==> A decorator is a design pattern in Python that allows a user to add new functionality to an\n",
    "    existing object without modifying its structure. Decorators are usually called before the         definition of a function you want to decorate"
   ]
  },
  {
   "cell_type": "markdown",
   "metadata": {
    "tags": []
   },
   "source": [
    "* Prerequisites"
   ]
  },
  {
   "cell_type": "raw",
   "metadata": {
    "tags": []
   },
   "source": [
    "we must know following basics before creating decorators\n",
    "\n",
    "* Defining Functions\n",
    "* Functions are objects\n",
    "* Assigning Function to Variables\n",
    "* Defining function inside other function (Nested Function)\n",
    "* Passing function as arguments to another function\n",
    "* Function returning other function"
   ]
  },
  {
   "cell_type": "markdown",
   "metadata": {
    "tags": []
   },
   "source": [
    "* Rules for Decorators "
   ]
  },
  {
   "cell_type": "raw",
   "metadata": {
    "tags": []
   },
   "source": [
    "* Decorators must be prefixed with @\n",
    "* Decorator function must be placed above the definition og the function to be decorated.\n",
    "* Without nested finction decorators can't be created."
   ]
  },
  {
   "cell_type": "code",
   "execution_count": 37,
   "metadata": {
    "collapsed": true,
    "jupyter": {
     "outputs_hidden": true
    },
    "tags": []
   },
   "outputs": [
    {
     "data": {
      "text/plain": [
       "'I AM FROM JAIPUR RAJASTHAN'"
      ]
     },
     "execution_count": 37,
     "metadata": {},
     "output_type": "execute_result"
    }
   ],
   "source": [
    "def big(function0):\n",
    "    return function0.upper()\n",
    "\n",
    "def display(func):\n",
    "    function = func(\"i am from jaipur rajasthan\")\n",
    "    return function\n",
    "display(big)\n",
    "    "
   ]
  },
  {
   "cell_type": "code",
   "execution_count": 1,
   "metadata": {
    "tags": []
   },
   "outputs": [
    {
     "data": {
      "text/plain": [
       "'i am a good boy'"
      ]
     },
     "execution_count": 1,
     "metadata": {},
     "output_type": "execute_result"
    }
   ],
   "source": [
    "def big1(fun0):\n",
    "    return fun0.upper()\n",
    "def small(fun1):\n",
    "    return fun1.lower()\n",
    "\n",
    "def display0(function):\n",
    "    return function(\"I AM A GOOD BOY\")\n",
    "\n",
    "#display0(big1)\n",
    "display0(small)"
   ]
  },
  {
   "cell_type": "code",
   "execution_count": 29,
   "metadata": {
    "tags": []
   },
   "outputs": [
    {
     "name": "stdout",
     "output_type": "stream",
     "text": [
      "i am a good boy\n"
     ]
    }
   ],
   "source": [
    "def lower0(func):\n",
    "    def inner1():\n",
    "        result = func()\n",
    "        return result.lower()\n",
    "    return inner1\n",
    "\n",
    "def display1():\n",
    "    return \"I AM A GOOD BOY\"\n",
    "ram = lower0(display1)\n",
    "ram()"
   ]
  },
  {
   "cell_type": "code",
   "execution_count": 42,
   "metadata": {
    "tags": []
   },
   "outputs": [
    {
     "name": "stdout",
     "output_type": "stream",
     "text": [
      "In decorator inner function\n",
      "In business ligic fun\n",
      "i have 2 years of expriance\n"
     ]
    },
    {
     "data": {
      "text/plain": [
       "'RAM SITA JANKI JAY BOLO HANUMAN KI'"
      ]
     },
     "execution_count": 42,
     "metadata": {},
     "output_type": "execute_result"
    }
   ],
   "source": [
    "# this is use decorator\n",
    "\n",
    "def lower1(fun):\n",
    "    def inner0():\n",
    "        print(\"In decorator inner function\")\n",
    "        \n",
    "        return fun().lower()\n",
    "    return inner0\n",
    "\n",
    "def upar(fun34):\n",
    "    def inner1():\n",
    "        resu = fun34().upper()\n",
    "        return resu\n",
    "    return inner1\n",
    "@lower1\n",
    "def disp():\n",
    "    print(\"In business ligic fun\")\n",
    "    return \"I HAVE 2 YEARS OF EXPRIANCE\"\n",
    "\n",
    "print(disp())\n",
    "\n",
    "@upar\n",
    "def bigbe():\n",
    "    return \"ram sita janki jay bolo hanuman ki\"\n",
    "bigbe()\n"
   ]
  },
  {
   "cell_type": "code",
   "execution_count": null,
   "metadata": {},
   "outputs": [],
   "source": []
  },
  {
   "cell_type": "code",
   "execution_count": null,
   "metadata": {},
   "outputs": [],
   "source": []
  },
  {
   "cell_type": "code",
   "execution_count": 60,
   "metadata": {
    "tags": []
   },
   "outputs": [
    {
     "name": "stdout",
     "output_type": "stream",
     "text": [
      "hello ji\n",
      "ok then byeee\n",
      "final ans :- 13\n"
     ]
    }
   ],
   "source": [
    "def decor(func23,*args):\n",
    "    def wrapper(*args):\n",
    "        print(\"hello ji\")\n",
    "        result1 = func23(*args)\n",
    "        print(\"ok then byeee\")\n",
    "        return result1 - 2\n",
    "    return wrapper\n",
    "\n",
    "@decor\n",
    "def addition(x,y):\n",
    "    \n",
    "    return x+y\n",
    "@decor\n",
    "def subtraction(x,y):\n",
    "    print(x - y)\n",
    "\n",
    "result = addition(10,5)\n",
    "print(\"final ans :-\",result)\n",
    "#subtraction(10,5)"
   ]
  },
  {
   "cell_type": "code",
   "execution_count": null,
   "metadata": {},
   "outputs": [],
   "source": []
  },
  {
   "cell_type": "code",
   "execution_count": 1,
   "metadata": {},
   "outputs": [
    {
     "name": "stdout",
     "output_type": "stream",
     "text": [
      "Decorated\n",
      "Ordinary\n"
     ]
    }
   ],
   "source": [
    " def mk(x):\n",
    "    def mk1():\n",
    "        print(\"Decorated\")\n",
    "        x()\n",
    "    return mk1\n",
    "def mk2():\n",
    "    print(\"Ordinary\")\n",
    "p = mk(mk2)\n",
    "p()"
   ]
  },
  {
   "cell_type": "code",
   "execution_count": null,
   "metadata": {},
   "outputs": [],
   "source": []
  },
  {
   "cell_type": "code",
   "execution_count": null,
   "metadata": {},
   "outputs": [],
   "source": []
  },
  {
   "cell_type": "markdown",
   "metadata": {},
   "source": [
    "# Iterators in Python"
   ]
  },
  {
   "cell_type": "markdown",
   "metadata": {},
   "source": [
    "* What is iterators"
   ]
  },
  {
   "cell_type": "raw",
   "metadata": {},
   "source": [
    "=>In Python, an iterator is an object used to iterate over iterable objects\n",
    "  such as lists, tuples, dictionaries, and sets. An object is called iterable\n",
    "  if  we can get an iterator from it or loop over it."
   ]
  },
  {
   "cell_type": "markdown",
   "metadata": {},
   "source": [
    "or"
   ]
  },
  {
   "cell_type": "raw",
   "metadata": {},
   "source": [
    "An iterator is an object that contains a countable number of values.\n",
    "An iterator is an object that can be iterated upon, meaning that you can traverse through all the values.\n",
    "\n",
    "\n",
    "Technically, in Python, an iterator is an object which implements the iterator protocol, which consist of the methods __iter__() and __next__()."
   ]
  },
  {
   "cell_type": "code",
   "execution_count": null,
   "metadata": {},
   "outputs": [],
   "source": []
  },
  {
   "cell_type": "code",
   "execution_count": 5,
   "metadata": {},
   "outputs": [
    {
     "name": "stdout",
     "output_type": "stream",
     "text": [
      "2\n",
      "2\n",
      "1\n"
     ]
    }
   ],
   "source": [
    "iteratble = [2,2,1,3,4,5,6,7,8,9]\n",
    "obj = iter(iteratble)\n",
    "\n",
    "print(next(obj))\n",
    "print(next(obj))\n",
    "print(next(obj))"
   ]
  },
  {
   "cell_type": "code",
   "execution_count": 7,
   "metadata": {},
   "outputs": [
    {
     "name": "stdout",
     "output_type": "stream",
     "text": [
      "4\n",
      "5\n"
     ]
    }
   ],
   "source": [
    "########\n",
    "\n",
    "\n",
    "\n",
    "####\n",
    "print(next(obj))\n",
    "\n",
    "\n",
    "\n",
    "\n",
    "######\n",
    "\n",
    "#####\n",
    "\n",
    "print(next(obj))"
   ]
  },
  {
   "cell_type": "code",
   "execution_count": null,
   "metadata": {},
   "outputs": [],
   "source": []
  },
  {
   "cell_type": "code",
   "execution_count": null,
   "metadata": {},
   "outputs": [],
   "source": []
  }
 ],
 "metadata": {
  "kernelspec": {
   "display_name": "Python 3",
   "language": "python",
   "name": "python3"
  },
  "language_info": {
   "codemirror_mode": {
    "name": "ipython",
    "version": 3
   },
   "file_extension": ".py",
   "mimetype": "text/x-python",
   "name": "python",
   "nbconvert_exporter": "python",
   "pygments_lexer": "ipython3",
   "version": "3.8.5"
  }
 },
 "nbformat": 4,
 "nbformat_minor": 4
}
