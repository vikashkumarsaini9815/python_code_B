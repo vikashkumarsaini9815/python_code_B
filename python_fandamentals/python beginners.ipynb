{
 "cells": [
  {
   "cell_type": "markdown",
   "metadata": {},
   "source": [
    "#  frist program "
   ]
  },
  {
   "cell_type": "code",
   "execution_count": 1,
   "metadata": {},
   "outputs": [
    {
     "name": "stdout",
     "output_type": "stream",
     "text": [
      "hello program\n"
     ]
    }
   ],
   "source": [
    "print (\"hello program\")"
   ]
  },
  {
   "cell_type": "code",
   "execution_count": 7,
   "metadata": {},
   "outputs": [
    {
     "name": "stdout",
     "output_type": "stream",
     "text": [
      "hi\n"
     ]
    }
   ],
   "source": [
    "#  python ke sath os module  \n",
    "import os\n",
    "print(\"hi\")"
   ]
  },
  {
   "cell_type": "code",
   "execution_count": 9,
   "metadata": {},
   "outputs": [
    {
     "name": "stdout",
     "output_type": "stream",
     "text": [
      "hi my name\n",
      "is vicky kumar saini\n",
      "i am from jaipur\n"
     ]
    }
   ],
   "source": [
    "print('''hi my name\n",
    "is vicky kumar saini\n",
    "i am from jaipur'''\n",
    ")"
   ]
  },
  {
   "cell_type": "code",
   "execution_count": 10,
   "metadata": {},
   "outputs": [
    {
     "ename": "SyntaxError",
     "evalue": "EOL while scanning string literal (<ipython-input-10-810431267b1e>, line 1)",
     "output_type": "error",
     "traceback": [
      "\u001b[1;36m  File \u001b[1;32m\"<ipython-input-10-810431267b1e>\"\u001b[1;36m, line \u001b[1;32m1\u001b[0m\n\u001b[1;33m    print(\" hi my name is\u001b[0m\n\u001b[1;37m                          ^\u001b[0m\n\u001b[1;31mSyntaxError\u001b[0m\u001b[1;31m:\u001b[0m EOL while scanning string literal\n"
     ]
    }
   ],
   "source": [
    "print(\" hi my name is \n",
    "vicky kumar \n",
    "saini \")"
   ]
  },
  {
   "cell_type": "markdown",
   "metadata": {},
   "source": [
    "# comments "
   ]
  },
  {
   "cell_type": "code",
   "execution_count": 6,
   "metadata": {},
   "outputs": [],
   "source": [
    "#  2 type of comments\n",
    "#  1 . Single line comments - written using #\n",
    "#  2 . Multi-line comments – Written using ‘’’ Comment ‘’’ or “”” Comment “””."
   ]
  },
  {
   "cell_type": "markdown",
   "metadata": {},
   "source": [
    "# install extarnal module in python "
   ]
  },
  {
   "cell_type": "code",
   "execution_count": null,
   "metadata": {},
   "outputs": [],
   "source": [
    "from playsound import playsound\n",
    "playsound('C:\\\\\\\\music\\\\\\\\song.mp3')"
   ]
  },
  {
   "cell_type": "code",
   "execution_count": 1,
   "metadata": {},
   "outputs": [
    {
     "name": "stdout",
     "output_type": "stream",
     "text": [
      "['.ipynb_checkpoints', 'python beginners.ipynb']\n"
     ]
    }
   ],
   "source": [
    "# Write a python program to print the contents of a directory using os module. Search online for the function which does that.\n",
    "\n",
    "import os \n",
    "\n",
    "print (os.listdir())"
   ]
  },
  {
   "cell_type": "markdown",
   "metadata": {},
   "source": [
    "#  variables "
   ]
  },
  {
   "cell_type": "code",
   "execution_count": 3,
   "metadata": {},
   "outputs": [],
   "source": [
    "#  ==>    A variable is a name given to a memory location in a program.\n",
    "#  ==>    Variable – Container to store a value\n",
    "#         For example  :-\n",
    "a = \" vicky\"\n",
    "b = 123\n"
   ]
  },
  {
   "cell_type": "markdown",
   "metadata": {},
   "source": [
    "# keywords"
   ]
  },
  {
   "cell_type": "code",
   "execution_count": 5,
   "metadata": {},
   "outputs": [
    {
     "data": {
      "text/plain": [
       "'  False\\tawait\\telse\\timport\\tpass\\n     None\\tbreak\\texcept\\tin\\traise\\n     True\\tclass\\tfinally\\tis\\treturn\\n     and\\tcontinue\\tfor\\tlambda\\ttry\\n     as\\tdef\\tfrom\\tnonlocal\\twhile\\n     assert\\tdel\\tglobal\\tnot\\twith\\n     async\\telif\\tif\\tor\\tyield  '"
      ]
     },
     "execution_count": 5,
     "metadata": {},
     "output_type": "execute_result"
    }
   ],
   "source": [
    "#    ==>   Reserved words in Python\n",
    "#          like \n",
    "\"\"\"  False\tawait\telse\timport\tpass\n",
    "     None\tbreak\texcept\tin\traise\n",
    "     True\tclass\tfinally\tis\treturn\n",
    "     and\tcontinue\tfor\tlambda\ttry\n",
    "     as\tdef\tfrom\tnonlocal\twhile\n",
    "     assert\tdel\tglobal\tnot\twith\n",
    "     async\telif\tif\tor\tyield  \"\"\""
   ]
  },
  {
   "cell_type": "markdown",
   "metadata": {},
   "source": [
    "# Data types"
   ]
  },
  {
   "cell_type": "code",
   "execution_count": 7,
   "metadata": {},
   "outputs": [],
   "source": [
    "#  ==>    two types of Data types \n",
    "#  1  premativ Datatype :-  this datatype is predefaine \n",
    "#         Exa :-  int , char , booleans ,string ,None ,floting number\n",
    "#  2  nonpremativ Datatype :-  this datatype is userdifaine\n",
    "#         Exa :-  list ,tuple ,dic"
   ]
  },
  {
   "cell_type": "code",
   "execution_count": null,
   "metadata": {},
   "outputs": [],
   "source": [
    "#  Python is a fantastic language that automatically identifies the type of data for us."
   ]
  },
  {
   "cell_type": "code",
   "execution_count": 8,
   "metadata": {},
   "outputs": [
    {
     "name": "stdout",
     "output_type": "stream",
     "text": [
      "vicky  vicky\n",
      "kumar\n",
      "saini  123 12.55 True None\n"
     ]
    }
   ],
   "source": [
    "a = \"vicky\"\n",
    "b = ''' vicky\n",
    "kumar\n",
    "saini '''\n",
    "c = 123\n",
    "d = 12.55\n",
    "e = True\n",
    "f = None\n",
    "\n",
    "print(a,b,c,d,e,f)"
   ]
  },
  {
   "cell_type": "code",
   "execution_count": 10,
   "metadata": {},
   "outputs": [
    {
     "name": "stdout",
     "output_type": "stream",
     "text": [
      "<class 'str'>\n",
      "<class 'str'>\n",
      "<class 'int'>\n",
      "<class 'float'>\n",
      "<class 'bool'>\n",
      "<class 'NoneType'>\n"
     ]
    }
   ],
   "source": [
    "# printing the type of variables\n",
    "\n",
    "print (type(a))\n",
    "print (type(b))\n",
    "print (type(c))\n",
    "print (type(d))\n",
    "print (type(e))\n",
    "print (type(f))"
   ]
  },
  {
   "cell_type": "markdown",
   "metadata": {},
   "source": [
    "# Rules for defining a variable name:"
   ]
  },
  {
   "cell_type": "code",
   "execution_count": 11,
   "metadata": {},
   "outputs": [
    {
     "data": {
      "text/plain": [
       "' *  A variable name can contain alphabets, digits, and underscore.\\n    *  A variable name can only start with an alphabet and underscore.\\n    *  A variable can’t start with a digit.\\n    *  No white space is allowed to be used inside a variable name.  '"
      ]
     },
     "execution_count": 11,
     "metadata": {},
     "output_type": "execute_result"
    }
   ],
   "source": [
    "''' *  A variable name can contain alphabets, digits, and underscore.\n",
    "    *  A variable name can only start with an alphabet and underscore.\n",
    "    *  A variable can’t start with a digit.\n",
    "    *  No white space is allowed to be used inside a variable name.\n",
    "    *  variable case sencitiv hota                                     '''"
   ]
  },
  {
   "cell_type": "code",
   "execution_count": 13,
   "metadata": {},
   "outputs": [
    {
     "name": "stdout",
     "output_type": "stream",
     "text": [
      "10\n",
      "20\n"
     ]
    }
   ],
   "source": [
    "#  variable case sencitiv hota hai\n",
    "\n",
    "# Exa :-  \n",
    "    \n",
    "a = 10\n",
    "A = 20\n",
    "\n",
    "print(a)\n",
    "\n",
    "# this is not same variables \n",
    "\n",
    "print (A)"
   ]
  },
  {
   "cell_type": "markdown",
   "metadata": {},
   "source": [
    "# Operators in Python"
   ]
  },
  {
   "cell_type": "code",
   "execution_count": 14,
   "metadata": {},
   "outputs": [],
   "source": [
    "#  The following are some common operators in Python:\n",
    "\n",
    "# Arithmetic Operators (+, -, *, /, etc.)\n",
    "# Assignment Operators (=, +=, -=, etc.)\n",
    "# Comparison Operators (==, >=, <=, >, <, !=, etc.)\n",
    "# Logical Operators (and, or, not)"
   ]
  },
  {
   "cell_type": "code",
   "execution_count": null,
   "metadata": {},
   "outputs": [],
   "source": []
  },
  {
   "cell_type": "code",
   "execution_count": 16,
   "metadata": {},
   "outputs": [
    {
     "name": "stdout",
     "output_type": "stream",
     "text": [
      "the vlue of 2 + 6 :-  8\n",
      "the vlue of 2 - 6 :-  -4\n",
      "the vlue of 2 * 6 :-  12\n",
      "the vlue of 2 / 6 :-  0.3333333333333333\n"
     ]
    }
   ],
   "source": [
    "# Arithmetic Operators\n",
    "\n",
    "print (\"the vlue of 2 + 6 :- \" , 2 + 6)\n",
    "print (\"the vlue of 2 - 6 :- \" , 2 - 6)\n",
    "print (\"the vlue of 2 * 6 :- \" , 2 * 6)\n",
    "print (\"the vlue of 2 / 6 :- \" , 2 / 6)"
   ]
  },
  {
   "cell_type": "code",
   "execution_count": 17,
   "metadata": {},
   "outputs": [
    {
     "name": "stdout",
     "output_type": "stream",
     "text": [
      "20\n",
      "25\n",
      "20\n"
     ]
    }
   ],
   "source": [
    "# Assignment Operators\n",
    "\n",
    "a = 20\n",
    "print(a)\n",
    "\n",
    "a += 5\n",
    "print(a)\n",
    "\n",
    "a -= 5\n",
    "print(a)"
   ]
  },
  {
   "cell_type": "code",
   "execution_count": 24,
   "metadata": {},
   "outputs": [
    {
     "name": "stdout",
     "output_type": "stream",
     "text": [
      "False\n"
     ]
    }
   ],
   "source": [
    "# Comparison Operators\n",
    "\n",
    "a = 5\n",
    "#b = (a==5)\n",
    "#print(b)\n",
    "# b = (15 < 4)\n",
    "# b = (15 > 4)\n",
    "# b = (15 =< 4)\n",
    "# b = (15 >= 4)\n",
    "# b = (15 >= 4)\n",
    "b = (15 == 4)\n",
    "print(b)"
   ]
  },
  {
   "cell_type": "code",
   "execution_count": null,
   "metadata": {},
   "outputs": [],
   "source": []
  },
  {
   "cell_type": "code",
   "execution_count": 5,
   "metadata": {},
   "outputs": [
    {
     "name": "stdout",
     "output_type": "stream",
     "text": [
      "the vlue of not bool2 is True\n"
     ]
    }
   ],
   "source": [
    "# Logical Operators\n",
    "\n",
    "bool1 = True\n",
    "bool2 = False\n",
    "#print (\"the vlue of bool1 and bool2 is\",(bool1 and bool2))\n",
    "#print (\"the vlue of bool1 or bool2 is\",(bool1 or bool2))\n",
    "print (\"the vlue of not bool2 is\",(not bool2))"
   ]
  },
  {
   "cell_type": "code",
   "execution_count": null,
   "metadata": {},
   "outputs": [],
   "source": []
  },
  {
   "cell_type": "markdown",
   "metadata": {},
   "source": [
    "# type casting"
   ]
  },
  {
   "cell_type": "code",
   "execution_count": 13,
   "metadata": {},
   "outputs": [
    {
     "name": "stdout",
     "output_type": "stream",
     "text": [
      "<class 'int'>\n",
      "1240\n"
     ]
    }
   ],
   "source": [
    "# A number can be converted into a string and vice versa (if possible)\n",
    "# There are many functions to convert one data type into another.\n",
    "\n",
    "#                      or\n",
    "\n",
    "#  typecasting using in a datatype to convert another datatype \n",
    "\n",
    "\n",
    "a = '1234'\n",
    "#print (a+6)\n",
    "#print (type(a))\n",
    "#print (a)\n",
    "\n",
    "# using typecasting \n",
    "a = int(a)\n",
    "print(type(a+6))\n",
    "print(a+6)"
   ]
  },
  {
   "cell_type": "code",
   "execution_count": null,
   "metadata": {},
   "outputs": [],
   "source": []
  },
  {
   "cell_type": "markdown",
   "metadata": {},
   "source": [
    "# input() function"
   ]
  },
  {
   "cell_type": "code",
   "execution_count": 48,
   "metadata": {},
   "outputs": [],
   "source": [
    "# This function allows the user to take input from the keyboard as a string.\n",
    "\n",
    "# Exa :-  a = input(\"enter name\") \n",
    "\n",
    "#  NOTE :-    The output of the input function is always a string even if the number is entered by the user.\n",
    "\n",
    "#             Suppose if a user enters 34, then this 34 will automatically convert to “34” string literal.\n",
    "\n",
    "\n"
   ]
  },
  {
   "cell_type": "code",
   "execution_count": 17,
   "metadata": {},
   "outputs": [
    {
     "name": "stdout",
     "output_type": "stream",
     "text": [
      "enter number45\n",
      "<class 'int'>\n",
      "45\n"
     ]
    }
   ],
   "source": [
    "#a = input(\"Enter name \")\n",
    "#print(a)\n",
    "#print(type(a))\n",
    "\n",
    "#  ese hi \n",
    "\n",
    "b = input(\"enter number\")\n",
    "b = int(b)  #  convorte datatype \n",
    "print(type(b))\n",
    "print(b)"
   ]
  },
  {
   "cell_type": "markdown",
   "metadata": {},
   "source": [
    "# questions Practice Set"
   ]
  },
  {
   "cell_type": "code",
   "execution_count": null,
   "metadata": {},
   "outputs": [],
   "source": [
    "# 1   Write a Python program to add two numbers.\n",
    "# 2   Write a Python program to find the remainder when a number is divided by Z(Integer).\n",
    "# 3   Check the type of the variable assigned using the input() function.\n",
    "# 4   Use a comparison operator to find out whether a given variable a is greater than b or not. (Take a=34 and b=80)\n",
    "# 5   Write a Python program to find the average of two numbers entered by the user.\n",
    "# 6   Write a Python program to calculate the square of a number entered by the user."
   ]
  },
  {
   "cell_type": "code",
   "execution_count": 3,
   "metadata": {},
   "outputs": [
    {
     "name": "stdout",
     "output_type": "stream",
     "text": [
      "add two numbers  :-  50\n",
      "enter frist number :-1\n",
      "enter second number :-1\n",
      "<class 'str'>\n",
      "11\n"
     ]
    }
   ],
   "source": [
    "#   1 Ans.\n",
    "\n",
    "a = 45\n",
    "b = 5\n",
    "c = a + b\n",
    "print (\"add two numbers  :- \", c )\n",
    "\n",
    "#     or\n",
    "\n",
    "a = input(\"enter frist number :-\" )  #  this is not add number becuse two string number add \n",
    "b = input(\"enter second number :-\")\n",
    "c = a+b \n",
    "print(type(c))\n",
    "print(c)\n"
   ]
  },
  {
   "cell_type": "code",
   "execution_count": 5,
   "metadata": {},
   "outputs": [
    {
     "name": "stdout",
     "output_type": "stream",
     "text": [
      "the remainder a divided by b  0\n"
     ]
    }
   ],
   "source": [
    "#  2 Ans .\n",
    "\n",
    "a = 2\n",
    "b = 10\n",
    "print(\"the remainder a divided by b \", b%a )"
   ]
  },
  {
   "cell_type": "code",
   "execution_count": 7,
   "metadata": {},
   "outputs": [
    {
     "name": "stdout",
     "output_type": "stream",
     "text": [
      "enter the input v\n",
      "v\n",
      "<class 'str'>\n"
     ]
    }
   ],
   "source": [
    "# 3 Ans.\n",
    "a = input(\"enter the input \")\n",
    "print(a)\n",
    "print(type(a))"
   ]
  },
  {
   "cell_type": "code",
   "execution_count": 10,
   "metadata": {},
   "outputs": [
    {
     "name": "stdout",
     "output_type": "stream",
     "text": [
      "False\n"
     ]
    }
   ],
   "source": [
    "# 4 Ans.\n",
    "\n",
    "a = 34\n",
    "b = 80\n",
    "c = a > b\n",
    "print(c)"
   ]
  },
  {
   "cell_type": "code",
   "execution_count": 14,
   "metadata": {},
   "outputs": [
    {
     "name": "stdout",
     "output_type": "stream",
     "text": [
      "Enter frist number5\n",
      "Enter second number5\n",
      "the average of a and b is 5.0\n"
     ]
    }
   ],
   "source": [
    "# 5 Ans.\n",
    "\n",
    "a = input (\"Enter frist number\")\n",
    "b = input (\"Enter second number\")\n",
    "a = int(a)                       # convert datatype str to int\n",
    "b = int(b)\n",
    "ave = (a + b)/2                  \n",
    "print (\"the average of a and b is\",ave)"
   ]
  },
  {
   "cell_type": "code",
   "execution_count": 2,
   "metadata": {},
   "outputs": [
    {
     "name": "stdout",
     "output_type": "stream",
     "text": [
      "Enter number5\n",
      "squer a is : 10\n"
     ]
    }
   ],
   "source": [
    "# 6 Ans.\n",
    "\n",
    "\n",
    "a = input(\"Enter number\")\n",
    "a = int(a)\n",
    "b = 2\n",
    "sque = a * b\n",
    "print(\"squer a is :\" , sque)"
   ]
  },
  {
   "cell_type": "code",
   "execution_count": null,
   "metadata": {},
   "outputs": [],
   "source": []
  },
  {
   "cell_type": "markdown",
   "metadata": {},
   "source": [
    "#   string"
   ]
  },
  {
   "cell_type": "code",
   "execution_count": 8,
   "metadata": {},
   "outputs": [
    {
     "name": "stdout",
     "output_type": "stream",
     "text": [
      " hi vicky \n",
      "<class 'str'>\n",
      " jaipur's \n",
      " hi i am \n",
      "        vicky \n",
      "c\n",
      " good morning  vicky \n"
     ]
    }
   ],
   "source": [
    "# ==>   The string is a data type in Python.\n",
    "\n",
    "# ==>   A string is a sequence of characters enclosed in quotes.\n",
    "\n",
    "'''\n",
    "We can primarily write a string in three ways:\n",
    "\n",
    "Single quoted strings : a = ‘vicky’\n",
    "Double quoted strings : b = “vicky”\n",
    "Triple quoted strings : c = ‘’’ vicky ‘’’\n",
    "\n",
    "'''\n",
    "\n",
    "a = ' hi vicky '\n",
    "print (a)\n",
    "print (type(a))\n",
    "\n",
    "b = \" jaipur's \"\n",
    "print(b)\n",
    "\n",
    "c = ''' hi i am \n",
    "        vicky '''\n",
    "print(c)\n",
    "\n",
    "\n",
    "# string indexing \n",
    "\n",
    "a = \"vicky\"\n",
    "print(a[2])\n",
    "\n",
    "# concative  two strings\n",
    "\n",
    "grating = \" good morning \"\n",
    "name = \" vicky \"\n",
    "con = grating + name\n",
    "print(con)\n"
   ]
  },
  {
   "cell_type": "markdown",
   "metadata": {},
   "source": [
    "# String Slicing:"
   ]
  },
  {
   "cell_type": "code",
   "execution_count": 2,
   "metadata": {},
   "outputs": [
    {
     "name": "stdout",
     "output_type": "stream",
     "text": [
      "vick\n",
      "vicky\n",
      "ick\n"
     ]
    }
   ],
   "source": [
    "# A string in Python can be sliced for getting a part of the string.\n",
    "\n",
    "name = \"vicky\"\n",
    "\n",
    "print(name[0:4])\n",
    "print(name[0:])\n",
    "# nagative index \n",
    "a = name[-4:-1]\n",
    "print(a)"
   ]
  },
  {
   "cell_type": "markdown",
   "metadata": {},
   "source": [
    "# Slicing with skip value"
   ]
  },
  {
   "cell_type": "code",
   "execution_count": 32,
   "metadata": {},
   "outputs": [
    {
     "name": "stdout",
     "output_type": "stream",
     "text": [
      "vcyi odby\n"
     ]
    }
   ],
   "source": [
    "#  ==>  We can provide a skip value as a part of our slice like this:\n",
    "\n",
    "name = \"vicky is good boy\"\n",
    "print(name[0::2])"
   ]
  },
  {
   "cell_type": "markdown",
   "metadata": {},
   "source": [
    "# String Functions"
   ]
  },
  {
   "cell_type": "code",
   "execution_count": 35,
   "metadata": {},
   "outputs": [
    {
     "name": "stdout",
     "output_type": "stream",
     "text": [
      "39\n"
     ]
    }
   ],
   "source": [
    "# ==>  len() function : It returns the length of the string.\n",
    "\n",
    "story = \"hi my name is raghav i am from bengluru\"\n",
    "length = len(story)\n",
    "print(length)"
   ]
  },
  {
   "cell_type": "code",
   "execution_count": 4,
   "metadata": {},
   "outputs": [
    {
     "name": "stdout",
     "output_type": "stream",
     "text": [
      "True\n"
     ]
    }
   ],
   "source": [
    "# ==> endswith(“rry”) : This function tells whether the variable string ends with the string “rry” or not. If string is “harry”,\n",
    "#                   it returns for “rry” since harry ends with rry.\n",
    "#                                   or\n",
    "\n",
    "#                  yani is string ka last ( word / carectore / space )any  se end ho rhi hai     \n",
    "\n",
    "\n",
    "story = \"hi my name is raghav i am from bengluru but\"\n",
    "#story.endswith(\"but\")\n",
    "print(story.endswith(\"but\"))"
   ]
  },
  {
   "cell_type": "code",
   "execution_count": 18,
   "metadata": {},
   "outputs": [
    {
     "data": {
      "text/plain": [
       "4"
      ]
     },
     "execution_count": 18,
     "metadata": {},
     "output_type": "execute_result"
    }
   ],
   "source": [
    "# ==> count(“c”) : It counts the total number of occurrences of any character.\n",
    "\n",
    "story = \"hi my name is raghav i am from bengluru but\"\n",
    "story.count(\"a\")\n",
    "#print(story.count(\"a\"))"
   ]
  },
  {
   "cell_type": "code",
   "execution_count": 45,
   "metadata": {},
   "outputs": [
    {
     "name": "stdout",
     "output_type": "stream",
     "text": [
      "Hi my name is raghav i am from bengluru but\n"
     ]
    }
   ],
   "source": [
    "# ==> capitalize() : This function capitalizes the first character of a given string.\n",
    "\n",
    "#                    yeh function string ke frist word ko capital kar deta hai\n",
    "\n",
    "story = \"hi my name is raghav i am from bengluru but\"\n",
    "print(story.capitalize())"
   ]
  },
  {
   "cell_type": "code",
   "execution_count": 12,
   "metadata": {},
   "outputs": [
    {
     "name": "stdout",
     "output_type": "stream",
     "text": [
      "I\n",
      " \n",
      "A\n",
      "M\n",
      " \n",
      "A\n",
      " \n",
      "G\n",
      "O\n",
      "O\n",
      "D\n",
      " \n",
      "M\n",
      "A\n",
      "N\n",
      " \n"
     ]
    }
   ],
   "source": [
    "data1 = \"i am a good man \"\n",
    "for ii in data1:\n",
    "    if \" \" in ii:\n",
    "        print(ii)\n",
    "    else:\n",
    "        print(ii.capitalize())\n",
    "    \n",
    "        "
   ]
  },
  {
   "cell_type": "code",
   "execution_count": null,
   "metadata": {},
   "outputs": [],
   "source": []
  },
  {
   "cell_type": "code",
   "execution_count": 53,
   "metadata": {},
   "outputs": [
    {
     "name": "stdout",
     "output_type": "stream",
     "text": [
      "6\n"
     ]
    }
   ],
   "source": [
    "#  ==>  find(word) : This function finds a word and returns the index of first occurrence of that word in the string.\n",
    "\n",
    "story = \"hi my name is raghav i am from bengluru but\"\n",
    "print(story.find(\"name\"))\n",
    "\n"
   ]
  },
  {
   "cell_type": "code",
   "execution_count": 55,
   "metadata": {},
   "outputs": [
    {
     "name": "stdout",
     "output_type": "stream",
     "text": [
      "hi my names is raghav i am from bengluru but\n"
     ]
    }
   ],
   "source": [
    "#  ==>  replace(oldword, newword) : This function replaces the old word with the new word in the entire string.\n",
    "\n",
    "story = \"hi my name is raghav i am from bengluru but\"\n",
    "print(story.replace(\"name\",\"names\"))"
   ]
  },
  {
   "cell_type": "markdown",
   "metadata": {},
   "source": [
    "# Escape Sequence Characters:"
   ]
  },
  {
   "cell_type": "code",
   "execution_count": 1,
   "metadata": {},
   "outputs": [
    {
     "name": "stdout",
     "output_type": "stream",
     "text": [
      "hi my name is raghav\n",
      " i am from bengluru\tbut currenl'y living jaipurra\\jasthan\n"
     ]
    }
   ],
   "source": [
    "# Sequence of characters after backslash ‘\\’ [Escape Sequence Characters]\n",
    "\n",
    "# Escape Sequence Characters comprises of more than one character but represents one character when used within the string.\n",
    "\n",
    "# Examples: \\n (new line), \\t (tab), \\’ (single quote), \\\\ (backslash), etc.\n",
    "\n",
    "story = \"hi my name is raghav\\n i am from bengluru\\tbut currenl\\'y living jaipurra\\\\jasthan\"\n",
    "print(story)\n"
   ]
  },
  {
   "cell_type": "code",
   "execution_count": null,
   "metadata": {},
   "outputs": [],
   "source": []
  },
  {
   "cell_type": "markdown",
   "metadata": {},
   "source": [
    "# questions Practice Set"
   ]
  },
  {
   "cell_type": "code",
   "execution_count": 3,
   "metadata": {},
   "outputs": [],
   "source": [
    "# Q. 1   Write a Python program to display a user-entered name followed by Good Afternoon using input() function.\n",
    "# Q. 2   Write a program to fill in a letter template given below with name and date.\n",
    "#        letter = ‘’’ Dear <|NAME|>,\n",
    "\n",
    "#                       You are selected!\n",
    "\n",
    "#                       <|DATE|>\n",
    "\n",
    "\n",
    "# Q. 3   Write a program to detect double spaces in a string.\n",
    "# Q. 4   Replace the double spaces from problem 3 with single spaces.\n",
    "# Q. 5   Write a program to format the following letter using escape sequence characters.\n",
    "\n",
    "#        letter = “Dear vicky, This Python course in nice. Thanks!!”"
   ]
  },
  {
   "cell_type": "code",
   "execution_count": 11,
   "metadata": {},
   "outputs": [
    {
     "name": "stdout",
     "output_type": "stream",
     "text": [
      "Enter name \n",
      "vicky\n",
      "good Afternoon vicky\n"
     ]
    }
   ],
   "source": [
    "#  Ans .1\n",
    "\n",
    "name = input(\"Enter name \\n\")\n",
    "print(\"good Afternoon \"+name)"
   ]
  },
  {
   "cell_type": "code",
   "execution_count": 16,
   "metadata": {},
   "outputs": [
    {
     "name": "stdout",
     "output_type": "stream",
     "text": [
      "Enter your namevicky kumar\n",
      "Enter your date15 Jun\n",
      " Dear vicky kumar,\n",
      "              You are selected!\n",
      "              15 Jun\n",
      "          \n"
     ]
    }
   ],
   "source": [
    "# Ans .2 \n",
    "\n",
    "letter = ''' Dear <|NAME|>,\n",
    "              You are selected!\n",
    "              <|DATE|>\n",
    "          '''\n",
    "name = input(\"Enter your name\")\n",
    "date = input(\"Enter your date\")\n",
    "\n",
    "letter = letter.replace(\"<|NAME|>\", name )\n",
    "letter = letter.replace(\"<|DATE|>\" , date)\n",
    "\n",
    "print(letter)"
   ]
  },
  {
   "cell_type": "code",
   "execution_count": 19,
   "metadata": {},
   "outputs": [
    {
     "name": "stdout",
     "output_type": "stream",
     "text": [
      "25\n"
     ]
    }
   ],
   "source": [
    "#  Ans .3\n",
    "\n",
    "str1 = \"Hi My Name is Vicky Kumar  \"\n",
    "print(str1.find(\"  \"))"
   ]
  },
  {
   "cell_type": "code",
   "execution_count": 25,
   "metadata": {},
   "outputs": [
    {
     "name": "stdout",
     "output_type": "stream",
     "text": [
      "Hi      My   Name   is      Vicky   Kumar\n"
     ]
    }
   ],
   "source": [
    "# Ans .4 \n",
    "\n",
    "str1 = \"Hi  My Name is  Vicky Kumar\"\n",
    "str1 = str1.replace(\" \",\"   \")\n",
    "print(str1)"
   ]
  },
  {
   "cell_type": "code",
   "execution_count": 30,
   "metadata": {},
   "outputs": [
    {
     "name": "stdout",
     "output_type": "stream",
     "text": [
      "Dear vicky kumar\n",
      "\t This Python course in nice.\n",
      "Thanks!!\n"
     ]
    }
   ],
   "source": [
    "# Ans .5\n",
    "\n",
    "letter = \"Dear vicky kumar\\n\\t This Python course in nice.\\nThanks!!\"\n",
    "print(letter)\n"
   ]
  },
  {
   "cell_type": "code",
   "execution_count": null,
   "metadata": {},
   "outputs": [],
   "source": []
  },
  {
   "cell_type": "markdown",
   "metadata": {},
   "source": [
    "# Lists in python"
   ]
  },
  {
   "cell_type": "code",
   "execution_count": 34,
   "metadata": {},
   "outputs": [
    {
     "name": "stdout",
     "output_type": "stream",
     "text": [
      "['vicky', 123, 45, 123.99, True]\n",
      "45\n",
      "['vicky', 2, 45, 123.99, True]\n"
     ]
    }
   ],
   "source": [
    "#  ==>  Python Lists are containers to store a set of values of any data type.\n",
    "#  ==>  The list can contain different types of elements such as int, float, string, Boolean, etc.\n",
    "#       Above list is a collection of different types of elements.\n",
    "\n",
    "list1 = [\"vicky\" , 123 , 45 , 123.99 , True ]\n",
    "print(list1)\n",
    "\n",
    "list1[1]=2    #  list is muteble \n",
    "print(list1)"
   ]
  },
  {
   "cell_type": "code",
   "execution_count": 37,
   "metadata": {},
   "outputs": [
    {
     "name": "stdout",
     "output_type": "stream",
     "text": [
      "hi\n",
      "vicky\n"
     ]
    }
   ],
   "source": [
    "#  List Indexing\n",
    "\n",
    "list1 = [\"hi\" , 12 ,23.4 , False , \"vicky\"]\n",
    "print(list1[0])\n",
    "print(list1[4])"
   ]
  },
  {
   "cell_type": "code",
   "execution_count": 41,
   "metadata": {},
   "outputs": [
    {
     "name": "stdout",
     "output_type": "stream",
     "text": [
      "['hi']\n",
      "[12, 23.4]\n",
      "['hi', 12, 23.4, False, 'vicky']\n"
     ]
    }
   ],
   "source": [
    "#   list slicing \n",
    "\n",
    "list1 = [\"hi\" , 12 ,23.4 , False , \"vicky\"]\n",
    "\n",
    "print(list1[0:1])\n",
    "print(list1[-4:-2])\n",
    "print(list1[0:])"
   ]
  },
  {
   "cell_type": "markdown",
   "metadata": {},
   "source": [
    "# List Methods"
   ]
  },
  {
   "cell_type": "code",
   "execution_count": 5,
   "metadata": {},
   "outputs": [
    {
     "name": "stdout",
     "output_type": "stream",
     "text": [
      "None\n"
     ]
    }
   ],
   "source": [
    "# sort() – updates the list to  [1,2,7,8,15,21]\n",
    "\n",
    "list1 = [1,4,9,5,0,3,45,87,23,34]\n",
    "vs = list1.sort()                # this is not allwod\n",
    "print(vs)\n",
    "\n",
    "list1.sort()\n",
    "#print(list1)\n"
   ]
  },
  {
   "cell_type": "code",
   "execution_count": 46,
   "metadata": {},
   "outputs": [
    {
     "name": "stdout",
     "output_type": "stream",
     "text": [
      "[34, 23, 87, 45, 3, 0, 5, 9, 4, 1]\n"
     ]
    }
   ],
   "source": [
    "# reverse() – updates the list to [15,21,2,7,8,1]\n",
    "\n",
    "list1 = [1,4,9,5,0,3,45,87,23,34]\n",
    "list1.reverse()\n",
    "print(list1)"
   ]
  },
  {
   "cell_type": "code",
   "execution_count": 47,
   "metadata": {},
   "outputs": [
    {
     "name": "stdout",
     "output_type": "stream",
     "text": [
      "[1, 4, 9, 5, 0, 3, 45, 87, 23, 34, 55]\n"
     ]
    }
   ],
   "source": [
    "# append(8) – adds 8 at the end of the list\n",
    "\n",
    "list1 = [1,4,9,5,0,3,45,87,23,34]\n",
    "list1.append(55)\n",
    "print(list1)"
   ]
  },
  {
   "cell_type": "code",
   "execution_count": 52,
   "metadata": {},
   "outputs": [
    {
     "name": "stdout",
     "output_type": "stream",
     "text": [
      "[1, 4, 95, 9, 5, 0, 3, 45, 87, 23, 34]\n"
     ]
    }
   ],
   "source": [
    "# insert(3,8) – This will add 8 at 3 index\n",
    "\n",
    "list1 = [1,4,9,5,0,3,45,87,23,34]\n",
    "list1.insert(2,95)   # isme 2 index hai or 95 value\n",
    "print(list1)"
   ]
  },
  {
   "cell_type": "code",
   "execution_count": 53,
   "metadata": {},
   "outputs": [
    {
     "name": "stdout",
     "output_type": "stream",
     "text": [
      "[1, 9, 5, 0, 3, 45, 87, 23, 34]\n"
     ]
    }
   ],
   "source": [
    "#  pop(2) – It will delete the element at index 2 and return its value\n",
    "\n",
    "list1 = [1,4,9,5,0,3,45,87,23,34]\n",
    "list1.pop(1)  #  1 index ke element ko delete karna ke bad ki list \n",
    "print(list1)"
   ]
  },
  {
   "cell_type": "code",
   "execution_count": 54,
   "metadata": {},
   "outputs": [
    {
     "name": "stdout",
     "output_type": "stream",
     "text": [
      "[1, 4, 5, 0, 3, 45, 87, 23, 34]\n"
     ]
    }
   ],
   "source": [
    "# remove(21) – It will remove 21 from the last\n",
    "\n",
    "list1 = [1,4,9,5,0,3,45,87,23,34]\n",
    "list1.remove(9)  # delete number of 9 value \n",
    "print(list1)"
   ]
  },
  {
   "cell_type": "code",
   "execution_count": null,
   "metadata": {},
   "outputs": [],
   "source": []
  },
  {
   "cell_type": "markdown",
   "metadata": {},
   "source": [
    "#  Tuples in Python:"
   ]
  },
  {
   "cell_type": "code",
   "execution_count": 15,
   "metadata": {},
   "outputs": [
    {
     "name": "stdout",
     "output_type": "stream",
     "text": [
      "1\n"
     ]
    }
   ],
   "source": [
    "# ==>  A tuple is an immutable (can’t change or modified) data type in Python\n",
    "# ==>  Once defined, tuple elements can’t be manipulated or altered.\n",
    "\n",
    "tuple1 = ()#   empty tuple\n",
    "# print(tuple1)\n",
    "\n",
    "tuple1 = (1,)  # tuple with singale element\n",
    "#print(tuple1)\n",
    "\n",
    "tuple2 = (1,7,3,56,2,98,0,45)\n",
    "# print(type(tuple2))\n",
    "# print(tuple2)\n",
    "\n",
    "# this is immutable\n",
    "\n",
    "s=tuple2[0]\n",
    "print(s)\n",
    "\n"
   ]
  },
  {
   "cell_type": "code",
   "execution_count": 61,
   "metadata": {},
   "outputs": [
    {
     "name": "stdout",
     "output_type": "stream",
     "text": [
      "5\n"
     ]
    }
   ],
   "source": [
    "# count(1) – It will return the number of times 1 occurs in a.\n",
    "\n",
    "tuple2 = (1,7,3,56,2,98,0,45,3,1,1,3,3,3)\n",
    "vs=tuple2.count(3)\n",
    "print(vs)"
   ]
  },
  {
   "cell_type": "code",
   "execution_count": 21,
   "metadata": {},
   "outputs": [
    {
     "ename": "ValueError",
     "evalue": "tuple.index(x): x not in tuple",
     "output_type": "error",
     "traceback": [
      "\u001b[1;31m---------------------------------------------------------------------------\u001b[0m",
      "\u001b[1;31mValueError\u001b[0m                                Traceback (most recent call last)",
      "\u001b[1;32m<ipython-input-21-5f657d5cc763>\u001b[0m in \u001b[0;36m<module>\u001b[1;34m\u001b[0m\n\u001b[0;32m      2\u001b[0m \u001b[1;33m\u001b[0m\u001b[0m\n\u001b[0;32m      3\u001b[0m \u001b[0mtuple2\u001b[0m \u001b[1;33m=\u001b[0m \u001b[1;33m(\u001b[0m\u001b[1;36m1\u001b[0m\u001b[1;33m,\u001b[0m\u001b[1;36m7\u001b[0m\u001b[1;33m,\u001b[0m\u001b[1;36m3\u001b[0m\u001b[1;33m,\u001b[0m\u001b[1;36m56\u001b[0m\u001b[1;33m,\u001b[0m\u001b[1;36m2\u001b[0m\u001b[1;33m,\u001b[0m\u001b[1;36m98\u001b[0m\u001b[1;33m,\u001b[0m\u001b[1;36m0\u001b[0m\u001b[1;33m,\u001b[0m\u001b[1;36m45\u001b[0m\u001b[1;33m,\u001b[0m\u001b[1;36m3\u001b[0m\u001b[1;33m,\u001b[0m\u001b[1;36m1\u001b[0m\u001b[1;33m,\u001b[0m\u001b[1;36m1\u001b[0m\u001b[1;33m,\u001b[0m\u001b[1;36m3\u001b[0m\u001b[1;33m,\u001b[0m\u001b[1;36m3\u001b[0m\u001b[1;33m,\u001b[0m\u001b[1;36m3\u001b[0m\u001b[1;33m)\u001b[0m\u001b[1;33m\u001b[0m\u001b[1;33m\u001b[0m\u001b[0m\n\u001b[1;32m----> 4\u001b[1;33m \u001b[0mvs\u001b[0m \u001b[1;33m=\u001b[0m \u001b[0mtuple2\u001b[0m\u001b[1;33m.\u001b[0m\u001b[0mindex\u001b[0m\u001b[1;33m(\u001b[0m\u001b[1;36m5\u001b[0m\u001b[1;33m)\u001b[0m\u001b[1;33m\u001b[0m\u001b[1;33m\u001b[0m\u001b[0m\n\u001b[0m\u001b[0;32m      5\u001b[0m \u001b[0mprint\u001b[0m\u001b[1;33m(\u001b[0m\u001b[0mvs\u001b[0m\u001b[1;33m)\u001b[0m\u001b[1;33m\u001b[0m\u001b[1;33m\u001b[0m\u001b[0m\n",
      "\u001b[1;31mValueError\u001b[0m: tuple.index(x): x not in tuple"
     ]
    }
   ],
   "source": [
    "# index(1) – It will return the index of the first occurrence of 1 in a.\n",
    "\n",
    "tuple2 = (1,7,3,56,2,98,0,45,3,1,1,3,3,3)\n",
    "vs = tuple2.index(5)\n",
    "print(vs)"
   ]
  },
  {
   "cell_type": "markdown",
   "metadata": {},
   "source": [
    "#  Practice Set"
   ]
  },
  {
   "cell_type": "code",
   "execution_count": 1,
   "metadata": {},
   "outputs": [],
   "source": [
    "# ==> 1.  Write a program to store seven fruits in a list entered by the user.\n",
    "# ==> 2.  Write a program to accept the marks of 6 students and display them in a sorted manner.\n",
    "# ==> 3.  Check that a tuple cannot be changed in Python.\n",
    "# ==> 4.  Write a program to sum a list with 4 numbers.\n",
    "# ==> 5.  Write a program to count the number of zeros in the following tuple:\n",
    "#         tuple1 = (12,44,0,4,8,9,5,76,0,234,0,23,11,0)"
   ]
  },
  {
   "cell_type": "code",
   "execution_count": 5,
   "metadata": {},
   "outputs": [
    {
     "name": "stdout",
     "output_type": "stream",
     "text": [
      "Enter fruits namevicky\n",
      "['vicky']\n"
     ]
    }
   ],
   "source": [
    "# Ans. 1 \n",
    "\n",
    "fruits = []\n",
    "fruit_name = input(\"Enter fruits name\")\n",
    "\n",
    "fruits.append(fruit_name)\n",
    "print(fruits)"
   ]
  },
  {
   "cell_type": "code",
   "execution_count": 7,
   "metadata": {},
   "outputs": [
    {
     "name": "stdout",
     "output_type": "stream",
     "text": [
      "[51.99, 55.9, 66.83, 69.0, 76, 85.0]\n"
     ]
    }
   ],
   "source": [
    "# Ans. 2\n",
    "\n",
    "marks = [85.00 , 55.90 ,76 , 66.83 , 51.99 ,69.00]\n",
    "marks.sort()\n",
    "print(marks)"
   ]
  },
  {
   "cell_type": "code",
   "execution_count": 9,
   "metadata": {},
   "outputs": [
    {
     "ename": "TypeError",
     "evalue": "'tuple' object does not support item assignment",
     "output_type": "error",
     "traceback": [
      "\u001b[1;31m---------------------------------------------------------------------------\u001b[0m",
      "\u001b[1;31mTypeError\u001b[0m                                 Traceback (most recent call last)",
      "\u001b[1;32m<ipython-input-9-b51f9cb3153e>\u001b[0m in \u001b[0;36m<module>\u001b[1;34m\u001b[0m\n\u001b[0;32m      2\u001b[0m \u001b[1;33m\u001b[0m\u001b[0m\n\u001b[0;32m      3\u001b[0m \u001b[0mtuple1\u001b[0m \u001b[1;33m=\u001b[0m \u001b[1;33m(\u001b[0m\u001b[1;36m25\u001b[0m \u001b[1;33m,\u001b[0m\u001b[1;34m\"vicky\"\u001b[0m \u001b[1;33m,\u001b[0m \u001b[1;36m40.55\u001b[0m\u001b[1;33m,\u001b[0m\u001b[1;36m34\u001b[0m\u001b[1;33m,\u001b[0m\u001b[1;34m\"ravi\"\u001b[0m\u001b[1;33m)\u001b[0m\u001b[1;33m\u001b[0m\u001b[1;33m\u001b[0m\u001b[0m\n\u001b[1;32m----> 4\u001b[1;33m \u001b[0mtuple1\u001b[0m\u001b[1;33m[\u001b[0m\u001b[1;36m2\u001b[0m\u001b[1;33m]\u001b[0m\u001b[1;33m=\u001b[0m\u001b[1;36m66\u001b[0m\u001b[1;33m\u001b[0m\u001b[1;33m\u001b[0m\u001b[0m\n\u001b[0m\u001b[0;32m      5\u001b[0m \u001b[0mprint\u001b[0m\u001b[1;33m(\u001b[0m\u001b[0mtuple1\u001b[0m\u001b[1;33m)\u001b[0m\u001b[1;33m\u001b[0m\u001b[1;33m\u001b[0m\u001b[0m\n",
      "\u001b[1;31mTypeError\u001b[0m: 'tuple' object does not support item assignment"
     ]
    }
   ],
   "source": [
    "# Ans. 3\n",
    "\n",
    "tuple1 = (25 ,\"vicky\" , 40.55,34,\"ravi\")\n",
    "tuple1[2]=66\n",
    "print(tuple1)"
   ]
  },
  {
   "cell_type": "code",
   "execution_count": 29,
   "metadata": {},
   "outputs": [
    {
     "name": "stdout",
     "output_type": "stream",
     "text": [
      "135\n"
     ]
    },
    {
     "ename": "NameError",
     "evalue": "name 'Sum' is not defined",
     "output_type": "error",
     "traceback": [
      "\u001b[1;31m---------------------------------------------------------------------------\u001b[0m",
      "\u001b[1;31mNameError\u001b[0m                                 Traceback (most recent call last)",
      "\u001b[1;32m<ipython-input-29-65333a9d654c>\u001b[0m in \u001b[0;36m<module>\u001b[1;34m\u001b[0m\n\u001b[0;32m      4\u001b[0m \u001b[0mprint\u001b[0m\u001b[1;33m(\u001b[0m\u001b[0mlist1\u001b[0m\u001b[1;33m[\u001b[0m\u001b[1;36m0\u001b[0m\u001b[1;33m]\u001b[0m\u001b[1;33m+\u001b[0m\u001b[0mlist1\u001b[0m\u001b[1;33m[\u001b[0m\u001b[1;36m1\u001b[0m\u001b[1;33m]\u001b[0m\u001b[1;33m+\u001b[0m\u001b[0mlist1\u001b[0m\u001b[1;33m[\u001b[0m\u001b[1;36m2\u001b[0m\u001b[1;33m]\u001b[0m\u001b[1;33m+\u001b[0m\u001b[0mlist1\u001b[0m\u001b[1;33m[\u001b[0m\u001b[1;36m3\u001b[0m\u001b[1;33m]\u001b[0m\u001b[1;33m)\u001b[0m\u001b[1;33m\u001b[0m\u001b[1;33m\u001b[0m\u001b[0m\n\u001b[0;32m      5\u001b[0m \u001b[1;33m\u001b[0m\u001b[0m\n\u001b[1;32m----> 6\u001b[1;33m \u001b[0mprint\u001b[0m\u001b[1;33m(\u001b[0m\u001b[0mSum\u001b[0m\u001b[1;33m(\u001b[0m\u001b[0mlist1\u001b[0m\u001b[1;33m)\u001b[0m\u001b[1;33m)\u001b[0m\u001b[1;33m\u001b[0m\u001b[1;33m\u001b[0m\u001b[0m\n\u001b[0m",
      "\u001b[1;31mNameError\u001b[0m: name 'Sum' is not defined"
     ]
    }
   ],
   "source": [
    "# Ans. 4\n",
    "\n",
    "list1 = [15 ,5 , 25 , 90]\n",
    "print(list1[0]+list1[1]+list1[2]+list1[3])\n",
    "\n",
    "print(Sum(list1))"
   ]
  },
  {
   "cell_type": "code",
   "execution_count": 32,
   "metadata": {},
   "outputs": [
    {
     "name": "stdout",
     "output_type": "stream",
     "text": [
      "4\n"
     ]
    }
   ],
   "source": [
    "# Ans. 5\n",
    "\n",
    "tuple1 = (12,44,0,4,8,9,5,76,0,234,0,23,11,0)\n",
    "count_numbers = tuple1.count(0)\n",
    "print(count_numbers)"
   ]
  },
  {
   "cell_type": "markdown",
   "metadata": {},
   "source": [
    "# Dictionary and Sets"
   ]
  },
  {
   "cell_type": "code",
   "execution_count": 4,
   "metadata": {},
   "outputs": [
    {
     "name": "stdout",
     "output_type": "stream",
     "text": [
      "<class 'dict'>\n",
      "{'name': 'vicky', 'no': 98402948}\n"
     ]
    },
    {
     "ename": "KeyError",
     "evalue": "'furit'",
     "output_type": "error",
     "traceback": [
      "\u001b[1;31m---------------------------------------------------------------------------\u001b[0m",
      "\u001b[1;31mKeyError\u001b[0m                                  Traceback (most recent call last)",
      "\u001b[1;32m<ipython-input-4-45f38280b4a7>\u001b[0m in \u001b[0;36m<module>\u001b[1;34m\u001b[0m\n\u001b[0;32m     14\u001b[0m \u001b[1;33m\u001b[0m\u001b[0m\n\u001b[0;32m     15\u001b[0m \u001b[0mmydict\u001b[0m \u001b[1;33m=\u001b[0m \u001b[1;33m{\u001b[0m\u001b[1;34m\"id\"\u001b[0m\u001b[1;33m:\u001b[0m\u001b[1;36m1234\u001b[0m\u001b[1;33m,\u001b[0m\u001b[1;34m\"automation\"\u001b[0m\u001b[1;33m:\u001b[0m\u001b[1;33m[\u001b[0m\u001b[1;34m\"apple\"\u001b[0m\u001b[1;33m,\u001b[0m\u001b[1;36m123\u001b[0m\u001b[1;33m]\u001b[0m\u001b[1;33m,\u001b[0m\u001b[1;34m\"name\"\u001b[0m\u001b[1;33m:\u001b[0m\u001b[1;33m{\u001b[0m\u001b[1;34m\"furit\"\u001b[0m\u001b[1;33m:\u001b[0m\u001b[1;34m\"banana\"\u001b[0m\u001b[1;33m,\u001b[0m\u001b[1;33m}\u001b[0m\u001b[1;33m}\u001b[0m\u001b[1;33m\u001b[0m\u001b[1;33m\u001b[0m\u001b[0m\n\u001b[1;32m---> 16\u001b[1;33m \u001b[0mprint\u001b[0m\u001b[1;33m(\u001b[0m\u001b[0mmydict\u001b[0m\u001b[1;33m[\u001b[0m\u001b[1;34m'furit'\u001b[0m\u001b[1;33m]\u001b[0m\u001b[1;33m)\u001b[0m\u001b[1;33m\u001b[0m\u001b[1;33m\u001b[0m\u001b[0m\n\u001b[0m",
      "\u001b[1;31mKeyError\u001b[0m: 'furit'"
     ]
    }
   ],
   "source": [
    "#  ==>  Dictionary is a collection of key-value pairs.\n",
    "\n",
    "dic = {\"name\":\"vicky\",\"no\":98402948}\n",
    "print(type(dic))\n",
    "print(dic)\n",
    "\n",
    "\n",
    "# nested dict\n",
    "\n",
    "#dic = {\"name\":[\"vicky\",\"ram\",\"lalaji\"],\"nu\":{95:\"vs\",\"deepk\":\"kumar\",{90:}}}\n",
    "#print(dic)\n",
    "#print(dic[\"name\"])\n",
    "#print(dic[\"nu\"])\n",
    "\n",
    "mydict = {\"id\":1234,\"automation\":[\"apple\",123],\"name\":{\"furit\":\"banana\",}}\n",
    "print(mydict['furit'])"
   ]
  },
  {
   "cell_type": "markdown",
   "metadata": {},
   "source": [
    "# Properties of Python Dictionaries"
   ]
  },
  {
   "cell_type": "code",
   "execution_count": 36,
   "metadata": {},
   "outputs": [],
   "source": [
    "# 1 .  It is unordered\n",
    "# 2 .  It is mutable\n",
    "# 3 .  It is indexed\n",
    "# 4 .  It cannot contain duplicate keys"
   ]
  },
  {
   "cell_type": "code",
   "execution_count": 26,
   "metadata": {},
   "outputs": [
    {
     "name": "stdout",
     "output_type": "stream",
     "text": [
      "{'id': (45, 56), 'name': 'vicky'}\n",
      "<class 'dict'>\n"
     ]
    }
   ],
   "source": [
    "mydict2 = {\"id\":23,\"name\":\"vicky\"}\n",
    "mydict2['id']=45,56\n",
    "print(mydict2)\n",
    "print(type(mydict2))\n",
    "\n"
   ]
  },
  {
   "cell_type": "code",
   "execution_count": 1,
   "metadata": {},
   "outputs": [
    {
     "name": "stdout",
     "output_type": "stream",
     "text": [
      "4321\n"
     ]
    }
   ],
   "source": [
    "mydict2 = {\"id\":23,\"name\":\"vicky\",\"id\":4321} #  duplicat keys\n",
    "print(mydict2['id'])"
   ]
  },
  {
   "cell_type": "markdown",
   "metadata": {},
   "source": [
    "# Dict Methods"
   ]
  },
  {
   "cell_type": "code",
   "execution_count": 5,
   "metadata": {},
   "outputs": [
    {
     "name": "stdout",
     "output_type": "stream",
     "text": [
      "dict_keys(['id', 'name'])\n",
      "<class 'dict_keys'>\n",
      "dict_values([4321, 'vicky'])\n",
      "<class 'dict_values'>\n"
     ]
    }
   ],
   "source": [
    "mydict2 = {\"id\":23,\"name\":\"vicky\",\"id\":4321}\n",
    "print(mydict2.keys())\n",
    "print(type(mydict2.keys()))     #  prints the keys of the dictionary\n",
    "\n",
    "\n",
    "print(mydict2.values())\n",
    "print(type(mydict2.values()))     #  prints the values of the dictionary"
   ]
  },
  {
   "cell_type": "code",
   "execution_count": null,
   "metadata": {},
   "outputs": [],
   "source": []
  }
 ],
 "metadata": {
  "kernelspec": {
   "display_name": "Python 3",
   "language": "python",
   "name": "python3"
  },
  "language_info": {
   "codemirror_mode": {
    "name": "ipython",
    "version": 3
   },
   "file_extension": ".py",
   "mimetype": "text/x-python",
   "name": "python",
   "nbconvert_exporter": "python",
   "pygments_lexer": "ipython3",
   "version": "3.8.5"
  }
 },
 "nbformat": 4,
 "nbformat_minor": 4
}
