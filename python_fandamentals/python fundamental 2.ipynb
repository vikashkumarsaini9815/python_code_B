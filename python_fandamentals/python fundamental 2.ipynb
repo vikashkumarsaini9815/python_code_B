{
 "cells": [
  {
   "cell_type": "markdown",
   "metadata": {},
   "source": [
    "#   fundamental parectice"
   ]
  },
  {
   "cell_type": "code",
   "execution_count": null,
   "metadata": {},
   "outputs": [],
   "source": []
  },
  {
   "cell_type": "code",
   "execution_count": null,
   "metadata": {},
   "outputs": [],
   "source": [
    "# how to use for loop"
   ]
  },
  {
   "cell_type": "code",
   "execution_count": null,
   "metadata": {},
   "outputs": [],
   "source": [
    "for var in range(5):  # range use karne pr agar koi start number nhi diya huaa ho to 0 se start hokar end no. tk chalta hai\n",
    "    print(var)\n",
    "    \n",
    "    \n",
    "for var in range(1,5):\n",
    "    print(var)"
   ]
  },
  {
   "cell_type": "code",
   "execution_count": null,
   "metadata": {},
   "outputs": [],
   "source": [
    "for a in range(1,10,2):\n",
    "    print(a)"
   ]
  },
  {
   "cell_type": "code",
   "execution_count": null,
   "metadata": {},
   "outputs": [],
   "source": [
    "list1 = [1,'cc',45,'pppp']\n",
    "for b in list1:        # for loop itrateble karna \n",
    "    print(b)"
   ]
  },
  {
   "cell_type": "code",
   "execution_count": null,
   "metadata": {},
   "outputs": [],
   "source": [
    "c = 10\n",
    "for d in c:     # 'int' object is not iterable\n",
    "    print(d)"
   ]
  },
  {
   "cell_type": "code",
   "execution_count": null,
   "metadata": {},
   "outputs": [],
   "source": [
    "# for loop ke aandar variable ka scop\n",
    "\n",
    "list1 = [1,'name',45,'ram',2,3,4]\n",
    "\n",
    "# for e in list1:     #  for loop vale variable ko bhar use nhi kar sakte\n",
    "# print(e)\n",
    "                    \n",
    "# for e in list1:      #  for loop ke aandar variable assine\n",
    "#     f = e  \n",
    "#     print(f)\n",
    "\n",
    "\n",
    "for e in list1:       #  is foor loop me value store nhi ho rahi hai 2 value 1 ko hata deti hai or last value rh jati hai\n",
    "    f = e\n",
    "print(f)"
   ]
  },
  {
   "cell_type": "code",
   "execution_count": null,
   "metadata": {},
   "outputs": [],
   "source": [
    "# Q. wap create a dictnary of phada\n",
    "# def func (limitnumber):\n",
    "#       return resultdict\n",
    "# exa :- limtnumber = 3  resultdict = {2:[2, 4, 6, 8, ......], 3 : [3, 6, 9, ....]}\n",
    "#\n",
    "\n",
    "\n",
    "\n",
    "#  Q. list2 = []  wap where function argument list to return me us list ka sabse bada element \n",
    "# return me list chaiye jiska 0 index pe list2 sabse bada element or us aage ke element 100 ho(last ka element 100 ho)\n",
    "# exa :- list2 = [5, 7, 6]   Ans. list3 = [7, 8 , 9, 10 ....... 100]\n",
    "# def funname (list2):\n",
    "#    return Anslist3 \n",
    "\n",
    "\n",
    "# Q. str1 = \" hi am vickkumar saini bjknjhgyhjh fythgjgbkjvrdt hfdyrtuyk6uyjgfg\"  is me se a to z kitne count hai"
   ]
  },
  {
   "cell_type": "markdown",
   "metadata": {},
   "source": [
    "# for loop value memoraise"
   ]
  },
  {
   "cell_type": "code",
   "execution_count": null,
   "metadata": {},
   "outputs": [],
   "source": []
  },
  {
   "cell_type": "code",
   "execution_count": 1,
   "metadata": {},
   "outputs": [],
   "source": [
    "list2 = [1,0,4,'name',2.0,{'id':1, 'stu_name':'vicky','class':10},{'id':3, 'stu_name':'ram','class':11}]"
   ]
  },
  {
   "cell_type": "code",
   "execution_count": 6,
   "metadata": {},
   "outputs": [
    {
     "name": "stdout",
     "output_type": "stream",
     "text": [
      "[1, 0, 4, 'name', 2.0, {'id': 1, 'stu_name': 'vicky', 'class': 10}, {'id': 3, 'stu_name': 'ram', 'class': 11}]\n"
     ]
    }
   ],
   "source": [
    "list3 = []\n",
    "for g in list2:\n",
    "    list3.append(g)\n",
    "print(list3)"
   ]
  },
  {
   "cell_type": "code",
   "execution_count": 7,
   "metadata": {},
   "outputs": [
    {
     "name": "stdout",
     "output_type": "stream",
     "text": [
      "[1, 0, 4, 'name', 2.0, {'id': 1, 'stu_name': 'vicky', 'class': 10}, {'id': 3, 'stu_name': 'ram', 'class': 11}]\n"
     ]
    }
   ],
   "source": [
    "print(list3)   #  list3 store value and you are use it any point "
   ]
  },
  {
   "cell_type": "code",
   "execution_count": 15,
   "metadata": {},
   "outputs": [
    {
     "name": "stdout",
     "output_type": "stream",
     "text": [
      "<class 'str'>\n",
      "<class 'str'>\n",
      "ram\n"
     ]
    }
   ],
   "source": [
    "list4 = [{'id':1, 'stu_name':'vicky','class':10},{'id':3, 'stu_name':'ram','class':11}]\n",
    "for h in list4:\n",
    "    i = h['stu_name']  #  yha pr i variable me dict key value assin ho rahi hai correct vairiable assine line \n",
    "#     print(type(i))\n",
    "#     print(i)\n",
    "print(i)            # agar variable i ko for loop se bhar ya scope se bhar print karate hai to last value hi print hoti hai"
   ]
  },
  {
   "cell_type": "code",
   "execution_count": null,
   "metadata": {},
   "outputs": [],
   "source": []
  }
 ],
 "metadata": {
  "kernelspec": {
   "display_name": "Python 3",
   "language": "python",
   "name": "python3"
  },
  "language_info": {
   "codemirror_mode": {
    "name": "ipython",
    "version": 3
   },
   "file_extension": ".py",
   "mimetype": "text/x-python",
   "name": "python",
   "nbconvert_exporter": "python",
   "pygments_lexer": "ipython3",
   "version": "3.8.5"
  }
 },
 "nbformat": 4,
 "nbformat_minor": 4
}
