{
 "cells": [
  {
   "cell_type": "markdown",
   "metadata": {},
   "source": [
    "#   Fandamental Interview Questions"
   ]
  },
  {
   "cell_type": "code",
   "execution_count": null,
   "metadata": {},
   "outputs": [],
   "source": []
  },
  {
   "cell_type": "raw",
   "metadata": {},
   "source": [
    "Q 1. what is prime no \n",
    "\n",
    "Ans. A number that can be divided exactly only by itself and 1"
   ]
  },
  {
   "cell_type": "code",
   "execution_count": 1,
   "metadata": {},
   "outputs": [
    {
     "name": "stdout",
     "output_type": "stream",
     "text": [
      "Enter number:- 7\n",
      "Yes this is prime Number 7\n"
     ]
    }
   ],
   "source": [
    "number = int(input(\"Enter number:- \"))\n",
    "for i in range (2,number):\n",
    "    if number % i==0:\n",
    "        print (\"This is not Prime Number \",number)\n",
    "        break\n",
    "else :\n",
    "    print(\"Yes this is prime Number\",number)"
   ]
  },
  {
   "cell_type": "code",
   "execution_count": null,
   "metadata": {},
   "outputs": [],
   "source": []
  },
  {
   "cell_type": "raw",
   "metadata": {},
   "source": [
    "Q 2. WAP  for a reverce a string"
   ]
  },
  {
   "cell_type": "code",
   "execution_count": 36,
   "metadata": {},
   "outputs": [
    {
     "name": "stdout",
     "output_type": "stream",
     "text": [
      "aidni ym evol i\n"
     ]
    }
   ],
   "source": [
    "str1 = \"i love my india\"\n",
    "print(str1[::-1])"
   ]
  },
  {
   "cell_type": "code",
   "execution_count": 37,
   "metadata": {},
   "outputs": [],
   "source": [
    "# revers string using for loop"
   ]
  },
  {
   "cell_type": "code",
   "execution_count": 52,
   "metadata": {},
   "outputs": [
    {
     "name": "stdout",
     "output_type": "stream",
     "text": [
      "l\n",
      "ol\n",
      "vol\n",
      "evol\n",
      "carrect scope :- evol\n"
     ]
    }
   ],
   "source": [
    "str1 = \"love\"\n",
    "str2 = \"\"\n",
    "for i in str1:\n",
    "    str2 = i + str2\n",
    "    print(str2)     # scope problam\n",
    "print(\"carrect scope :-\",str2)"
   ]
  },
  {
   "cell_type": "code",
   "execution_count": 57,
   "metadata": {},
   "outputs": [
    {
     "data": {
      "text/plain": [
       "['i', 'love', 'my', 'india']"
      ]
     },
     "execution_count": 57,
     "metadata": {},
     "output_type": "execute_result"
    }
   ],
   "source": [
    "str3 = \"i love my india\"\n",
    "str3.split()"
   ]
  },
  {
   "cell_type": "code",
   "execution_count": 116,
   "metadata": {},
   "outputs": [
    {
     "name": "stdout",
     "output_type": "stream",
     "text": [
      "*\n"
     ]
    }
   ],
   "source": [
    "Str4 = \"   \"\n",
    "if str4.lstrip( ) :\n",
    "    print(\"*\")\n",
    "else:\n",
    "    print(\"45\")"
   ]
  },
  {
   "cell_type": "code",
   "execution_count": null,
   "metadata": {},
   "outputs": [],
   "source": []
  },
  {
   "cell_type": "raw",
   "metadata": {},
   "source": [
    "Q 3. WAP for reverce the order of  words in given sentens   \"  i love my india\"  ans \"india my love i \""
   ]
  },
  {
   "cell_type": "code",
   "execution_count": 2,
   "metadata": {},
   "outputs": [
    {
     "name": "stdout",
     "output_type": "stream",
     "text": [
      "<class 'list'>\n",
      "['india', 'my', 'love', 'i']\n",
      "india my love i\n"
     ]
    }
   ],
   "source": [
    "str2 = \"i love my india\"\n",
    "a=str2.split()\n",
    "print(type(a))\n",
    "a.reverse()\n",
    "print(a)\n",
    "result = ' '.join(a)\n",
    "print(result)\n"
   ]
  },
  {
   "cell_type": "raw",
   "metadata": {},
   "source": [
    "Q 4. WAP for cunt A to Z  charecter in given sentence"
   ]
  },
  {
   "cell_type": "code",
   "execution_count": 15,
   "metadata": {},
   "outputs": [
    {
     "name": "stdout",
     "output_type": "stream",
     "text": [
      "this is ascii no :  a 97\n",
      "this is ascii no :  b 98\n",
      "this is ascii no :  c 99\n",
      "this is ascii no :  d 100\n",
      "this is ascii no :  e 101\n",
      "this is ascii no :  f 102\n",
      "this is ascii no :  g 103\n",
      "this is ascii no :  h 104\n",
      "this is ascii no :  i 105\n",
      "this is ascii no :  l 108\n",
      "this is ascii no :  m 109\n",
      "this is ascii no :  n 110\n",
      "this is ascii no :  o 111\n",
      "this is ascii no :  p 112\n",
      "this is ascii no :  q 113\n",
      "this is ascii no :  r 114\n",
      "this is ascii no :  s 115\n",
      "this is ascii no :  t 116\n",
      "this is ascii no :  v 118\n",
      "this is ascii no :  w 119\n",
      "this is ascii no :  x 120\n",
      "this is ascii no :  y 121\n",
      "this is ascii no :  z 122\n"
     ]
    }
   ],
   "source": [
    "# what is ascii no \n",
    "\n",
    "str4 = \"abcdefghilmnopqrstvwxyz\"\n",
    "for i in str4 :\n",
    "    print(\"this is ascii no : \",i ,ord(i))\n"
   ]
  },
  {
   "cell_type": "code",
   "execution_count": 4,
   "metadata": {},
   "outputs": [
    {
     "ename": "SyntaxError",
     "evalue": "unexpected EOF while parsing (<ipython-input-4-a54a647d17ea>, line 11)",
     "output_type": "error",
     "traceback": [
      "\u001b[1;36m  File \u001b[1;32m\"<ipython-input-4-a54a647d17ea>\"\u001b[1;36m, line \u001b[1;32m11\u001b[0m\n\u001b[1;33m    \u001b[0m\n\u001b[1;37m    ^\u001b[0m\n\u001b[1;31mSyntaxError\u001b[0m\u001b[1;31m:\u001b[0m unexpected EOF while parsing\n"
     ]
    }
   ],
   "source": [
    "s = input(\"Enter str\")\n",
    "s1 = \"\"\n",
    "count =0\n",
    "for i in range(97,123):\n",
    "    for h in s:\n",
    "        print(h)\n",
    "        if i in s1 :\n",
    "            count = count + 1\n",
    "    print(i,chr(int(count))\n",
    "        \n",
    "        "
   ]
  },
  {
   "cell_type": "code",
   "execution_count": null,
   "metadata": {},
   "outputs": [],
   "source": []
  },
  {
   "cell_type": "code",
   "execution_count": null,
   "metadata": {},
   "outputs": [],
   "source": []
  },
  {
   "cell_type": "code",
   "execution_count": 86,
   "metadata": {},
   "outputs": [
    {
     "name": "stdout",
     "output_type": "stream",
     "text": [
      "a\n",
      "z\n",
      "c\n",
      "o\n",
      "s\n",
      "b\n"
     ]
    }
   ],
   "source": [
    "v = 97,122,99,111,115,98\n",
    "for i in v :\n",
    "    print(chr(i))"
   ]
  },
  {
   "cell_type": "code",
   "execution_count": 97,
   "metadata": {},
   "outputs": [
    {
     "name": "stdout",
     "output_type": "stream",
     "text": [
      "u\n",
      "i\n",
      "h\n",
      "f\n",
      "u\n",
      "i\n",
      "e\n",
      "n\n",
      "f\n",
      "j\n",
      "h\n",
      "f\n",
      "g\n",
      "u\n",
      "e\n",
      "u\n",
      "f\n",
      "d\n",
      "j\n",
      "v\n",
      "b\n",
      "d\n",
      "i\n",
      "i\n",
      "u\n",
      "f\n",
      "e\n",
      "w\n",
      "o\n",
      "i\n",
      "w\n",
      "p\n",
      "q\n",
      "k\n",
      "e\n",
      "l\n",
      "a\n",
      "d\n",
      "m\n",
      "d\n",
      "m\n",
      "k\n",
      "s\n",
      "n\n",
      "j\n",
      "k\n",
      "a\n",
      "a\n",
      "k\n",
      "j\n",
      "f\n",
      "i\n",
      "o\n",
      "e\n",
      "f\n",
      "j\n",
      "d\n",
      "k\n",
      "l\n",
      "m\n",
      "d\n",
      "i\n",
      "o\n",
      "s\n",
      "j\n",
      "f\n",
      "o\n",
      "i\n",
      "e\n",
      "f\n"
     ]
    }
   ],
   "source": [
    "str4 = \"uihfuienfjhfgueufdjvbdiiufewoiwpqkeladmdmksnjkaakjfioefjdklmdiosjfoief\"\n",
    "for i in str4:\n",
    "    \n",
    "        \n",
    "         "
   ]
  },
  {
   "cell_type": "raw",
   "metadata": {},
   "source": [
    "Q.5  WAP for print * sterctures"
   ]
  },
  {
   "cell_type": "code",
   "execution_count": 107,
   "metadata": {},
   "outputs": [
    {
     "name": "stdout",
     "output_type": "stream",
     "text": [
      "\n",
      "*\n",
      "**\n",
      "***\n",
      "****\n"
     ]
    }
   ],
   "source": [
    "for row in range(5):\n",
    "    for column in range(row):\n",
    "        print(\"*\",end=\"\")\n",
    "    print()"
   ]
  },
  {
   "cell_type": "code",
   "execution_count": 110,
   "metadata": {},
   "outputs": [
    {
     "name": "stdout",
     "output_type": "stream",
     "text": [
      "*****\n",
      "****\n",
      "***\n",
      "**\n",
      "*\n",
      "\n"
     ]
    }
   ],
   "source": [
    "for row in range(6,0,-1):\n",
    "    for i in range(1,row,+1):\n",
    "        print(\"*\",end=\"\")\n",
    "    print()"
   ]
  },
  {
   "cell_type": "code",
   "execution_count": 126,
   "metadata": {},
   "outputs": [
    {
     "name": "stdout",
     "output_type": "stream",
     "text": [
      "      \n",
      "     3\n",
      "    33\n",
      "   333\n",
      "  3333\n",
      " 33333\n"
     ]
    }
   ],
   "source": [
    "for row in range(6):\n",
    "    for i in range(6-row):\n",
    "        print(\" \",end=\"\")\n",
    "    for j in range(row):\n",
    "        print(\"3\",end=\"\")\n",
    "    print()    \n",
    "        "
   ]
  },
  {
   "cell_type": "code",
   "execution_count": 136,
   "metadata": {},
   "outputs": [
    {
     "name": "stdout",
     "output_type": "stream",
     "text": [
      "      \n",
      "     3\n",
      "    333\n",
      "   33333\n",
      "  3333333\n",
      " 333333333\n"
     ]
    }
   ],
   "source": [
    "for row in range(6):\n",
    "    for i in range(6-row):\n",
    "        print(\" \",end=\"\")\n",
    "    for j in range(2*row-1):\n",
    "        print(\"3\",end=\"\")\n",
    "    print()"
   ]
  },
  {
   "cell_type": "code",
   "execution_count": 142,
   "metadata": {},
   "outputs": [
    {
     "name": "stdout",
     "output_type": "stream",
     "text": [
      "      \n",
      "     3\n",
      "    333\n",
      "   33333\n",
      "  3333333\n",
      " 333333333\n",
      "33333333333\n",
      " 333333333\n",
      "  3333333\n",
      "   33333\n",
      "    333\n",
      "     3\n"
     ]
    }
   ],
   "source": [
    "for row in range(6):\n",
    "    for i in range(6-row):\n",
    "        print(\" \",end=\"\")\n",
    "    for j in range(2*row-1):\n",
    "        print(\"3\",end=\"\")\n",
    "    print()    \n",
    "for row2 in range(6,0,-1):        \n",
    "    for s in range(6-row2):\n",
    "        print(\" \",end=\"\")\n",
    "    for h in range(2*row2-1):\n",
    "        print(\"3\",end=\"\")\n",
    "    print()"
   ]
  },
  {
   "cell_type": "raw",
   "metadata": {},
   "source": [
    "Q .  what is palindrom no \n",
    "Ans. A polyandrome no which  come back when reversed \n",
    "Exa :- 252, 555 , 232\n",
    "\n",
    "Q 6. WAP for palindrom no"
   ]
  },
  {
   "cell_type": "code",
   "execution_count": 155,
   "metadata": {},
   "outputs": [
    {
     "name": "stdout",
     "output_type": "stream",
     "text": [
      "Enter no :- 234\n",
      "it is not polindrome no :=  234\n"
     ]
    }
   ],
   "source": [
    "num = int(input(\"Enter no :- \"))\n",
    "rev = 0\n",
    "v = num\n",
    "while (num>0):\n",
    "    rev = (rev*10)+num%10\n",
    "    num=num//10\n",
    "if v == rev:\n",
    "    print(\"it is polindrome no :=\",v)\n",
    "else:\n",
    "    print(\"it is not polindrome no := \",v)"
   ]
  },
  {
   "cell_type": "raw",
   "metadata": {},
   "source": [
    "Q 7. wap reverse no"
   ]
  },
  {
   "cell_type": "code",
   "execution_count": null,
   "metadata": {},
   "outputs": [
    {
     "name": "stdout",
     "output_type": "stream",
     "text": [
      "Enter no :- 234\n"
     ]
    }
   ],
   "source": [
    "num = int(input(\"Enter no :- \"))\n",
    "rev = 0\n",
    "while (num>0):\n",
    "    rev = num%10\n",
    "print(rev)\n",
    " #   num=num//10\n",
    "#print(\"this is :- \",rev)    "
   ]
  },
  {
   "cell_type": "raw",
   "metadata": {},
   "source": [
    "Q 8. WAP for armstrongn no\n",
    "\n",
    "kisi shankya ka quab nikal kar add karne pr agar same no aate hai use armstrong no kahte hai"
   ]
  },
  {
   "cell_type": "code",
   "execution_count": 158,
   "metadata": {},
   "outputs": [
    {
     "name": "stdout",
     "output_type": "stream",
     "text": [
      "Enter no :- 153\n",
      "27\n",
      "152\n",
      "153\n",
      "this is armstrongn no :-  153\n"
     ]
    }
   ],
   "source": [
    "num = int(input(\"Enter no :- \"))\n",
    "sum = 0\n",
    "orig = num\n",
    "while (num>0):\n",
    "    sum = sum+(num%10)*(num%10)*(num%10)\n",
    "    num = num//10\n",
    "#    print(sum)\n",
    "if orig == sum :\n",
    "    print(\"this is armstrongn no :- \",orig)\n",
    "else:\n",
    "    print(\"this is not armstrongn no :- \",orig)"
   ]
  },
  {
   "cell_type": "code",
   "execution_count": null,
   "metadata": {},
   "outputs": [],
   "source": []
  },
  {
   "cell_type": "code",
   "execution_count": 163,
   "metadata": {},
   "outputs": [
    {
     "name": "stdout",
     "output_type": "stream",
     "text": [
      " \n",
      " \n",
      " \n",
      " \n",
      " \n",
      " \n",
      " \n",
      " \n",
      " \n",
      " \n",
      " \n",
      " \n",
      " \n",
      " \n",
      " \n",
      " \n"
     ]
    }
   ],
   "source": [
    "a = \" i love my india\"\n",
    "for i in a :\n",
    "    if i == \" \":\n",
    "        x = i.capitalize()\n",
    "    print(x)\n",
    "        "
   ]
  },
  {
   "cell_type": "code",
   "execution_count": 161,
   "metadata": {},
   "outputs": [
    {
     "name": "stdout",
     "output_type": "stream",
     "text": [
      "I love my india\n"
     ]
    }
   ],
   "source": [
    "a = \"i love my india\"\n",
    "x = a.capitalize()\n",
    "print(x)"
   ]
  },
  {
   "cell_type": "code",
   "execution_count": 171,
   "metadata": {},
   "outputs": [
    {
     "name": "stdout",
     "output_type": "stream",
     "text": [
      "[(50, 'Python'), ('JournalDev', 100), (45, 'vicky')]\n"
     ]
    }
   ],
   "source": [
    "lst = [50,\"Python\",\"JournalDev\",100,45,\"vicky\",70]\n",
    "lst_tuple = [x for x in zip(*[iter(lst)]*2)]\n",
    "print(lst_tuple)"
   ]
  },
  {
   "cell_type": "code",
   "execution_count": null,
   "metadata": {},
   "outputs": [],
   "source": []
  },
  {
   "cell_type": "markdown",
   "metadata": {},
   "source": [
    "# Array in python"
   ]
  },
  {
   "cell_type": "code",
   "execution_count": null,
   "metadata": {},
   "outputs": [],
   "source": []
  },
  {
   "cell_type": "code",
   "execution_count": 175,
   "metadata": {},
   "outputs": [
    {
     "name": "stdout",
     "output_type": "stream",
     "text": [
      "3\n"
     ]
    }
   ],
   "source": [
    "import array\n",
    "aaa = array.array('i',[1,3,2,4,6])\n",
    "print(aaa[1])"
   ]
  },
  {
   "cell_type": "code",
   "execution_count": 2,
   "metadata": {},
   "outputs": [
    {
     "data": {
      "text/plain": [
       "4"
      ]
     },
     "execution_count": 2,
     "metadata": {},
     "output_type": "execute_result"
    }
   ],
   "source": [
    "34%10"
   ]
  },
  {
   "cell_type": "code",
   "execution_count": 3,
   "metadata": {},
   "outputs": [
    {
     "data": {
      "text/plain": [
       "99.0"
      ]
     },
     "execution_count": 3,
     "metadata": {},
     "output_type": "execute_result"
    }
   ],
   "source": [
    "a = 990\n",
    "a/10"
   ]
  },
  {
   "cell_type": "code",
   "execution_count": 4,
   "metadata": {},
   "outputs": [
    {
     "data": {
      "text/plain": [
       "3"
      ]
     },
     "execution_count": 4,
     "metadata": {},
     "output_type": "execute_result"
    }
   ],
   "source": [
    "43%10"
   ]
  },
  {
   "cell_type": "code",
   "execution_count": 5,
   "metadata": {},
   "outputs": [
    {
     "data": {
      "text/plain": [
       "4.3"
      ]
     },
     "execution_count": 5,
     "metadata": {},
     "output_type": "execute_result"
    }
   ],
   "source": [
    "43/10"
   ]
  },
  {
   "cell_type": "code",
   "execution_count": 6,
   "metadata": {},
   "outputs": [
    {
     "data": {
      "text/plain": [
       "0.0"
      ]
     },
     "execution_count": 6,
     "metadata": {},
     "output_type": "execute_result"
    }
   ],
   "source": [
    "4.3//10"
   ]
  },
  {
   "cell_type": "code",
   "execution_count": 7,
   "metadata": {},
   "outputs": [
    {
     "data": {
      "text/plain": [
       "4"
      ]
     },
     "execution_count": 7,
     "metadata": {},
     "output_type": "execute_result"
    }
   ],
   "source": [
    "43//10"
   ]
  },
  {
   "cell_type": "code",
   "execution_count": 10,
   "metadata": {},
   "outputs": [
    {
     "name": "stdout",
     "output_type": "stream",
     "text": [
      "cba\n"
     ]
    }
   ],
   "source": [
    "s=''\n",
    "for  i in \"abc\":\n",
    "    s=i+s\n",
    "print(s)"
   ]
  },
  {
   "cell_type": "markdown",
   "metadata": {},
   "source": [
    "# list operations"
   ]
  },
  {
   "cell_type": "code",
   "execution_count": 13,
   "metadata": {},
   "outputs": [
    {
     "name": "stdout",
     "output_type": "stream",
     "text": [
      "['vicky', 'sona', 'jai shree ram']\n"
     ]
    }
   ],
   "source": [
    "# replace\n",
    "\n",
    "name = ['vicky','sona','ram ji']\n",
    "name[2]=\"jai shree ram\"\n",
    "print(name)\n"
   ]
  },
  {
   "cell_type": "code",
   "execution_count": 16,
   "metadata": {},
   "outputs": [
    {
     "name": "stdout",
     "output_type": "stream",
     "text": [
      "['kartoos', 'vicky', 'kartoos', 'kartoos', 'sona', 'jai shree ram']\n"
     ]
    }
   ],
   "source": [
    "# insert\n",
    "\n",
    "name.insert(0,\"kartoos\")\n",
    "print(name)"
   ]
  },
  {
   "cell_type": "code",
   "execution_count": 17,
   "metadata": {},
   "outputs": [
    {
     "name": "stdout",
     "output_type": "stream",
     "text": [
      "['jai shree ram', 'kartoos', 'kartoos', 'kartoos', 'sona', 'vicky']\n"
     ]
    }
   ],
   "source": [
    "# sorted\n",
    "\n",
    "name.sort()\n",
    "print(name)"
   ]
  },
  {
   "cell_type": "code",
   "execution_count": 19,
   "metadata": {},
   "outputs": [
    {
     "name": "stdout",
     "output_type": "stream",
     "text": [
      "['jai shree ram', 'kartoos', 'sona', 'vicky']\n"
     ]
    }
   ],
   "source": [
    "# delete\n",
    "\n",
    "del name[1]\n",
    "print(name)"
   ]
  },
  {
   "cell_type": "code",
   "execution_count": 20,
   "metadata": {},
   "outputs": [
    {
     "name": "stdout",
     "output_type": "stream",
     "text": [
      "['jai shree ram', 'kartoos', 'sona', 'vicky', 'lal']\n"
     ]
    }
   ],
   "source": [
    "#  append\n",
    "\n",
    "name.append(\"lal\")\n",
    "print(name)"
   ]
  },
  {
   "cell_type": "markdown",
   "metadata": {},
   "source": [
    "# reverce words in string"
   ]
  },
  {
   "cell_type": "code",
   "execution_count": 12,
   "metadata": {},
   "outputs": [
    {
     "name": "stdout",
     "output_type": "stream",
     "text": [
      "['string', 'your', 'enter']\n",
      "string your enter\n"
     ]
    }
   ],
   "source": [
    "str = \"enter your string\"\n",
    "i = str.split(\" \")\n",
    "g =i[-1::-1]\n",
    "print(g)\n",
    "v = ' '.join(g)\n",
    "print(v)"
   ]
  },
  {
   "cell_type": "markdown",
   "metadata": {},
   "source": [
    "# selary question"
   ]
  },
  {
   "cell_type": "code",
   "execution_count": 1,
   "metadata": {},
   "outputs": [
    {
     "data": {
      "text/plain": [
       "{'name': 'vicky', 'selary': 10000}"
      ]
     },
     "execution_count": 1,
     "metadata": {},
     "output_type": "execute_result"
    }
   ],
   "source": [
    "def user(name,selary=10000):\n",
    "    if selary<10000 or selary > 10000:\n",
    "        return({\"name\":name,\"selary\":selary})\n",
    "    return({\"name\":name,\"selary\":selary})\n",
    "user(name=\"vicky\")"
   ]
  },
  {
   "cell_type": "code",
   "execution_count": null,
   "metadata": {},
   "outputs": [],
   "source": []
  },
  {
   "cell_type": "markdown",
   "metadata": {},
   "source": [
    "# as list ko dic me key bana sakte hai ya nhi"
   ]
  },
  {
   "cell_type": "code",
   "execution_count": 2,
   "metadata": {},
   "outputs": [
    {
     "ename": "TypeError",
     "evalue": "unhashable type: 'list'",
     "output_type": "error",
     "traceback": [
      "\u001b[1;31m---------------------------------------------------------------------------\u001b[0m",
      "\u001b[1;31mTypeError\u001b[0m                                 Traceback (most recent call last)",
      "\u001b[1;32m<ipython-input-2-c8dd2e424ad7>\u001b[0m in \u001b[0;36m<module>\u001b[1;34m\u001b[0m\n\u001b[1;32m----> 1\u001b[1;33m \u001b[0mbd\u001b[0m \u001b[1;33m=\u001b[0m \u001b[1;33m{\u001b[0m\u001b[1;33m[\u001b[0m\u001b[1;34m\"vicky\"\u001b[0m\u001b[1;33m,\u001b[0m\u001b[1;36m123\u001b[0m\u001b[1;33m]\u001b[0m\u001b[1;33m:\u001b[0m\u001b[1;34m\"ha bana sakte hai\"\u001b[0m\u001b[1;33m}\u001b[0m\u001b[1;33m\u001b[0m\u001b[1;33m\u001b[0m\u001b[0m\n\u001b[0m\u001b[0;32m      2\u001b[0m \u001b[0mprint\u001b[0m\u001b[1;33m(\u001b[0m\u001b[0mbd\u001b[0m\u001b[1;33m)\u001b[0m\u001b[1;33m\u001b[0m\u001b[1;33m\u001b[0m\u001b[0m\n",
      "\u001b[1;31mTypeError\u001b[0m: unhashable type: 'list'"
     ]
    }
   ],
   "source": [
    "bd = {[\"vicky\",123]:\"ha bana sakte hai\"}\n",
    "print(bd)"
   ]
  },
  {
   "cell_type": "code",
   "execution_count": null,
   "metadata": {},
   "outputs": [],
   "source": []
  },
  {
   "cell_type": "code",
   "execution_count": null,
   "metadata": {},
   "outputs": [],
   "source": []
  },
  {
   "cell_type": "code",
   "execution_count": null,
   "metadata": {},
   "outputs": [],
   "source": []
  },
  {
   "cell_type": "code",
   "execution_count": 10,
   "metadata": {},
   "outputs": [
    {
     "ename": "TypeError",
     "evalue": "list indices must be integers or slices, not str",
     "output_type": "error",
     "traceback": [
      "\u001b[1;31m---------------------------------------------------------------------------\u001b[0m",
      "\u001b[1;31mTypeError\u001b[0m                                 Traceback (most recent call last)",
      "\u001b[1;32m<ipython-input-10-edc946a9dd6a>\u001b[0m in \u001b[0;36m<module>\u001b[1;34m\u001b[0m\n\u001b[0;32m      1\u001b[0m \u001b[0ma\u001b[0m \u001b[1;33m=\u001b[0m \u001b[1;33m[\u001b[0m\u001b[1;33m{\u001b[0m\u001b[1;34m\"name\"\u001b[0m\u001b[1;33m:\u001b[0m\u001b[1;34m\"vicky\"\u001b[0m\u001b[1;33m,\u001b[0m\u001b[1;34m\"age\"\u001b[0m\u001b[1;33m:\u001b[0m\u001b[1;36m21\u001b[0m\u001b[1;33m,\u001b[0m\u001b[1;34m\"gender\"\u001b[0m\u001b[1;33m:\u001b[0m\u001b[1;34m\"male\"\u001b[0m\u001b[1;33m}\u001b[0m\u001b[1;33m,\u001b[0m\u001b[1;33m{\u001b[0m\u001b[1;34m\"name\"\u001b[0m\u001b[1;33m:\u001b[0m\u001b[1;34m\"Ram\"\u001b[0m\u001b[1;33m,\u001b[0m\u001b[1;34m\"gender\"\u001b[0m\u001b[1;33m:\u001b[0m\u001b[1;34m\"male\"\u001b[0m\u001b[1;33m}\u001b[0m\u001b[1;33m]\u001b[0m\u001b[1;33m\u001b[0m\u001b[1;33m\u001b[0m\u001b[0m\n\u001b[0;32m      2\u001b[0m \u001b[0mlist2\u001b[0m \u001b[1;33m=\u001b[0m \u001b[1;33m[\u001b[0m\u001b[1;33m]\u001b[0m\u001b[1;33m\u001b[0m\u001b[1;33m\u001b[0m\u001b[0m\n\u001b[1;32m----> 3\u001b[1;33m \u001b[0mprint\u001b[0m\u001b[1;33m(\u001b[0m\u001b[0ma\u001b[0m\u001b[1;33m[\u001b[0m\u001b[1;34m\"age\"\u001b[0m\u001b[1;33m]\u001b[0m\u001b[1;33m)\u001b[0m\u001b[1;33m\u001b[0m\u001b[1;33m\u001b[0m\u001b[0m\n\u001b[0m\u001b[0;32m      4\u001b[0m \u001b[1;31m# for i3 in a:\u001b[0m\u001b[1;33m\u001b[0m\u001b[1;33m\u001b[0m\u001b[1;33m\u001b[0m\u001b[0m\n\u001b[0;32m      5\u001b[0m \u001b[1;31m#     if a[\"age\"] > 20 :\u001b[0m\u001b[1;33m\u001b[0m\u001b[1;33m\u001b[0m\u001b[1;33m\u001b[0m\u001b[0m\n",
      "\u001b[1;31mTypeError\u001b[0m: list indices must be integers or slices, not str"
     ]
    }
   ],
   "source": [
    "a = [{\"name\":\"vicky\",\"age\":21,\"gender\":\"male\"},{\"name\":\"Ram\",\"gender\":\"male\"}]\n",
    "list2 = []\n",
    "print([\"age\"])\n",
    "# for i3 in a:\n",
    "#     if a[\"age\"] > 20 :\n",
    "#         data = a[\"age\"]\n",
    "#         list2.append(data)\n",
    "# print(list2)"
   ]
  },
  {
   "cell_type": "code",
   "execution_count": 15,
   "metadata": {},
   "outputs": [
    {
     "name": "stdout",
     "output_type": "stream",
     "text": [
      "nothin age your mantion to uper\n",
      "[23]\n"
     ]
    }
   ],
   "source": [
    "a = [{\"name\":\"vicky\",\"gender\":\"male\"},{\"name\":\"Ram\",\"age\":12,\"gender\":\"male\"},{\"name\":\"lal\",\"age\":23,\"gender\":\"male\"}]\n",
    "list2 = []\n",
    "# print(a[\"age\"])\n",
    "for i3 in a:\n",
    "   # print(i3)\n",
    "#     data23 = i3['age']\n",
    "   # print(data23)\n",
    "    try:\n",
    "        if i3['age'] > 20:\n",
    "           # print(\"yes\")\n",
    "            list2.append(i3['age'])\n",
    "           # print(list2)\n",
    "        else:\n",
    "            pass\n",
    "           # print(\"nothin age your mantion to uper\")\n",
    "    except KeyError:\n",
    "        pass\n",
    "#         print(\"this key not there\")\n",
    "print(list2)"
   ]
  },
  {
   "cell_type": "code",
   "execution_count": null,
   "metadata": {},
   "outputs": [],
   "source": []
  },
  {
   "cell_type": "code",
   "execution_count": null,
   "metadata": {},
   "outputs": [],
   "source": []
  },
  {
   "cell_type": "code",
   "execution_count": 4,
   "metadata": {},
   "outputs": [
    {
     "name": "stdout",
     "output_type": "stream",
     "text": [
      "[1, 9, 25, 49]\n"
     ]
    }
   ],
   "source": [
    "a1 = [1,3,5,7]\n",
    "a2 = []\n",
    "for ele in a1:\n",
    "    data1 = ele ** 2\n",
    "    a2.append(data1)\n",
    "print(a2)"
   ]
  },
  {
   "cell_type": "code",
   "execution_count": null,
   "metadata": {},
   "outputs": [],
   "source": [
    "lambda a1 : "
   ]
  },
  {
   "cell_type": "code",
   "execution_count": null,
   "metadata": {},
   "outputs": [],
   "source": [
    "# Q. wap can use lambda function so a list element one by one squire output\n",
    "# a1 = [1,3,5,7]  output ==> [1, 9, 25, 49]\n"
   ]
  },
  {
   "cell_type": "code",
   "execution_count": 8,
   "metadata": {},
   "outputs": [
    {
     "name": "stdout",
     "output_type": "stream",
     "text": [
      "[1, 9, 25, 49]\n"
     ]
    }
   ],
   "source": [
    "# ANS \n",
    "\n",
    "a1 = [1,3,5,7]\n",
    "new = list(map(lambda x : x ** 2,a1))\n",
    "print(new)"
   ]
  },
  {
   "cell_type": "code",
   "execution_count": null,
   "metadata": {},
   "outputs": [],
   "source": []
  },
  {
   "cell_type": "code",
   "execution_count": 3,
   "metadata": {},
   "outputs": [],
   "source": [
    "# Q. wap given string in count of words \n",
    "str25 = \"In Brazil they drive on the right-hand side of the road. Brazil has a large coastline on the eastern side of South America\""
   ]
  },
  {
   "cell_type": "code",
   "execution_count": 13,
   "metadata": {},
   "outputs": [
    {
     "name": "stdout",
     "output_type": "stream",
     "text": [
      "0\n",
      "1\n",
      "2\n",
      "3\n",
      "4\n",
      "5\n",
      "6\n",
      "7\n",
      "8\n",
      "9\n",
      "10\n",
      "11\n",
      "12\n",
      "13\n",
      "14\n",
      "15\n",
      "16\n",
      "17\n",
      "18\n",
      "19\n",
      "20\n",
      "21\n",
      "22\n",
      "23\n",
      "24\n",
      "25\n",
      "26\n",
      "27\n",
      "28\n",
      "29\n",
      "30\n",
      "31\n",
      "32\n",
      "33\n",
      "34\n",
      "35\n",
      "36\n",
      "37\n",
      "38\n",
      "39\n",
      "40\n",
      "41\n",
      "42\n",
      "43\n",
      "44\n",
      "45\n",
      "46\n",
      "47\n",
      "48\n",
      "49\n",
      "50\n",
      "51\n",
      "52\n",
      "53\n",
      "54\n",
      "55\n",
      "56\n",
      "57\n",
      "58\n",
      "59\n",
      "60\n",
      "61\n",
      "62\n",
      "63\n",
      "64\n",
      "65\n",
      "66\n",
      "67\n",
      "68\n",
      "69\n",
      "70\n",
      "71\n",
      "72\n",
      "73\n",
      "74\n",
      "75\n",
      "76\n",
      "77\n",
      "78\n",
      "79\n",
      "80\n",
      "81\n",
      "82\n",
      "83\n",
      "84\n",
      "85\n",
      "86\n",
      "87\n",
      "88\n",
      "89\n",
      "90\n",
      "91\n",
      "92\n",
      "93\n",
      "94\n",
      "95\n",
      "96\n",
      "97\n",
      "98\n",
      "99\n",
      "100\n",
      "101\n",
      "102\n",
      "103\n",
      "104\n",
      "105\n",
      "106\n",
      "107\n",
      "108\n",
      "109\n",
      "110\n",
      "111\n",
      "112\n",
      "113\n",
      "114\n",
      "115\n",
      "116\n",
      "117\n",
      "118\n",
      "119\n",
      "120\n",
      "121\n"
     ]
    }
   ],
   "source": [
    "# ANS \n",
    "\n",
    "for i5 in range(len(str25)):\n",
    "    print(i5)\n",
    "    \n"
   ]
  },
  {
   "cell_type": "code",
   "execution_count": 1,
   "metadata": {},
   "outputs": [
    {
     "name": "stdout",
     "output_type": "stream",
     "text": [
      "Please Enter your Own String : hi i am vikash kumar saini and you lagur, hello and you are mad vikash\n",
      "Total Number of Words in this String =  15\n"
     ]
    }
   ],
   "source": [
    "# count of word in string \n",
    "\n",
    "str1 = input(\"Please Enter your Own String : \")\n",
    "total = 1\n",
    "\n",
    "for i in range(len(str1)):\n",
    "    \n",
    "    if(str1[i] == ' ' or str1 == '\\n' or str1 == '\\t'):\n",
    "        total = total + 1\n",
    "\n",
    "print(\"Total Number of Words in this String = \", total)\n",
    "\n",
    "#  exa :- hi i am vikash kumar saini and you lagur, hello and you are mad vikash"
   ]
  },
  {
   "cell_type": "code",
   "execution_count": null,
   "metadata": {},
   "outputs": [],
   "source": []
  },
  {
   "cell_type": "code",
   "execution_count": null,
   "metadata": {},
   "outputs": [],
   "source": []
  },
  {
   "cell_type": "code",
   "execution_count": null,
   "metadata": {},
   "outputs": [],
   "source": []
  },
  {
   "cell_type": "code",
   "execution_count": null,
   "metadata": {},
   "outputs": [],
   "source": []
  },
  {
   "cell_type": "code",
   "execution_count": null,
   "metadata": {},
   "outputs": [],
   "source": []
  },
  {
   "cell_type": "code",
   "execution_count": null,
   "metadata": {},
   "outputs": [],
   "source": []
  },
  {
   "cell_type": "code",
   "execution_count": null,
   "metadata": {},
   "outputs": [],
   "source": []
  },
  {
   "cell_type": "code",
   "execution_count": null,
   "metadata": {},
   "outputs": [],
   "source": []
  }
 ],
 "metadata": {
  "kernelspec": {
   "display_name": "Python 3",
   "language": "python",
   "name": "python3"
  },
  "language_info": {
   "codemirror_mode": {
    "name": "ipython",
    "version": 3
   },
   "file_extension": ".py",
   "mimetype": "text/x-python",
   "name": "python",
   "nbconvert_exporter": "python",
   "pygments_lexer": "ipython3",
   "version": "3.8.5"
  }
 },
 "nbformat": 4,
 "nbformat_minor": 4
}
